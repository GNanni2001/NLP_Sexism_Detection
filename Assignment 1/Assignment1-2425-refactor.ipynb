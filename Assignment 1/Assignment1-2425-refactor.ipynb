{
 "cells": [
  {
   "cell_type": "markdown",
   "metadata": {
    "id": "qE4WC2_4wygJ"
   },
   "source": [
    "# Assignment 1\n",
    "**Authors:**\n",
    "- **Student 1:**  Michele Carusone, michele.carusone@studio.unibo.it\n",
    "- **Student 2:**  Norberto Casarin, norberto.casarin@studio.unibo.it\n",
    "- **Student 3:**  Antonio Gravina, antonio.gravina@studio.unibo.it\n",
    "- **Student 4:**  Gabriele Nanni, gabriele.nanni4@studio.unibo.it"
   ]
  },
  {
   "cell_type": "markdown",
   "metadata": {},
   "source": [
    "# Weights\n",
    "\n",
    "The weights are available at this link:\n",
    "https://liveunibo-my.sharepoint.com/:f:/g/personal/gabriele_nanni4_studio_unibo_it/EoObM49LyvRNtzSMKxo8mwIBJSkfKZQFxrXwpIzXEwPmyg?e=93gM5s"
   ]
  },
  {
   "cell_type": "markdown",
   "metadata": {
    "id": "2iu1X4I98M8B"
   },
   "source": [
    "# [Task 1 - 1.0 points] Corpus\n",
    "\n",
    "We have preparared a small version of EXIST dataset in our dedicated [Github repository](https://github.com/lt-nlp-lab-unibo/nlp-course-material/tree/main/2024-2025/Assignment%201/data).\n",
    "\n",
    "Check the `A1/data` folder. It contains 3 `.json` files representing `training`, `validation` and `test` sets.\n",
    "\n",
    "The three sets are slightly unbalanced, with a bias toward the `Non-sexist` class.\n",
    "\n"
   ]
  },
  {
   "cell_type": "markdown",
   "metadata": {},
   "source": [
    "First of all we proceed importing the useful libraries for this task."
   ]
  },
  {
   "cell_type": "code",
   "execution_count": 1,
   "metadata": {},
   "outputs": [],
   "source": [
    "import torch\n",
    "import pandas as pd\n",
    "import re\n",
    "import spacy\n",
    "import numpy as np\n",
    "from rapidfuzz import process, fuzz\n",
    "from scipy.spatial.distance import cosine\n",
    "from scipy.stats import mode\n",
    "from torch import nn\n",
    "from torch.utils.data import DataLoader\n",
    "from sklearn.metrics import f1_score\n",
    "from torch import optim\n",
    "import matplotlib.pyplot as plt\n",
    "from torch.utils.data import DataLoader, TensorDataset\n",
    "import random\n",
    "from sklearn.metrics import confusion_matrix\n",
    "import seaborn as sns\n",
    "import matplotlib.pyplot as plt\n",
    "from torch.optim.lr_scheduler import StepLR\n",
    "from huggingface_hub import login\n",
    "from transformers import AutoTokenizer, AutoModelForSequenceClassification, Trainer\n",
    "from datasets import Dataset\n",
    "import evaluate\n",
    "from transformers import TrainingArguments\n",
    "from transformers import Trainer\n",
    "import os"
   ]
  },
  {
   "cell_type": "markdown",
   "metadata": {},
   "source": [
    "Before starting, we check if CUDA is available."
   ]
  },
  {
   "cell_type": "code",
   "execution_count": 2,
   "metadata": {},
   "outputs": [
    {
     "name": "stdout",
     "output_type": "stream",
     "text": [
      "CUDA available: True\n",
      "GPU: NVIDIA GeForce RTX 4060 Laptop GPU\n"
     ]
    }
   ],
   "source": [
    "# Check if CUDA is available\n",
    "cuda_available = torch.cuda.is_available()\n",
    "print(f\"CUDA available: {cuda_available}\")\n",
    "\n",
    "# Get the name of the GPU\n",
    "if cuda_available:\n",
    "    gpu_name = torch.cuda.get_device_name(0)\n",
    "    print(f\"GPU: {gpu_name}\")"
   ]
  },
  {
   "cell_type": "markdown",
   "metadata": {},
   "source": [
    "After downlaoding the data, we load the three JSON files and encode them as pandas dataframes."
   ]
  },
  {
   "cell_type": "code",
   "execution_count": 3,
   "metadata": {},
   "outputs": [],
   "source": [
    "test_df = pd.read_json('data/test.json')\n",
    "training_df = pd.read_json('data/training.json')\n",
    "validation_df = pd.read_json('data/validation.json')"
   ]
  },
  {
   "cell_type": "markdown",
   "metadata": {},
   "source": [
    "Let's explore the data structure of the three sets."
   ]
  },
  {
   "cell_type": "code",
   "execution_count": 4,
   "metadata": {},
   "outputs": [
    {
     "name": "stdout",
     "output_type": "stream",
     "text": [
      "Test data shape: (11, 312)\n",
      "Training data shape: (11, 6920)\n",
      "Validation data shape: (11, 726)\n"
     ]
    }
   ],
   "source": [
    "print('Test data shape:', test_df.shape)\n",
    "print('Training data shape:', training_df.shape)\n",
    "print('Validation data shape:', validation_df.shape)"
   ]
  },
  {
   "cell_type": "markdown",
   "metadata": {},
   "source": [
    "We want to swap the rows with the columns to have a better visualization of the data."
   ]
  },
  {
   "cell_type": "code",
   "execution_count": 5,
   "metadata": {},
   "outputs": [],
   "source": [
    "test_df = test_df.transpose().reset_index(drop=True)\n",
    "training_df = training_df.transpose().reset_index(drop=True)\n",
    "validation_df = validation_df.transpose().reset_index(drop=True)\n",
    "\n",
    "test_df.set_index('id_EXIST', inplace=True)\n",
    "training_df.set_index('id_EXIST', inplace=True)\n",
    "validation_df.set_index('id_EXIST', inplace=True)"
   ]
  },
  {
   "cell_type": "markdown",
   "metadata": {},
   "source": [
    "Let's have a quick look at the first 5 rows of the training set."
   ]
  },
  {
   "cell_type": "code",
   "execution_count": 6,
   "metadata": {},
   "outputs": [
    {
     "data": {
      "text/html": [
       "<div>\n",
       "<style scoped>\n",
       "    .dataframe tbody tr th:only-of-type {\n",
       "        vertical-align: middle;\n",
       "    }\n",
       "\n",
       "    .dataframe tbody tr th {\n",
       "        vertical-align: top;\n",
       "    }\n",
       "\n",
       "    .dataframe thead th {\n",
       "        text-align: right;\n",
       "    }\n",
       "</style>\n",
       "<table border=\"1\" class=\"dataframe\">\n",
       "  <thead>\n",
       "    <tr style=\"text-align: right;\">\n",
       "      <th></th>\n",
       "      <th>lang</th>\n",
       "      <th>tweet</th>\n",
       "      <th>number_annotators</th>\n",
       "      <th>annotators</th>\n",
       "      <th>gender_annotators</th>\n",
       "      <th>age_annotators</th>\n",
       "      <th>labels_task1</th>\n",
       "      <th>labels_task2</th>\n",
       "      <th>labels_task3</th>\n",
       "      <th>split</th>\n",
       "    </tr>\n",
       "    <tr>\n",
       "      <th>id_EXIST</th>\n",
       "      <th></th>\n",
       "      <th></th>\n",
       "      <th></th>\n",
       "      <th></th>\n",
       "      <th></th>\n",
       "      <th></th>\n",
       "      <th></th>\n",
       "      <th></th>\n",
       "      <th></th>\n",
       "      <th></th>\n",
       "    </tr>\n",
       "  </thead>\n",
       "  <tbody>\n",
       "    <tr>\n",
       "      <th>100001</th>\n",
       "      <td>es</td>\n",
       "      <td>@TheChiflis Ignora al otro, es un capullo.El p...</td>\n",
       "      <td>6</td>\n",
       "      <td>[Annotator_1, Annotator_2, Annotator_3, Annota...</td>\n",
       "      <td>[F, F, F, M, M, M]</td>\n",
       "      <td>[18-22, 23-45, 46+, 46+, 23-45, 18-22]</td>\n",
       "      <td>[YES, YES, NO, YES, YES, YES]</td>\n",
       "      <td>[REPORTED, JUDGEMENTAL, -, REPORTED, JUDGEMENT...</td>\n",
       "      <td>[[OBJECTIFICATION], [OBJECTIFICATION, SEXUAL-V...</td>\n",
       "      <td>TRAIN_ES</td>\n",
       "    </tr>\n",
       "    <tr>\n",
       "      <th>100002</th>\n",
       "      <td>es</td>\n",
       "      <td>@ultimonomada_ Si comicsgate se parece en algo...</td>\n",
       "      <td>6</td>\n",
       "      <td>[Annotator_7, Annotator_8, Annotator_9, Annota...</td>\n",
       "      <td>[F, F, F, M, M, M]</td>\n",
       "      <td>[18-22, 23-45, 46+, 46+, 23-45, 18-22]</td>\n",
       "      <td>[NO, NO, NO, NO, YES, NO]</td>\n",
       "      <td>[-, -, -, -, DIRECT, -]</td>\n",
       "      <td>[[-], [-], [-], [-], [OBJECTIFICATION], [-]]</td>\n",
       "      <td>TRAIN_ES</td>\n",
       "    </tr>\n",
       "    <tr>\n",
       "      <th>100003</th>\n",
       "      <td>es</td>\n",
       "      <td>@Steven2897 Lee sobre Gamergate, y como eso ha...</td>\n",
       "      <td>6</td>\n",
       "      <td>[Annotator_7, Annotator_8, Annotator_9, Annota...</td>\n",
       "      <td>[F, F, F, M, M, M]</td>\n",
       "      <td>[18-22, 23-45, 46+, 46+, 23-45, 18-22]</td>\n",
       "      <td>[NO, NO, NO, NO, NO, NO]</td>\n",
       "      <td>[-, -, -, -, -, -]</td>\n",
       "      <td>[[-], [-], [-], [-], [-], [-]]</td>\n",
       "      <td>TRAIN_ES</td>\n",
       "    </tr>\n",
       "    <tr>\n",
       "      <th>100004</th>\n",
       "      <td>es</td>\n",
       "      <td>@Lunariita7 Un retraso social bastante lamenta...</td>\n",
       "      <td>6</td>\n",
       "      <td>[Annotator_13, Annotator_14, Annotator_15, Ann...</td>\n",
       "      <td>[F, F, F, M, M, M]</td>\n",
       "      <td>[18-22, 23-45, 46+, 46+, 23-45, 18-22]</td>\n",
       "      <td>[NO, NO, YES, NO, YES, YES]</td>\n",
       "      <td>[-, -, DIRECT, -, REPORTED, REPORTED]</td>\n",
       "      <td>[[-], [-], [IDEOLOGICAL-INEQUALITY], [-], [IDE...</td>\n",
       "      <td>TRAIN_ES</td>\n",
       "    </tr>\n",
       "    <tr>\n",
       "      <th>100005</th>\n",
       "      <td>es</td>\n",
       "      <td>@novadragon21 @icep4ck @TvDannyZ Entonces como...</td>\n",
       "      <td>6</td>\n",
       "      <td>[Annotator_19, Annotator_20, Annotator_21, Ann...</td>\n",
       "      <td>[F, F, F, M, M, M]</td>\n",
       "      <td>[18-22, 23-45, 46+, 46+, 23-45, 18-22]</td>\n",
       "      <td>[YES, NO, YES, NO, YES, YES]</td>\n",
       "      <td>[REPORTED, -, JUDGEMENTAL, -, JUDGEMENTAL, DIR...</td>\n",
       "      <td>[[STEREOTYPING-DOMINANCE, OBJECTIFICATION], [-...</td>\n",
       "      <td>TRAIN_ES</td>\n",
       "    </tr>\n",
       "  </tbody>\n",
       "</table>\n",
       "</div>"
      ],
      "text/plain": [
       "         lang                                              tweet  \\\n",
       "id_EXIST                                                           \n",
       "100001     es  @TheChiflis Ignora al otro, es un capullo.El p...   \n",
       "100002     es  @ultimonomada_ Si comicsgate se parece en algo...   \n",
       "100003     es  @Steven2897 Lee sobre Gamergate, y como eso ha...   \n",
       "100004     es  @Lunariita7 Un retraso social bastante lamenta...   \n",
       "100005     es  @novadragon21 @icep4ck @TvDannyZ Entonces como...   \n",
       "\n",
       "         number_annotators                                         annotators  \\\n",
       "id_EXIST                                                                        \n",
       "100001                   6  [Annotator_1, Annotator_2, Annotator_3, Annota...   \n",
       "100002                   6  [Annotator_7, Annotator_8, Annotator_9, Annota...   \n",
       "100003                   6  [Annotator_7, Annotator_8, Annotator_9, Annota...   \n",
       "100004                   6  [Annotator_13, Annotator_14, Annotator_15, Ann...   \n",
       "100005                   6  [Annotator_19, Annotator_20, Annotator_21, Ann...   \n",
       "\n",
       "           gender_annotators                          age_annotators  \\\n",
       "id_EXIST                                                               \n",
       "100001    [F, F, F, M, M, M]  [18-22, 23-45, 46+, 46+, 23-45, 18-22]   \n",
       "100002    [F, F, F, M, M, M]  [18-22, 23-45, 46+, 46+, 23-45, 18-22]   \n",
       "100003    [F, F, F, M, M, M]  [18-22, 23-45, 46+, 46+, 23-45, 18-22]   \n",
       "100004    [F, F, F, M, M, M]  [18-22, 23-45, 46+, 46+, 23-45, 18-22]   \n",
       "100005    [F, F, F, M, M, M]  [18-22, 23-45, 46+, 46+, 23-45, 18-22]   \n",
       "\n",
       "                           labels_task1  \\\n",
       "id_EXIST                                  \n",
       "100001    [YES, YES, NO, YES, YES, YES]   \n",
       "100002        [NO, NO, NO, NO, YES, NO]   \n",
       "100003         [NO, NO, NO, NO, NO, NO]   \n",
       "100004      [NO, NO, YES, NO, YES, YES]   \n",
       "100005     [YES, NO, YES, NO, YES, YES]   \n",
       "\n",
       "                                               labels_task2  \\\n",
       "id_EXIST                                                      \n",
       "100001    [REPORTED, JUDGEMENTAL, -, REPORTED, JUDGEMENT...   \n",
       "100002                              [-, -, -, -, DIRECT, -]   \n",
       "100003                                   [-, -, -, -, -, -]   \n",
       "100004                [-, -, DIRECT, -, REPORTED, REPORTED]   \n",
       "100005    [REPORTED, -, JUDGEMENTAL, -, JUDGEMENTAL, DIR...   \n",
       "\n",
       "                                               labels_task3     split  \n",
       "id_EXIST                                                               \n",
       "100001    [[OBJECTIFICATION], [OBJECTIFICATION, SEXUAL-V...  TRAIN_ES  \n",
       "100002         [[-], [-], [-], [-], [OBJECTIFICATION], [-]]  TRAIN_ES  \n",
       "100003                       [[-], [-], [-], [-], [-], [-]]  TRAIN_ES  \n",
       "100004    [[-], [-], [IDEOLOGICAL-INEQUALITY], [-], [IDE...  TRAIN_ES  \n",
       "100005    [[STEREOTYPING-DOMINANCE, OBJECTIFICATION], [-...  TRAIN_ES  "
      ]
     },
     "execution_count": 6,
     "metadata": {},
     "output_type": "execute_result"
    }
   ],
   "source": [
    "training_df.head()"
   ]
  },
  {
   "cell_type": "markdown",
   "metadata": {},
   "source": [
    "We also need to define the labels for the three sets. Since the original dataset uses six annotators, we can use the majority voting to assign the labels. We can use the `mode` function from the `scipy` library. Moreover, YES will be encoded as 1 and NO as 0."
   ]
  },
  {
   "cell_type": "code",
   "execution_count": 7,
   "metadata": {},
   "outputs": [],
   "source": [
    "training_df['labels_task1'] = training_df['labels_task1'].apply(lambda x: [1 if label == 'YES' else 0 for label in x])\n",
    "test_df['labels_task1'] = test_df['labels_task1'].apply(lambda x: [1 if label == 'YES' else 0 for label in x])\n",
    "validation_df['labels_task1'] = validation_df['labels_task1'].apply(lambda x: [1 if label == 'YES' else 0 for label in x])"
   ]
  },
  {
   "cell_type": "code",
   "execution_count": 8,
   "metadata": {},
   "outputs": [],
   "source": [
    "np.random.seed(42)\n",
    "\n",
    "def get_mode(array: list) -> float:\n",
    "    '''\n",
    "    Returns the mode of the given array.\n",
    "\n",
    "    Parameters:\n",
    "    array (list): The array to find the mode for.\n",
    "\n",
    "    Returns:\n",
    "    float: The mode of the array.\n",
    "    '''\n",
    "    mode_result = mode(array)\n",
    "    return mode_result\n",
    "\n",
    "training_df['hard_label_task1'] = training_df['labels_task1'].apply(get_mode)\n",
    "test_df['hard_label_task1'] = test_df['labels_task1'].apply(get_mode)\n",
    "validation_df['hard_label_task1'] = validation_df['labels_task1'].apply(get_mode)"
   ]
  },
  {
   "cell_type": "markdown",
   "metadata": {},
   "source": [
    "We delete the rows with no clear majority."
   ]
  },
  {
   "cell_type": "code",
   "execution_count": 9,
   "metadata": {},
   "outputs": [],
   "source": [
    "training_df = training_df[training_df['hard_label_task1'].apply(lambda x: x[1] != 3)]\n",
    "test_df = test_df[test_df['hard_label_task1'].apply(lambda x: x[1] != 3)]\n",
    "validation_df = validation_df[validation_df['hard_label_task1'].apply(lambda x: x[1] != 3)]"
   ]
  },
  {
   "cell_type": "markdown",
   "metadata": {},
   "source": [
    "And we do not consider the count of the mode."
   ]
  },
  {
   "cell_type": "code",
   "execution_count": 10,
   "metadata": {},
   "outputs": [],
   "source": [
    "training_df['hard_label_task1'] = training_df['hard_label_task1'].apply(lambda x: x[0])\n",
    "test_df['hard_label_task1'] = test_df['hard_label_task1'].apply(lambda x: x[0])\n",
    "validation_df['hard_label_task1'] = validation_df['hard_label_task1'].apply(lambda x: x[0])"
   ]
  },
  {
   "cell_type": "markdown",
   "metadata": {},
   "source": [
    "We now drop all the non necessary columns."
   ]
  },
  {
   "cell_type": "code",
   "execution_count": 11,
   "metadata": {},
   "outputs": [],
   "source": [
    "training_df = training_df.drop(['number_annotators', 'annotators', 'gender_annotators', 'age_annotators', 'labels_task1', 'labels_task2', 'labels_task3', 'split'], axis=1)\n",
    "validation_df = validation_df.drop([ 'number_annotators', 'annotators', 'gender_annotators', 'age_annotators', 'labels_task1', 'labels_task2', 'labels_task3', 'split'], axis=1)\n",
    "test_df = test_df.drop(['number_annotators', 'annotators', 'gender_annotators', 'age_annotators', 'labels_task1', 'labels_task2', 'labels_task3', 'split'], axis=1)"
   ]
  },
  {
   "cell_type": "markdown",
   "metadata": {},
   "source": [
    "We filter tha dataset with only the english tweets."
   ]
  },
  {
   "cell_type": "code",
   "execution_count": 12,
   "metadata": {},
   "outputs": [],
   "source": [
    "en_test_df = test_df[test_df['lang'] == 'en']\n",
    "en_training_df = training_df[training_df['lang'] == 'en']\n",
    "en_validation_df = validation_df[validation_df['lang'] == 'en']"
   ]
  },
  {
   "cell_type": "markdown",
   "metadata": {},
   "source": [
    "We show the structure of the dataset to check if all the changes were successful."
   ]
  },
  {
   "cell_type": "code",
   "execution_count": 13,
   "metadata": {},
   "outputs": [
    {
     "data": {
      "text/html": [
       "<div>\n",
       "<style scoped>\n",
       "    .dataframe tbody tr th:only-of-type {\n",
       "        vertical-align: middle;\n",
       "    }\n",
       "\n",
       "    .dataframe tbody tr th {\n",
       "        vertical-align: top;\n",
       "    }\n",
       "\n",
       "    .dataframe thead th {\n",
       "        text-align: right;\n",
       "    }\n",
       "</style>\n",
       "<table border=\"1\" class=\"dataframe\">\n",
       "  <thead>\n",
       "    <tr style=\"text-align: right;\">\n",
       "      <th></th>\n",
       "      <th>lang</th>\n",
       "      <th>tweet</th>\n",
       "      <th>hard_label_task1</th>\n",
       "    </tr>\n",
       "    <tr>\n",
       "      <th>id_EXIST</th>\n",
       "      <th></th>\n",
       "      <th></th>\n",
       "      <th></th>\n",
       "    </tr>\n",
       "  </thead>\n",
       "  <tbody>\n",
       "    <tr>\n",
       "      <th>400178</th>\n",
       "      <td>en</td>\n",
       "      <td>1st day at the pool on a beautiful Sunday in N...</td>\n",
       "      <td>0</td>\n",
       "    </tr>\n",
       "    <tr>\n",
       "      <th>400179</th>\n",
       "      <td>en</td>\n",
       "      <td>“I like your outfit too except when i dress up...</td>\n",
       "      <td>1</td>\n",
       "    </tr>\n",
       "    <tr>\n",
       "      <th>400180</th>\n",
       "      <td>en</td>\n",
       "      <td>@KNasFanFic 🥺💖 same, though!!! the angst just ...</td>\n",
       "      <td>0</td>\n",
       "    </tr>\n",
       "    <tr>\n",
       "      <th>400181</th>\n",
       "      <td>en</td>\n",
       "      <td>@themaxburns @GOP Fuck that cunt. Tried to vot...</td>\n",
       "      <td>1</td>\n",
       "    </tr>\n",
       "    <tr>\n",
       "      <th>400182</th>\n",
       "      <td>en</td>\n",
       "      <td>@ultshunnie u gotta say some shit like “i’ll f...</td>\n",
       "      <td>1</td>\n",
       "    </tr>\n",
       "  </tbody>\n",
       "</table>\n",
       "</div>"
      ],
      "text/plain": [
       "         lang                                              tweet  \\\n",
       "id_EXIST                                                           \n",
       "400178     en  1st day at the pool on a beautiful Sunday in N...   \n",
       "400179     en  “I like your outfit too except when i dress up...   \n",
       "400180     en  @KNasFanFic 🥺💖 same, though!!! the angst just ...   \n",
       "400181     en  @themaxburns @GOP Fuck that cunt. Tried to vot...   \n",
       "400182     en  @ultshunnie u gotta say some shit like “i’ll f...   \n",
       "\n",
       "          hard_label_task1  \n",
       "id_EXIST                    \n",
       "400178                   0  \n",
       "400179                   1  \n",
       "400180                   0  \n",
       "400181                   1  \n",
       "400182                   1  "
      ]
     },
     "execution_count": 13,
     "metadata": {},
     "output_type": "execute_result"
    }
   ],
   "source": [
    "en_test_df.head()"
   ]
  },
  {
   "cell_type": "markdown",
   "metadata": {},
   "source": [
    "-------------"
   ]
  },
  {
   "cell_type": "markdown",
   "metadata": {
    "collapsed": false
   },
   "source": [
    "# [Task2 - 0.5 points] Data Cleaning\n",
    "In the context of tweets, we have noisy and informal data that often includes unnecessary elements like emojis, hashtags, mentions, and URLs. These elements may interfere with the text analysis.\n"
   ]
  },
  {
   "cell_type": "markdown",
   "metadata": {},
   "source": [
    "To clean the data, we can use the `re` and `spacy` libraries."
   ]
  },
  {
   "cell_type": "markdown",
   "metadata": {},
   "source": [
    "We also need to download the necessary spacy models."
   ]
  },
  {
   "cell_type": "code",
   "execution_count": 28,
   "metadata": {},
   "outputs": [],
   "source": [
    "%%capture\n",
    "!python -m spacy download en_core_web_sm\n",
    "!python -m spacy download es_core_news_sm"
   ]
  },
  {
   "cell_type": "markdown",
   "metadata": {},
   "source": [
    "Now we can create a function named `preprocess` that takes a string as input and returns the cleaned text. We also use `process_text` to apply the function to the `tweet` column of the three dataframes."
   ]
  },
  {
   "cell_type": "code",
   "execution_count": 29,
   "metadata": {},
   "outputs": [],
   "source": [
    "# Load spaCy models once\n",
    "nlp_en = spacy.load('en_core_web_sm')\n",
    "nlp_es = spacy.load('es_core_news_sm')\n",
    "\n",
    "def preprocess(text: str, model: spacy.lang) -> str:\n",
    "    '''\n",
    "    Removes emojis, hashtags, mentions, URLs, special characters, symbols and quote characters. Lemmatizes the text.\n",
    "\n",
    "    Parameters:\n",
    "    text (str): The text to be cleaned.\n",
    "    model (spacy.lang): The spaCy model to use for lemmatization.\n",
    "\n",
    "    Returns:\n",
    "    str: The cleaned text.\n",
    "\n",
    "    '''\n",
    "    # Remove URLs\n",
    "    text = re.sub(r'http\\S+|www\\S+|https\\S+', '', text, flags=re.MULTILINE)\n",
    "\n",
    "    # Remove emojis\n",
    "    emoji_pattern = re.compile(\n",
    "        \"[\" u\"\\U0001F600-\\U0001F64F\" u\"\\U0001F300-\\U0001F5FF\" u\"\\U0001F680-\\U0001F6FF\"\n",
    "        u\"\\U0001F700-\\U0001F77F\" u\"\\U0001F780-\\U0001F7FF\" u\"\\U0001F800-\\U0001F8FF\"\n",
    "        u\"\\U0001F900-\\U0001F9FF\" u\"\\U0001FA00-\\U0001FA6F\" u\"\\U0001FA70-\\U0001FAFF\"\n",
    "        u\"\\U00002702-\\U000027B0\" u\"\\U000024C2-\\U0001F251\" \"]+\", flags=re.UNICODE)\n",
    "    text = emoji_pattern.sub(r'', text)\n",
    "\n",
    "    # Remove hashtags and mentions\n",
    "    text = re.sub(r'#\\w+', '', text)\n",
    "    text = re.sub(r'@\\w+', '', text)\n",
    "\n",
    "    # Remove special characters and symbols but keep accented letters\n",
    "    text = re.sub(r'[^\\w\\sáéíóúÁÉÍÓÚüÜñÑ]', '', text)\n",
    "\n",
    "    # Remove quotation marks\n",
    "    text = re.sub(r'[\"\\']', '', text)\n",
    "\n",
    "    # Lemmatize the text\n",
    "    doc = model(text)\n",
    "    text = ' '.join([token.lemma_ for token in doc])\n",
    "\n",
    "    return text\n",
    "\n",
    "def process_text(text: str, lang: str) -> str:\n",
    "    '''\n",
    "    Preprocesses the given text.\n",
    "\n",
    "    Parameters:\n",
    "    text (str): The text to be cleaned.\n",
    "    lang (str): The language of the text. Either 'en' for English or 'es' for Spanish.\n",
    "\n",
    "    Returns:\n",
    "    str: The cleaned text.\n",
    "    '''\n",
    "    model = nlp_en if lang == 'en' else nlp_es\n",
    "    return preprocess(text, model)"
   ]
  },
  {
   "cell_type": "markdown",
   "metadata": {},
   "source": [
    "Let's test the function on a single tweet, both in English and Spanish."
   ]
  },
  {
   "cell_type": "code",
   "execution_count": 30,
   "metadata": {},
   "outputs": [
    {
     "name": "stdout",
     "output_type": "stream",
     "text": [
      "  hello there my name be John and I like watch football     \n",
      "  Hola mi nombre ser John y yo gustar ver fútbol     \n"
     ]
    }
   ],
   "source": [
    "test_str = '@Twitter Hello There! My name is John and I like watching football. #good #morning www.google.it http://youtube.com 😊'\n",
    "print(process_text(test_str, 'en'))\n",
    "test_str = '@Twitter ¡Hola! Mi nombre es John y me gusta ver fútbol. #buenos #días www.google.it http://youtube.com 😊'\n",
    "print(process_text(test_str, 'es'))"
   ]
  },
  {
   "cell_type": "markdown",
   "metadata": {},
   "source": [
    "Now we can apply the function to the `tweet` column of the three sets."
   ]
  },
  {
   "cell_type": "code",
   "execution_count": 31,
   "metadata": {},
   "outputs": [
    {
     "name": "stdout",
     "output_type": "stream",
     "text": [
      "Test data cleaned.\n"
     ]
    },
    {
     "name": "stderr",
     "output_type": "stream",
     "text": [
      "C:\\Users\\nanni\\AppData\\Local\\Temp\\ipykernel_22440\\50681708.py:4: SettingWithCopyWarning: \n",
      "A value is trying to be set on a copy of a slice from a DataFrame.\n",
      "Try using .loc[row_indexer,col_indexer] = value instead\n",
      "\n",
      "See the caveats in the documentation: https://pandas.pydata.org/pandas-docs/stable/user_guide/indexing.html#returning-a-view-versus-a-copy\n",
      "  en_training_df['tweet'] = en_training_df.apply(lambda row: process_text(row['tweet'], 'en'), axis=1)\n"
     ]
    },
    {
     "name": "stdout",
     "output_type": "stream",
     "text": [
      "Training data cleaned.\n",
      "Validation data cleaned.\n"
     ]
    },
    {
     "name": "stderr",
     "output_type": "stream",
     "text": [
      "C:\\Users\\nanni\\AppData\\Local\\Temp\\ipykernel_22440\\50681708.py:7: SettingWithCopyWarning: \n",
      "A value is trying to be set on a copy of a slice from a DataFrame.\n",
      "Try using .loc[row_indexer,col_indexer] = value instead\n",
      "\n",
      "See the caveats in the documentation: https://pandas.pydata.org/pandas-docs/stable/user_guide/indexing.html#returning-a-view-versus-a-copy\n",
      "  en_validation_df['tweet'] = en_validation_df.apply(lambda row: process_text(row['tweet'], 'en'), axis=1)\n"
     ]
    }
   ],
   "source": [
    "en_test_df['tweet'] = en_test_df.apply(lambda row: process_text(row['tweet'], 'en'), axis=1)\n",
    "print(\"Test data cleaned.\")\n",
    "\n",
    "en_training_df['tweet'] = en_training_df.apply(lambda row: process_text(row['tweet'], 'en'), axis=1)\n",
    "print(\"Training data cleaned.\")\n",
    "\n",
    "en_validation_df['tweet'] = en_validation_df.apply(lambda row: process_text(row['tweet'], 'en'), axis=1)\n",
    "print(\"Validation data cleaned.\")"
   ]
  },
  {
   "cell_type": "markdown",
   "metadata": {},
   "source": [
    "For now, we just want to use the English tweets."
   ]
  },
  {
   "cell_type": "code",
   "execution_count": 32,
   "metadata": {},
   "outputs": [
    {
     "name": "stdout",
     "output_type": "stream",
     "text": [
      "English test data shape: (286, 3)\n",
      "English training data shape: (2870, 3)\n",
      "English validation data shape: (158, 3)\n"
     ]
    }
   ],
   "source": [
    "print('English test data shape:', en_test_df.shape)\n",
    "print('English training data shape:', en_training_df.shape)\n",
    "print('English validation data shape:', en_validation_df.shape)"
   ]
  },
  {
   "cell_type": "markdown",
   "metadata": {},
   "source": [
    "We store a copy of the dataset for the Transformer part."
   ]
  },
  {
   "cell_type": "code",
   "execution_count": 33,
   "metadata": {},
   "outputs": [],
   "source": [
    "en_train_df_t = en_training_df.copy()\n",
    "en_val_df_t = en_validation_df.copy()\n",
    "en_test_df_t = en_test_df.copy()"
   ]
  },
  {
   "cell_type": "markdown",
   "metadata": {},
   "source": [
    "To help us confront the predictions with the actual labels we convert the \"YES\" and \"NO\" labels to 1 and 0 considering the mode."
   ]
  },
  {
   "cell_type": "markdown",
   "metadata": {},
   "source": [
    "-------------"
   ]
  },
  {
   "cell_type": "markdown",
   "metadata": {
    "id": "s3KylLHNl0bE"
   },
   "source": [
    "# [Task 3 - 0.5 points] Text Encoding\n",
    "To train a neural sexism classifier, you first need to encode text into numerical format.\n",
    "\n",
    "\n"
   ]
  },
  {
   "cell_type": "markdown",
   "metadata": {},
   "source": [
    "Our first step is to load the GloVe embeddings. We'll use the 200-dimensional embeddings."
   ]
  },
  {
   "cell_type": "code",
   "execution_count": 34,
   "metadata": {},
   "outputs": [],
   "source": [
    "EMB_DIM = 200"
   ]
  },
  {
   "cell_type": "markdown",
   "metadata": {},
   "source": [
    "We load the embeddings and store them in a dictionary. We'll use the `glove.twitter.27B.200d.txt` file, since it contains Twitter-specific embeddings."
   ]
  },
  {
   "cell_type": "code",
   "execution_count": 35,
   "metadata": {},
   "outputs": [],
   "source": [
    "token_to_emb = dict()\n",
    "\n",
    "with open('glove_emb/glove.twitter.27B.200d.txt', 'r', encoding='utf-8') as f:\n",
    "    for line in f:\n",
    "        values = line.split()\n",
    "        word = values[0]\n",
    "        vector = np.asarray(values[1:], \"float32\")\n",
    "        if len(vector) == EMB_DIM:\n",
    "            token_to_emb[word] = vector"
   ]
  },
  {
   "cell_type": "markdown",
   "metadata": {},
   "source": [
    "Now we check if every word in the training set is in the GloVe embeddings."
   ]
  },
  {
   "cell_type": "code",
   "execution_count": 36,
   "metadata": {},
   "outputs": [
    {
     "name": "stderr",
     "output_type": "stream",
     "text": [
      "C:\\Users\\nanni\\AppData\\Local\\Temp\\ipykernel_22440\\615228579.py:1: SettingWithCopyWarning: \n",
      "A value is trying to be set on a copy of a slice from a DataFrame.\n",
      "Try using .loc[row_indexer,col_indexer] = value instead\n",
      "\n",
      "See the caveats in the documentation: https://pandas.pydata.org/pandas-docs/stable/user_guide/indexing.html#returning-a-view-versus-a-copy\n",
      "  en_training_df['tweet'] = en_training_df['tweet'].apply(lambda x: x.split())\n"
     ]
    },
    {
     "name": "stdout",
     "output_type": "stream",
     "text": [
      "Number of tokens not embedded: 1917\n"
     ]
    }
   ],
   "source": [
    "en_training_df['tweet'] = en_training_df['tweet'].apply(lambda x: x.split())\n",
    "all_tokens = np.array([token.lower() for tweet in en_training_df['tweet'] for token in tweet])\n",
    "not_embedded = set(all_tokens[~np.isin(all_tokens, list(token_to_emb.keys()))])\n",
    "\n",
    "print('Number of tokens not embedded:', len(not_embedded))"
   ]
  },
  {
   "cell_type": "markdown",
   "metadata": {},
   "source": [
    "Since we have some OOV tokens, we need to add them to the vocabulary and assign them a custom embedding. We can use a random embedding for this purpose, but we would lose the semantic information of the words. Since some words are similar to others (typos, abbreviations, etc.), we can use fuzzy matching to find the most similar word in the GloVe embeddings. \n",
    "\n",
    "For this purpose, we can use the `rapidfuzz` library. It is a fast string matching library that uses the Levenshtein distance to find a similarity score for words."
   ]
  },
  {
   "cell_type": "code",
   "execution_count": 37,
   "metadata": {},
   "outputs": [],
   "source": [
    "MIDPOINT = 70\n",
    "OOV_token_to_emb = dict()\n",
    "np.random.seed(42)\n",
    "\n",
    "def sigmoid(x: float, steepness: float, midpoint: float) -> float:\n",
    "    '''\n",
    "    Sigmoid function with a given steepness and midpoint.\n",
    "\n",
    "    Parameters:\n",
    "    x (float): The input value.\n",
    "    steepness (float): The steepness of the sigmoid function.\n",
    "    midpoint (float): The midpoint of the sigmoid function.\n",
    "\n",
    "    Returns:\n",
    "    float: The output value of the sigmoid function.   \n",
    "    '''\n",
    "    return 1 / (1 + np.exp(-steepness * (x - midpoint)))\n",
    "\n",
    "\n",
    "def get_closest_word(word: str, vocab: list) -> tuple:\n",
    "    '''\n",
    "    Returns the closest word in the vocabulary to the given word.\n",
    "\n",
    "    Parameters:\n",
    "    word (str): The word to find the closest match for.\n",
    "    vocab (list): The vocabulary to search for the closest match.\n",
    "\n",
    "    Returns:\n",
    "    tuple: The closest word and the similarity score.\n",
    "    '''\n",
    "    closest_match = process.extractOne(word, vocab)\n",
    "    if closest_match:\n",
    "        closest_word, similarity = closest_match[0], closest_match[1]\n",
    "        return closest_word, similarity\n",
    "    return None, 0\n",
    "\n",
    "\n",
    "def get_adjusted_embedding(word: str, token_to_emb: dict,  OOV_token_to_emb: dict) -> tuple:\n",
    "    '''\n",
    "    Returns the adjusted embedding for the given word.\n",
    "\n",
    "    Parameters:\n",
    "    word (str): The word to get the adjusted embedding for.\n",
    "    token_to_emb (dict): The dictionary containing the embeddings for the tokens in the vocabulary.\n",
    "    OOV_token_to_emb (dict): The dictionary containing the embeddings for the out-of-vocabulary\n",
    "    tokens that have been adjusted.\n",
    "\n",
    "    Returns:\n",
    "    tuple: The closest word and the similarity score.\n",
    "    '''\n",
    "    if word.lower() not in token_to_emb:\n",
    "        closest_word, similarity = get_closest_word(word, token_to_emb.keys())\n",
    "        closest_embedding = token_to_emb[closest_word]\n",
    "        scaled_similarity = sigmoid(similarity, 10, MIDPOINT)\n",
    "        adjusted_embedding = closest_embedding * scaled_similarity\n",
    "        OOV_token_to_emb[word.lower()] = adjusted_embedding\n",
    "        return closest_word, similarity\n",
    "    return word, 100"
   ]
  },
  {
   "cell_type": "markdown",
   "metadata": {},
   "source": [
    "The algorithm follows these steps:\n",
    "1. For each OOV token, find the most similar word in the GloVe embeddings.\n",
    "2. Find the similarity score between the OOV token and the most similar word found in step 1.\n",
    "3. Normalize the similarity score to get a value between 0 and 1.\n",
    "\n",
    "We test the function on a single OOV token. We can use `nufeminist` as an example (which is not in the GloVe embeddings)."
   ]
  },
  {
   "cell_type": "code",
   "execution_count": 38,
   "metadata": {},
   "outputs": [
    {
     "name": "stdout",
     "output_type": "stream",
     "text": [
      "Closest word: is, Similarity: 90.0\n"
     ]
    }
   ],
   "source": [
    "closest_word, score = get_adjusted_embedding('nufeminist', token_to_emb, OOV_token_to_emb)\n",
    "print(f'Closest word: {closest_word}, Similarity: {score}')"
   ]
  },
  {
   "cell_type": "markdown",
   "metadata": {},
   "source": [
    "It is evident that the default similarity function used by `rapidfuzz` rewards short words in the vocabulary. In this case, it chose `is` as the most similar word to `nufeminist`. This is not the desired behavior, as we want to find the most semantically similar word. \n",
    "\n",
    "To solve this issue, we can use a custom scorer that combines `fuzz.ratio` with a penalty for the length of the words, rewarding shorter words. We decided to reward shorter words because many OOV tokens contain typos or are multiple words concatenated together."
   ]
  },
  {
   "cell_type": "code",
   "execution_count": 39,
   "metadata": {},
   "outputs": [],
   "source": [
    "def custom_scorer(word: str, choice: str, score_cutoff: float) -> float:\n",
    "    '''\n",
    "    Custom scorer function for the fuzzy matching.\n",
    "\n",
    "    Parameters:\n",
    "    word (str): The word to compare.\n",
    "    choice (str): The choice to compare with.\n",
    "    score_cutoff (float): The minimum score required for a match. Not used in this function, but it must be included for compatibility with rapidfuzz.\n",
    "\n",
    "    Returns:\n",
    "    float: The similarity score between the two words.\n",
    "    '''\n",
    "    similarity = fuzz.ratio(word, choice)\n",
    "    length_penalty = min(1, len(word) / len(choice))\n",
    "    return similarity * length_penalty\n",
    "\n",
    "\n",
    "def get_closest_word(word: str, vocab: list) -> tuple:\n",
    "    '''\n",
    "    Returns the closest word in the vocabulary to the given word.\n",
    "\n",
    "    Parameters:\n",
    "    word (str): The word to find the closest match for.\n",
    "    vocab (list): The vocabulary to search for the closest match.\n",
    "\n",
    "    Returns:\n",
    "    tuple: The closest word and the similarity score.\n",
    "    '''\n",
    "    closest_match = process.extractOne(word, vocab, scorer=custom_scorer)\n",
    "    if closest_match:\n",
    "        closest_word, similarity = closest_match[0], closest_match[1]\n",
    "        return closest_word, similarity\n",
    "    return None, 0"
   ]
  },
  {
   "cell_type": "markdown",
   "metadata": {},
   "source": [
    "We try the custom scorer on the same example."
   ]
  },
  {
   "cell_type": "code",
   "execution_count": 40,
   "metadata": {},
   "outputs": [
    {
     "name": "stdout",
     "output_type": "stream",
     "text": [
      "Closest word: feminist, Similarity: 88.88888888888889\n"
     ]
    }
   ],
   "source": [
    "closest_word, score = get_adjusted_embedding('nufeminist', token_to_emb, OOV_token_to_emb)\n",
    "print(f'Closest word: {closest_word}, Similarity: {score}')"
   ]
  },
  {
   "cell_type": "markdown",
   "metadata": {},
   "source": [
    "In order to avoid computing the similarity every time, we can save the results in a file."
   ]
  },
  {
   "cell_type": "code",
   "execution_count": 41,
   "metadata": {},
   "outputs": [],
   "source": [
    "OOV_token_to_emb = dict()\n",
    "for OOV_token in not_embedded:\n",
    "    closest_word, similarity = get_adjusted_embedding(OOV_token, token_to_emb, OOV_token_to_emb)"
   ]
  },
  {
   "cell_type": "markdown",
   "metadata": {},
   "source": [
    "We get the cosine similarity of the embeddings of `nufeminist` and `feminist` to see if they are similar. \n",
    "\n",
    "Moreover, we also get the cosine similarity of `nufeminist` and `is`.\n",
    "\n",
    "Lastly, we get the cosine similarity of `nufeminist` and `hello`: the similarity should be lowest among the three."
   ]
  },
  {
   "cell_type": "code",
   "execution_count": 43,
   "metadata": {},
   "outputs": [
    {
     "name": "stdout",
     "output_type": "stream",
     "text": [
      "Similarity between \"nufeminist\" and \"feminist\": 0.9999999917967956\n",
      "Similarity between \"nufeminist\" and \"is\": 0.2802057757618597\n",
      "Similarity between \"nufeminist\" and \"hello\": 0.08361554397052118\n"
     ]
    }
   ],
   "source": [
    "get_adjusted_embedding('nufeminist', token_to_emb, OOV_token_to_emb)\n",
    "nufeminist_emb = OOV_token_to_emb['nufeminist']\n",
    "feminist_emb = token_to_emb['feminist']\n",
    "is_emb = token_to_emb['is']\n",
    "hello_emb = token_to_emb['hello']\n",
    "\n",
    "similarity = 1 - cosine(nufeminist_emb, feminist_emb)\n",
    "print(f'Similarity between \"nufeminist\" and \"feminist\": {abs(similarity)}')\n",
    "similarity = 1 - cosine(nufeminist_emb, is_emb)\n",
    "print(f'Similarity between \"nufeminist\" and \"is\": {abs(similarity)}')\n",
    "similarity = 1 - cosine(nufeminist_emb, hello_emb)\n",
    "print(f'Similarity between \"nufeminist\" and \"hello\": {abs(similarity)}')"
   ]
  },
  {
   "cell_type": "markdown",
   "metadata": {},
   "source": [
    "As expected, the similarity between `nufeminist` and `feminist` is higher than the similarity between `nufeminist` and `is`. The similarity between `nufeminist` and `hello` is the lowest.\n",
    "\n",
    "Now we need to define two other embeddings: one for the special token `[unk]` and one for the padding token `[pad]`. They can be random embeddings. For the `[unk]` token, we can use a random embedding, while for the `[pad]` token, we can use a zero embedding, because this is the most common choice."
   ]
  },
  {
   "cell_type": "code",
   "execution_count": 44,
   "metadata": {},
   "outputs": [],
   "source": [
    "np.random.seed(42)\n",
    "unk_emb = np.random.rand(EMB_DIM)\n",
    "pad_emb = np.zeros(EMB_DIM)"
   ]
  },
  {
   "cell_type": "markdown",
   "metadata": {},
   "source": [
    "Finally, we create a single dictionary that contains all the embeddings."
   ]
  },
  {
   "cell_type": "code",
   "execution_count": 45,
   "metadata": {},
   "outputs": [
    {
     "name": "stdout",
     "output_type": "stream",
     "text": [
      "Number of tokens in the vocabulary: 1195433\n"
     ]
    }
   ],
   "source": [
    "token_map = token_to_emb.copy()\n",
    "token_map.update(OOV_token_to_emb)\n",
    "token_map['<unk>'] = unk_emb\n",
    "token_map['<pad>'] = pad_emb\n",
    "\n",
    "print('Number of tokens in the vocabulary:', len(token_map))"
   ]
  },
  {
   "cell_type": "markdown",
   "metadata": {},
   "source": [
    "There may be some OOV words in the training set that have not been embedded because the similarity function did not find a word similar enough in the GloVe embeddings. We can check how many words are not embedded and assign them a random embedding, because there is no other way to find a similar word."
   ]
  },
  {
   "cell_type": "code",
   "execution_count": 46,
   "metadata": {},
   "outputs": [],
   "source": [
    "%%capture\n",
    "\n",
    "def process_tweet(tweet: list, token_map: dict) -> dict:\n",
    "    '''\n",
    "    Processes the given tweet by converting the tokens to their embeddings.\n",
    "\n",
    "    Parameters:\n",
    "    tweet (list): The list of tokens in the tweet.\n",
    "    token_map (dict): The dictionary containing the embeddings for the tokens.\n",
    "    '''\n",
    "    for token in tweet:\n",
    "        token_lower = token.lower()\n",
    "        if token_lower not in token_map:\n",
    "            token_map[token_lower] = np.random.rand(EMB_DIM)\n",
    "\n",
    "en_training_df['tweet'].apply(process_tweet, args=(token_map,))"
   ]
  },
  {
   "cell_type": "markdown",
   "metadata": {},
   "source": [
    "Before implementing the network we must define the input shape. We can use the maximum length of the tweets in the training set and then pad the sequences, because we want all the tweets to have the same length (this is a requirement for the neural network)."
   ]
  },
  {
   "cell_type": "code",
   "execution_count": 47,
   "metadata": {},
   "outputs": [
    {
     "name": "stdout",
     "output_type": "stream",
     "text": [
      "Max tweet length: 62\n"
     ]
    }
   ],
   "source": [
    "max_tweet_length = max(en_training_df['tweet'].apply(len))\n",
    "\n",
    "def pad_sequence(sequence: list, max_length: int) -> list:\n",
    "    '''\n",
    "    Pads the sequence to the given maximum length.\n",
    "\n",
    "    Parameters:\n",
    "    sequence (list): The sequence to pad.\n",
    "    max_length (int): The maximum length of the sequence.\n",
    "\n",
    "    Returns:\n",
    "    list: The padded sequence.\n",
    "    '''\n",
    "    return sequence + ['<pad>'] * (max_length - len(sequence))\n",
    "\n",
    "print(f\"Max tweet length: {max_tweet_length}\")"
   ]
  },
  {
   "cell_type": "markdown",
   "metadata": {},
   "source": [
    "We apply the padding to the three sets."
   ]
  },
  {
   "cell_type": "code",
   "execution_count": 48,
   "metadata": {},
   "outputs": [
    {
     "name": "stderr",
     "output_type": "stream",
     "text": [
      "C:\\Users\\nanni\\AppData\\Local\\Temp\\ipykernel_22440\\1472467338.py:1: SettingWithCopyWarning: \n",
      "A value is trying to be set on a copy of a slice from a DataFrame.\n",
      "Try using .loc[row_indexer,col_indexer] = value instead\n",
      "\n",
      "See the caveats in the documentation: https://pandas.pydata.org/pandas-docs/stable/user_guide/indexing.html#returning-a-view-versus-a-copy\n",
      "  en_training_df['tweet'] = en_training_df['tweet'].apply(lambda x: pad_sequence(x, max_tweet_length))\n",
      "C:\\Users\\nanni\\AppData\\Local\\Temp\\ipykernel_22440\\1472467338.py:6: SettingWithCopyWarning: \n",
      "A value is trying to be set on a copy of a slice from a DataFrame.\n",
      "Try using .loc[row_indexer,col_indexer] = value instead\n",
      "\n",
      "See the caveats in the documentation: https://pandas.pydata.org/pandas-docs/stable/user_guide/indexing.html#returning-a-view-versus-a-copy\n",
      "  en_validation_df['tweet'] = en_validation_df['tweet'].apply(lambda x: x.split())\n",
      "C:\\Users\\nanni\\AppData\\Local\\Temp\\ipykernel_22440\\1472467338.py:7: SettingWithCopyWarning: \n",
      "A value is trying to be set on a copy of a slice from a DataFrame.\n",
      "Try using .loc[row_indexer,col_indexer] = value instead\n",
      "\n",
      "See the caveats in the documentation: https://pandas.pydata.org/pandas-docs/stable/user_guide/indexing.html#returning-a-view-versus-a-copy\n",
      "  en_validation_df['tweet'] = en_validation_df['tweet'].apply(lambda x: pad_sequence(x, max_tweet_length))\n"
     ]
    }
   ],
   "source": [
    "en_training_df['tweet'] = en_training_df['tweet'].apply(lambda x: pad_sequence(x, max_tweet_length))\n",
    "\n",
    "en_test_df['tweet'] = en_test_df['tweet'].apply(lambda x: x.split())\n",
    "en_test_df['tweet'] = en_test_df['tweet'].apply(lambda x: pad_sequence(x, max_tweet_length))\n",
    "\n",
    "en_validation_df['tweet'] = en_validation_df['tweet'].apply(lambda x: x.split())\n",
    "en_validation_df['tweet'] = en_validation_df['tweet'].apply(lambda x: pad_sequence(x, max_tweet_length))"
   ]
  },
  {
   "cell_type": "markdown",
   "metadata": {},
   "source": [
    "-------------"
   ]
  },
  {
   "cell_type": "markdown",
   "metadata": {
    "id": "6JLnuLGHGAUT"
   },
   "source": [
    "# [Task 4 - 1.0 points] Model definition\n",
    "\n",
    "You are now tasked to define your sexism classifier.\n",
    "\n",
    "\n"
   ]
  },
  {
   "cell_type": "markdown",
   "metadata": {},
   "source": [
    "We build the embedding matrix using the embeddings dictionary."
   ]
  },
  {
   "cell_type": "code",
   "execution_count": 49,
   "metadata": {},
   "outputs": [],
   "source": [
    "vocab = {word.lower(): idx for idx, word in enumerate(token_map.keys(), start=1)}\n",
    "vocab[\"<pad>\"] = 0\n",
    "embedding_matrix = np.zeros((len(vocab)+1, EMB_DIM))\n",
    "for word, idx in vocab.items():\n",
    "    if word in token_map and len(token_map[word]) == EMB_DIM:\n",
    "        embedding_matrix[idx] = token_map[word]"
   ]
  },
  {
   "cell_type": "markdown",
   "metadata": {},
   "source": [
    "We cast the embedding matrix to a torch tensor because we need to use it in the neural network."
   ]
  },
  {
   "cell_type": "code",
   "execution_count": 50,
   "metadata": {},
   "outputs": [],
   "source": [
    "embedding_matrix = torch.tensor(embedding_matrix, dtype=torch.float32).cuda() if torch.cuda.is_available() else torch.tensor(embedding_matrix, dtype=torch.float32)"
   ]
  },
  {
   "cell_type": "markdown",
   "metadata": {},
   "source": [
    "Now we create another column in the dataframes, mapping each token to its corresponding index in the embedding matrix."
   ]
  },
  {
   "cell_type": "code",
   "execution_count": 51,
   "metadata": {},
   "outputs": [
    {
     "name": "stderr",
     "output_type": "stream",
     "text": [
      "C:\\Users\\nanni\\AppData\\Local\\Temp\\ipykernel_22440\\1451012353.py:1: SettingWithCopyWarning: \n",
      "A value is trying to be set on a copy of a slice from a DataFrame.\n",
      "Try using .loc[row_indexer,col_indexer] = value instead\n",
      "\n",
      "See the caveats in the documentation: https://pandas.pydata.org/pandas-docs/stable/user_guide/indexing.html#returning-a-view-versus-a-copy\n",
      "  en_training_df['encoded_tweet'] = en_training_df['tweet'].apply(lambda x: torch.tensor([vocab.get(token.lower()) for token in x], dtype=torch.long))\n",
      "C:\\Users\\nanni\\AppData\\Local\\Temp\\ipykernel_22440\\1451012353.py:3: SettingWithCopyWarning: \n",
      "A value is trying to be set on a copy of a slice from a DataFrame.\n",
      "Try using .loc[row_indexer,col_indexer] = value instead\n",
      "\n",
      "See the caveats in the documentation: https://pandas.pydata.org/pandas-docs/stable/user_guide/indexing.html#returning-a-view-versus-a-copy\n",
      "  en_validation_df['encoded_tweet'] = en_validation_df['tweet'].apply(lambda x: torch.tensor([vocab.get(token.lower(), vocab['<unk>']) for token in x], dtype=torch.long))\n"
     ]
    }
   ],
   "source": [
    "en_training_df['encoded_tweet'] = en_training_df['tweet'].apply(lambda x: torch.tensor([vocab.get(token.lower()) for token in x], dtype=torch.long))\n",
    "en_test_df['encoded_tweet'] = en_test_df['tweet'].apply(lambda x: torch.tensor([vocab.get(token.lower(), vocab['<unk>']) for token in x], dtype=torch.long))\n",
    "en_validation_df['encoded_tweet'] = en_validation_df['tweet'].apply(lambda x: torch.tensor([vocab.get(token.lower(), vocab['<unk>']) for token in x], dtype=torch.long))"
   ]
  },
  {
   "cell_type": "markdown",
   "metadata": {},
   "source": [
    "For the implementation of the `Baseline` model, we can use the `torch` library. We decided to put the embedding layer not trainable, as the Glove embeddings are already trained. Moreover, we already have the embeddings for the OOV tokens (we got it in the previous tasks), so we don't need to train them."
   ]
  },
  {
   "cell_type": "markdown",
   "metadata": {},
   "source": [
    "The model is composed of an embedding layer, a bidirectional LSTM layer, and a linear layer. We use the `Dropout` layer to prevent overfitting."
   ]
  },
  {
   "cell_type": "code",
   "execution_count": 52,
   "metadata": {},
   "outputs": [],
   "source": [
    "class Baseline(nn.Module):\n",
    "    def __init__(self, input_size, hidden_size, output_size, dropout, vocab_size, embedding_matrix):\n",
    "        super(Baseline, self).__init__()\n",
    "        self.embedding = nn.Embedding(vocab_size, input_size, padding_idx=0)\n",
    "        if embedding_matrix is not None:\n",
    "            self.embedding.weight = nn.Parameter(embedding_matrix)\n",
    "            self.embedding.weight.requires_grad = False\n",
    "        self.lstm = nn.LSTM(input_size, hidden_size, num_layers=1, bidirectional=True, batch_first=True)\n",
    "        self.fc = nn.Linear(hidden_size * 2, output_size)\n",
    "        self.device = torch.device('cuda' if torch.cuda.is_available() else 'cpu')\n",
    "        self.dropout = nn.Dropout(dropout)\n",
    "\n",
    "    def forward(self, x):\n",
    "        x = self.embedding(x)\n",
    "        x, _ = self.lstm(x)\n",
    "        x = self.fc(x[:, -1, :])\n",
    "        x = self.dropout(x)\n",
    "        return x"
   ]
  },
  {
   "cell_type": "markdown",
   "metadata": {},
   "source": [
    "Now we can define `Model1`, which is the same as the `Baseline` model, but with two LSTM layers instead of one."
   ]
  },
  {
   "cell_type": "code",
   "execution_count": 53,
   "metadata": {},
   "outputs": [],
   "source": [
    "class Model1(nn.Module):\n",
    "    def __init__(self, input_size, hidden_size, output_size, dropout, vocab_size, embedding_matrix):\n",
    "        super(Model1, self).__init__()\n",
    "        self.embedding = nn.Embedding(vocab_size, input_size, padding_idx=0)\n",
    "        if embedding_matrix is not None:\n",
    "            self.embedding.weight = nn.Parameter(embedding_matrix)\n",
    "            self.embedding.weight.requires_grad = False\n",
    "        self.lstm = nn.LSTM(input_size, hidden_size, num_layers=2, bidirectional=True, batch_first=True, dropout=dropout) # We add here an additional LSTM layer + dropout\n",
    "        self.fc = nn.Linear(hidden_size * 2, output_size)\n",
    "        self.device = torch.device('cuda' if torch.cuda.is_available() else 'cpu')\n",
    "        self.dropout = nn.Dropout(dropout)\n",
    "\n",
    "    def forward(self, x):\n",
    "        x = self.embedding(x)\n",
    "        x, _ = self.lstm(x)\n",
    "        x = self.fc(x[:, -1, :])\n",
    "        x = self.dropout(x)\n",
    "        return x"
   ]
  },
  {
   "cell_type": "markdown",
   "metadata": {},
   "source": [
    "---"
   ]
  },
  {
   "cell_type": "markdown",
   "metadata": {
    "id": "EFjBgdiRG3wD"
   },
   "source": [
    "# [Task 5 - 1.0 points] Training and Evaluation\n",
    "\n",
    "You are now tasked to train and evaluate the Baseline and Model 1.\n"
   ]
  },
  {
   "cell_type": "markdown",
   "metadata": {},
   "source": [
    "We now define the training loop."
   ]
  },
  {
   "cell_type": "code",
   "execution_count": 54,
   "metadata": {},
   "outputs": [],
   "source": [
    "def train(model: nn.Module, train_loader: DataLoader, criterion: nn.Module, optimizer: optim.Optimizer, scheduler: optim.lr_scheduler._LRScheduler, num_epochs: int, early_stopping_threshold: int, verbose: bool, seed: int):\n",
    "    '''\n",
    "    Trains the model on the given data.\n",
    "\n",
    "    Parameters:\n",
    "    model (nn.Module): The model to train.\n",
    "    train_loader (DataLoader): The DataLoader containing the training data.\n",
    "    criterion (nn.Module): The loss function.\n",
    "    optimizer (optim.Optimizer): The optimizer.\n",
    "    scheduler (optim.lr_scheduler._LRScheduler): The learning rate scheduler.\n",
    "    num_epochs (int): The number of epochs to train the model.\n",
    "    early_stopping_threshold (int): The number of epochs to wait before stopping the training if the loss does not improve.\n",
    "    verbose (bool): Whether to print the training progress.\n",
    "    seed (int): The seed to use for reproducibility.\n",
    "\n",
    "    Returns:\n",
    "    tuple: The best model state dict, best F1 score, and final loss.\n",
    "    '''\n",
    "    best_loss, best_model = float('inf'), None\n",
    "    early_stopping_counter = 0\n",
    "    best_epoch = 0\n",
    "    val_scores, val_losses = [], []\n",
    "\n",
    "    for epoch in range(1, num_epochs + 1):\n",
    "        model.train()\n",
    "        fscores, losses = [], []\n",
    "        for batch_x, batch_y in train_loader:\n",
    "            batch_x = batch_x.to(model.device)\n",
    "            batch_y = batch_y.to(model.device)\n",
    "\n",
    "            outputs = model(batch_x)\n",
    "            loss = criterion(outputs, batch_y)\n",
    "\n",
    "            optimizer.zero_grad()\n",
    "            loss.backward()\n",
    "            optimizer.step()\n",
    "\n",
    "            predicted_labels = torch.argmax(outputs, dim=1)\n",
    "            f1 = f1_score(y_true=batch_y.cpu().numpy(), y_pred=predicted_labels.cpu().numpy(), average='macro')\n",
    "\n",
    "            fscores.append(f1)\n",
    "            losses.append(loss.item())\n",
    "\n",
    "        model.eval()\n",
    "        with torch.no_grad():\n",
    "            X_val = torch.tensor(np.stack(en_validation_df['encoded_tweet'].tolist()), dtype=torch.long).to(model.device)\n",
    "            y_val = torch.tensor(en_validation_df['hard_label_task1'].tolist(), dtype=torch.long).to(model.device)\n",
    "            outputs = model(X_val)\n",
    "            loss = criterion(outputs, y_val)\n",
    "            predicted_labels = torch.argmax(outputs, dim=1)\n",
    "            f1 = f1_score(y_true=y_val.cpu().numpy(), y_pred=predicted_labels.cpu().numpy(), average='macro')\n",
    "            val_scores.append(f1)\n",
    "            val_losses.append(loss.item())\n",
    "            if loss.item() < best_loss:\n",
    "                f1_to_save = f1\n",
    "                best_loss = loss.item()\n",
    "                best_model = model.state_dict()\n",
    "                early_stopping_counter = 0\n",
    "                best_epoch = epoch\n",
    "            else:\n",
    "                early_stopping_counter += 1\n",
    "                if early_stopping_counter == early_stopping_threshold:\n",
    "                    break\n",
    "\n",
    "        if verbose and epoch % 10 == 0:\n",
    "            print(f'Epoch [{epoch}/{num_epochs}] | Loss on train: {np.mean(losses):.4f} | F1 on train: {np.mean(fscores):.4f} | Loss on validation: {loss.item():.4f} | F1 on validation: {f1:.4f} | LR: {scheduler.get_last_lr()[0]:.6f}')\n",
    "\n",
    "        scheduler.step()\n",
    "\n",
    "    if verbose:\n",
    "        print(f'Best loss on validation found on epoch {best_epoch}: {best_loss:.4f}')\n",
    "        print(f'F1 score on validation: {f1_to_save:.4f}')\n",
    "        plt.plot(val_scores)\n",
    "        plt.plot(val_losses)\n",
    "        plt.legend(['F1 score', 'Loss'])\n",
    "        plt.title(f'Validation scores and losses with seed {seed}')\n",
    "        plt.show()\n",
    "\n",
    "    return best_model, f1_to_save, best_loss"
   ]
  },
  {
   "cell_type": "markdown",
   "metadata": {},
   "source": [
    "We define a function that takes in input a seed and generates a train loader. We do this because we are required to train the model with different seeds in order to have a more robust evaluation."
   ]
  },
  {
   "cell_type": "code",
   "execution_count": 55,
   "metadata": {},
   "outputs": [],
   "source": [
    "def generate_loader(data: TensorDataset, batch_size: int, seed: int) -> DataLoader:\n",
    "    '''\n",
    "    Generates a DataLoader from the given data.\n",
    "\n",
    "    Parameters:\n",
    "    data (TensorDataset): The data to generate the DataLoader from.\n",
    "    batch_size (int): The batch size.\n",
    "    seed (int): The seed for the random number generator.\n",
    "\n",
    "    Returns:\n",
    "    DataLoader: The DataLoader containing the data.\n",
    "    '''\n",
    "    torch.manual_seed(seed)\n",
    "    np.random.seed(seed)\n",
    "    random.seed(seed)\n",
    "    if torch.cuda.is_available():\n",
    "        torch.cuda.manual_seed(seed)\n",
    "        torch.cuda.manual_seed_all(seed)\n",
    "    return DataLoader(data, shuffle=True, batch_size=batch_size)"
   ]
  },
  {
   "cell_type": "markdown",
   "metadata": {},
   "source": [
    "We can now train three different `Baseline` models with different seeds."
   ]
  },
  {
   "cell_type": "code",
   "execution_count": 56,
   "metadata": {},
   "outputs": [
    {
     "name": "stdout",
     "output_type": "stream",
     "text": [
      "Training model with seed 42\n",
      "Epoch [10/150] | Loss on train: 0.6733 | F1 on train: 0.3761 | Loss on validation: 0.6980 | F1 on validation: 0.3629 | LR: 0.001000\n",
      "Epoch [20/150] | Loss on train: 0.6782 | F1 on train: 0.3760 | Loss on validation: 0.6841 | F1 on validation: 0.3629 | LR: 0.001000\n",
      "Epoch [30/150] | Loss on train: 0.6781 | F1 on train: 0.3758 | Loss on validation: 0.6836 | F1 on validation: 0.3629 | LR: 0.000100\n",
      "Best loss on validation found on epoch 18: 0.6600\n",
      "F1 score on validation: 0.5987\n"
     ]
    },
    {
     "data": {
      "image/png": "[encoded data removed]",
      "text/plain": [
       "<Figure size 640x480 with 1 Axes>"
      ]
     },
     "metadata": {},
     "output_type": "display_data"
    },
    {
     "name": "stdout",
     "output_type": "stream",
     "text": [
      "\n",
      "---------------------------------\n",
      "\n",
      "Training model with seed 43\n",
      "Epoch [10/150] | Loss on train: 0.6755 | F1 on train: 0.3750 | Loss on validation: 0.6861 | F1 on validation: 0.3629 | LR: 0.001000\n",
      "Epoch [20/150] | Loss on train: 0.4475 | F1 on train: 0.7923 | Loss on validation: 0.4582 | F1 on validation: 0.7925 | LR: 0.001000\n",
      "Epoch [30/150] | Loss on train: 0.3444 | F1 on train: 0.8651 | Loss on validation: 0.4695 | F1 on validation: 0.8192 | LR: 0.000100\n",
      "Epoch [40/150] | Loss on train: 0.2966 | F1 on train: 0.8900 | Loss on validation: 0.5326 | F1 on validation: 0.7957 | LR: 0.000100\n",
      "Best loss on validation found on epoch 22: 0.4445\n",
      "F1 score on validation: 0.8131\n"
     ]
    },
    {
     "data": {
      "image/png": "[encoded data removed]",
      "text/plain": [
       "<Figure size 640x480 with 1 Axes>"
      ]
     },
     "metadata": {},
     "output_type": "display_data"
    },
    {
     "name": "stdout",
     "output_type": "stream",
     "text": [
      "\n",
      "---------------------------------\n",
      "\n",
      "Training model with seed 44\n",
      "Epoch [10/150] | Loss on train: 0.6381 | F1 on train: 0.5922 | Loss on validation: 0.6412 | F1 on validation: 0.6220 | LR: 0.001000\n",
      "Epoch [20/150] | Loss on train: 0.3309 | F1 on train: 0.8551 | Loss on validation: 0.5689 | F1 on validation: 0.8020 | LR: 0.001000\n",
      "Epoch [30/150] | Loss on train: 0.2202 | F1 on train: 0.9095 | Loss on validation: 0.7261 | F1 on validation: 0.7708 | LR: 0.000100\n",
      "Best loss on validation found on epoch 15: 0.4747\n",
      "F1 score on validation: 0.7979\n"
     ]
    },
    {
     "data": {
      "image/png": "[encoded data removed]",
      "text/plain": [
       "<Figure size 640x480 with 1 Axes>"
      ]
     },
     "metadata": {},
     "output_type": "display_data"
    },
    {
     "name": "stdout",
     "output_type": "stream",
     "text": [
      "\n",
      "---------------------------------\n",
      "\n"
     ]
    }
   ],
   "source": [
    "seeds = [42, 43, 44]\n",
    "batch_size = 32\n",
    "baseline_models = {}\n",
    "train_data = TensorDataset(torch.tensor(np.stack(en_training_df['encoded_tweet'].tolist()), dtype=torch.long), torch.tensor(en_training_df['hard_label_task1'].tolist(), dtype=torch.long))\n",
    "\n",
    "for seed in seeds:\n",
    "    print(f'Training model with seed {seed}')\n",
    "    train_loader = generate_loader(train_data, batch_size, seed)\n",
    "    model = Baseline(input_size=EMB_DIM, hidden_size=256, output_size=2, dropout=0.3, vocab_size=len(vocab), embedding_matrix=embedding_matrix).cuda()\n",
    "    criterion = nn.CrossEntropyLoss()\n",
    "    optimizer = optim.AdamW(model.parameters(), lr=1e-3)\n",
    "    scheduler = StepLR(optimizer, step_size=20, gamma=0.1)\n",
    "    model, fscore, loss = train(model, train_loader, criterion, optimizer, scheduler, num_epochs=150, early_stopping_threshold=20, verbose=True, seed=seed)\n",
    "    baseline_models[seed] = (model, fscore, loss)\n",
    "    print(\"\\n---------------------------------\\n\")"
   ]
  },
  {
   "cell_type": "markdown",
   "metadata": {},
   "source": [
    "The model has good performances on all the three seeds. Now we will save the best model out of the three."
   ]
  },
  {
   "cell_type": "code",
   "execution_count": 57,
   "metadata": {},
   "outputs": [
    {
     "name": "stdout",
     "output_type": "stream",
     "text": [
      "Best model found with seed 43 with F1 score: 0.8131 and loss: 0.4445\n",
      "The mean F1 score of the models is 0.7366\n",
      "The mean loss of the models is 0.5264\n",
      "The standard deviation of the F1 scores of the models is 0.0977\n"
     ]
    }
   ],
   "source": [
    "best_baseline = max(baseline_models, key=lambda k: baseline_models[k][1])\n",
    "print(f'Best model found with seed {best_baseline} with F1 score: {baseline_models[best_baseline][1]:.4f} and loss: {baseline_models[best_baseline][2]:.4f}')\n",
    "print(f\"The mean F1 score of the models is {np.mean([model[1] for model in baseline_models.values()]):.4f}\")\n",
    "print(f\"The mean loss of the models is {np.mean([model[2] for model in baseline_models.values()]):.4f}\")\n",
    "print(f\"The standard deviation of the F1 scores of the models is {np.std([model[1] for model in baseline_models.values()]):.4f}\")"
   ]
  },
  {
   "cell_type": "markdown",
   "metadata": {},
   "source": [
    "We evaluate `best_model` on the test set."
   ]
  },
  {
   "cell_type": "code",
   "execution_count": 58,
   "metadata": {},
   "outputs": [
    {
     "name": "stdout",
     "output_type": "stream",
     "text": [
      "F1 score on test: 0.7746\n"
     ]
    }
   ],
   "source": [
    "best_model_state_dict = baseline_models[best_baseline][0]\n",
    "best_baseline = Baseline(input_size=EMB_DIM, hidden_size=256, output_size=2, dropout=0.3, vocab_size=len(vocab), embedding_matrix=embedding_matrix).cuda()\n",
    "best_baseline.load_state_dict(best_model_state_dict)\n",
    "\n",
    "best_baseline.eval()\n",
    "with torch.no_grad():\n",
    "    X_test = torch.tensor(np.stack(en_test_df['encoded_tweet'].tolist()), dtype=torch.long).to(best_baseline.device)\n",
    "    y_test = torch.tensor(en_test_df['hard_label_task1'].tolist(), dtype=torch.long).to(best_baseline.device)\n",
    "    outputs = best_baseline(X_test)\n",
    "    predicted_labels = torch.argmax(outputs, dim=1)\n",
    "    f1 = f1_score(y_true=y_test.cpu().numpy(), y_pred=predicted_labels.cpu().numpy(), average='macro')\n",
    "    print(f'F1 score on test: {f1:.4f}')"
   ]
  },
  {
   "cell_type": "markdown",
   "metadata": {},
   "source": [
    "We print the confusion matrix"
   ]
  },
  {
   "cell_type": "code",
   "execution_count": 59,
   "metadata": {},
   "outputs": [
    {
     "data": {
      "image/png": "[encoded data removed]",
      "text/plain": [
       "<Figure size 1000x800 with 2 Axes>"
      ]
     },
     "metadata": {},
     "output_type": "display_data"
    }
   ],
   "source": [
    "y_test = y_test.cpu().numpy()\n",
    "predicted_labels = predicted_labels.cpu().numpy()\n",
    "conf_matrix = confusion_matrix(y_true=y_test, y_pred=predicted_labels)\n",
    "plt.figure(figsize=(10, 8))\n",
    "sns.heatmap(conf_matrix, annot=True, fmt='d', cmap='Blues', xticklabels=['NO', 'YES'], yticklabels=['NO', 'YES'])\n",
    "plt.xlabel('Predicted labels')\n",
    "plt.ylabel('True labels')\n",
    "plt.title('Confusion matrix')\n",
    "plt.show()"
   ]
  },
  {
   "cell_type": "markdown",
   "metadata": {},
   "source": [
    "The performances on the test set are slightly lower than the performances on the validation set. We will discuss this in the error analysis section."
   ]
  },
  {
   "cell_type": "markdown",
   "metadata": {},
   "source": [
    "Now we look at some missclassified tweets."
   ]
  },
  {
   "cell_type": "code",
   "execution_count": 60,
   "metadata": {},
   "outputs": [
    {
     "name": "stdout",
     "output_type": "stream",
     "text": [
      "Text: I mean I do but would not it be fun to get gangbange together\n",
      "True label: 0\n",
      "Predicted label: 1\n",
      "\n",
      "\n",
      "Text:    Sex as in gender harassment be what they be infer\n",
      "True label: 0\n",
      "Predicted label: 1\n",
      "\n",
      "\n",
      "Text:   Kabul Islamic Emirate of Afghanistan have announce the end of coeducation in the country cite gender harassmentFemale student will attend university on Monday Wednesday and Saturday while Tuesday Thursday and Sunday be fix for male\n",
      "True label: 1\n",
      "Predicted label: 0\n",
      "\n",
      "\n",
      "Text: appreciate be include along with   on the Uvalde gunman history of cyber gender harassment regrettably unshocke  \n",
      "True label: 0\n",
      "Predicted label: 1\n",
      "\n",
      "\n",
      "Text: the violent antifeminism of a farright movement that see   principally as vessel for breed a new white generation express itself in a fixation on a   return to traditional gender rolesworth every minute to read   take 5 min out of your Sun\n",
      "True label: 1\n",
      "Predicted label: 0\n",
      "\n",
      "\n"
     ]
    },
    {
     "name": "stderr",
     "output_type": "stream",
     "text": [
      "C:\\Users\\nanni\\AppData\\Local\\Temp\\ipykernel_22440\\2895210212.py:5: FutureWarning: Series.__getitem__ treating keys as positions is deprecated. In a future version, integer keys will always be treated as labels (consistent with DataFrame behavior). To access a value by position, use `ser.iloc[pos]`\n",
      "  print(f\"Text: {en_test_df_t['tweet'][i]}\")\n"
     ]
    }
   ],
   "source": [
    "examples=0\n",
    "\n",
    "for i in range(len(y_test)):\n",
    "    if y_test[i] != predicted_labels[i] and examples< 5:\n",
    "        print(f\"Text: {en_test_df_t['tweet'][i]}\")\n",
    "        print(f\"True label: {y_test[i]}\")\n",
    "        print(f\"Predicted label: {predicted_labels[i]}\")\n",
    "        print(\"\\n\")\n",
    "        examples+=1"
   ]
  },
  {
   "cell_type": "markdown",
   "metadata": {},
   "source": [
    "We save the weights for the baseline model."
   ]
  },
  {
   "cell_type": "code",
   "execution_count": 61,
   "metadata": {},
   "outputs": [],
   "source": [
    "torch.save(best_baseline.state_dict(), 'models/baseline_model.pth')"
   ]
  },
  {
   "cell_type": "markdown",
   "metadata": {},
   "source": [
    "We do the same for the `Model1` model."
   ]
  },
  {
   "cell_type": "code",
   "execution_count": 62,
   "metadata": {},
   "outputs": [
    {
     "name": "stdout",
     "output_type": "stream",
     "text": [
      "Training model with seed 42\n",
      "Epoch [10/150] | Loss on train: 0.6753 | F1 on train: 0.3765 | Loss on validation: 0.6862 | F1 on validation: 0.3629 | LR: 0.001000\n",
      "Epoch [20/150] | Loss on train: 0.6743 | F1 on train: 0.3759 | Loss on validation: 0.6837 | F1 on validation: 0.3629 | LR: 0.001000\n",
      "Best loss on validation found on epoch 3: 0.6779\n",
      "F1 score on validation: 0.4244\n"
     ]
    },
    {
     "data": {
      "image/png": "[encoded data removed]",
      "text/plain": [
       "<Figure size 640x480 with 1 Axes>"
      ]
     },
     "metadata": {},
     "output_type": "display_data"
    },
    {
     "name": "stdout",
     "output_type": "stream",
     "text": [
      "\n",
      "---------------------------------\n",
      "\n",
      "Training model with seed 43\n",
      "Epoch [10/150] | Loss on train: 0.4708 | F1 on train: 0.7717 | Loss on validation: 0.4755 | F1 on validation: 0.7671 | LR: 0.001000\n",
      "Epoch [20/150] | Loss on train: 0.2372 | F1 on train: 0.8988 | Loss on validation: 0.5882 | F1 on validation: 0.8030 | LR: 0.001000\n",
      "Epoch [30/150] | Loss on train: 0.1627 | F1 on train: 0.9280 | Loss on validation: 0.7654 | F1 on validation: 0.7959 | LR: 0.000100\n",
      "Best loss on validation found on epoch 12: 0.4704\n",
      "F1 score on validation: 0.7797\n"
     ]
    },
    {
     "data": {
      "image/png": "[encoded data removed]",
      "text/plain": [
       "<Figure size 640x480 with 1 Axes>"
      ]
     },
     "metadata": {},
     "output_type": "display_data"
    },
    {
     "name": "stdout",
     "output_type": "stream",
     "text": [
      "\n",
      "---------------------------------\n",
      "\n",
      "Training model with seed 44\n",
      "Epoch [10/150] | Loss on train: 0.6777 | F1 on train: 0.3756 | Loss on validation: 0.6870 | F1 on validation: 0.3629 | LR: 0.001000\n",
      "Epoch [20/150] | Loss on train: 0.6758 | F1 on train: 0.3902 | Loss on validation: 0.6822 | F1 on validation: 0.3629 | LR: 0.001000\n",
      "Epoch [30/150] | Loss on train: 0.4945 | F1 on train: 0.7552 | Loss on validation: 0.5394 | F1 on validation: 0.7228 | LR: 0.000100\n",
      "Epoch [40/150] | Loss on train: 0.4506 | F1 on train: 0.7801 | Loss on validation: 0.5224 | F1 on validation: 0.7641 | LR: 0.000100\n",
      "Epoch [50/150] | Loss on train: 0.4219 | F1 on train: 0.8091 | Loss on validation: 0.5246 | F1 on validation: 0.7671 | LR: 0.000010\n",
      "Best loss on validation found on epoch 37: 0.4888\n",
      "F1 score on validation: 0.7790\n"
     ]
    },
    {
     "data": {
      "image/png": "[encoded data removed]",
      "text/plain": [
       "<Figure size 640x480 with 1 Axes>"
      ]
     },
     "metadata": {},
     "output_type": "display_data"
    },
    {
     "name": "stdout",
     "output_type": "stream",
     "text": [
      "\n",
      "---------------------------------\n",
      "\n"
     ]
    }
   ],
   "source": [
    "seeds = [42, 43, 44]\n",
    "batch_size = 32\n",
    "model1_models = {}\n",
    "train_data = TensorDataset(torch.tensor(np.stack(en_training_df['encoded_tweet'].tolist()), dtype=torch.long), torch.tensor(en_training_df['hard_label_task1'].tolist(), dtype=torch.long))\n",
    "\n",
    "for seed in seeds:\n",
    "    print(f'Training model with seed {seed}')\n",
    "    train_loader = generate_loader(train_data, batch_size, seed)\n",
    "    model = Model1(input_size=EMB_DIM, hidden_size=256, output_size=2, dropout=0.3, vocab_size=len(vocab), embedding_matrix=embedding_matrix).cuda()\n",
    "    criterion = nn.CrossEntropyLoss()\n",
    "    optimizer = optim.AdamW(model.parameters(), lr=1e-3)\n",
    "    scheduler = StepLR(optimizer, step_size=20, gamma=0.1)\n",
    "    model, fscore, loss = train(model, train_loader, criterion, optimizer, scheduler, num_epochs=150, early_stopping_threshold=20, verbose=True, seed=seed)\n",
    "    model1_models[seed] = (model, fscore, loss)\n",
    "    print(\"\\n---------------------------------\\n\")"
   ]
  },
  {
   "cell_type": "markdown",
   "metadata": {},
   "source": [
    "We take the best model out of the three seeds."
   ]
  },
  {
   "cell_type": "code",
   "execution_count": 63,
   "metadata": {},
   "outputs": [
    {
     "name": "stdout",
     "output_type": "stream",
     "text": [
      "Best model found with seed 43 with F1 score: 0.7797 and loss: 0.4704\n",
      "The mean F1 score of the models is 0.6611\n",
      "The mean loss of the models is 0.5457\n",
      "The standard deviation of the F1 scores of the models is 0.1673\n"
     ]
    }
   ],
   "source": [
    "best_model1 = max(model1_models, key=lambda k: model1_models[k][1])\n",
    "print(f'Best model found with seed {best_model1} with F1 score: {model1_models[best_model1][1]:.4f} and loss: {model1_models[best_model1][2]:.4f}')\n",
    "print(f\"The mean F1 score of the models is {np.mean([model[1] for model in model1_models.values()]):.4f}\")\n",
    "print(f\"The mean loss of the models is {np.mean([model[2] for model in model1_models.values()]):.4f}\")\n",
    "print(f\"The standard deviation of the F1 scores of the models is {np.std([model[1] for model in model1_models.values()]):.4f}\")"
   ]
  },
  {
   "cell_type": "markdown",
   "metadata": {},
   "source": [
    "We evaluate `best_model` on the test set."
   ]
  },
  {
   "cell_type": "code",
   "execution_count": 64,
   "metadata": {},
   "outputs": [
    {
     "name": "stdout",
     "output_type": "stream",
     "text": [
      "F1 score on test: 0.7789\n"
     ]
    }
   ],
   "source": [
    "best_model_state_dict = model1_models[best_model1][0]\n",
    "best_model1 = Model1(input_size=EMB_DIM, hidden_size=256, output_size=2, dropout=0.3, vocab_size=len(vocab), embedding_matrix=embedding_matrix).cuda()\n",
    "best_model1.load_state_dict(best_model_state_dict)\n",
    "\n",
    "best_model1.eval()\n",
    "with torch.no_grad():\n",
    "    X_test = torch.tensor(np.stack(en_test_df['encoded_tweet'].tolist()), dtype=torch.long).to(best_model1.device)\n",
    "    y_test = torch.tensor(en_test_df['hard_label_task1'].tolist(), dtype=torch.long).to(best_model1.device)\n",
    "    outputs = best_model1(X_test)\n",
    "    predicted_labels = torch.argmax(outputs, dim=1)\n",
    "    f1 = f1_score(y_true=y_test.cpu().numpy(), y_pred=predicted_labels.cpu().numpy(), average='macro')\n",
    "    print(f'F1 score on test: {f1:.4f}')"
   ]
  },
  {
   "cell_type": "markdown",
   "metadata": {},
   "source": [
    "We print the confusion matrix."
   ]
  },
  {
   "cell_type": "code",
   "execution_count": 65,
   "metadata": {},
   "outputs": [
    {
     "data": {
      "image/png": "[encoded data removed]",
      "text/plain": [
       "<Figure size 1000x800 with 2 Axes>"
      ]
     },
     "metadata": {},
     "output_type": "display_data"
    }
   ],
   "source": [
    "predicted_labels = predicted_labels.cpu().numpy()\n",
    "y_test = y_test.cpu().numpy()\n",
    "conf_matrix = confusion_matrix(y_true=y_test, y_pred=predicted_labels)\n",
    "plt.figure(figsize=(10, 8))\n",
    "sns.heatmap(conf_matrix, annot=True, fmt='d', cmap='Blues', xticklabels=['NO', 'YES'], yticklabels=['NO', 'YES'])\n",
    "plt.xlabel('Predicted labels')\n",
    "plt.ylabel('True labels')\n",
    "plt.title('Confusion matrix')\n",
    "plt.show()"
   ]
  },
  {
   "cell_type": "markdown",
   "metadata": {},
   "source": [
    "The performances of this model are slightly better than the performances of the `Baseline` model, but just on the validation set. Moreover, the differences are not significant.\n",
    "\n",
    "The analysis of the results will be described in the Error Analysis section."
   ]
  },
  {
   "cell_type": "markdown",
   "metadata": {},
   "source": [
    "Now we look at some examples of missclassified tweets."
   ]
  },
  {
   "cell_type": "code",
   "execution_count": 66,
   "metadata": {},
   "outputs": [
    {
     "name": "stdout",
     "output_type": "stream",
     "text": [
      "Text:    Sex as in gender harassment be what they be infer\n",
      "True label: 0\n",
      "Predicted label: 1\n",
      "\n",
      "\n",
      "Text:   Kabul Islamic Emirate of Afghanistan have announce the end of coeducation in the country cite gender harassmentFemale student will attend university on Monday Wednesday and Saturday while Tuesday Thursday and Sunday be fix for male\n",
      "True label: 1\n",
      "Predicted label: 0\n",
      "\n",
      "\n",
      "Text: appreciate be include along with   on the Uvalde gunman history of cyber gender harassment regrettably unshocke  \n",
      "True label: 0\n",
      "Predicted label: 1\n",
      "\n",
      "\n",
      "Text: the violent antifeminism of a farright movement that see   principally as vessel for breed a new white generation express itself in a fixation on a   return to traditional gender rolesworth every minute to read   take 5 min out of your Sun\n",
      "True label: 1\n",
      "Predicted label: 0\n",
      "\n",
      "\n",
      "Text: my baby call I mommy Sha for the first time today twice Yall do not understand how hype that make I Baby girl have autism and get she to talk without be prompt have be a challenge she s come so far\n",
      "True label: 0\n",
      "Predicted label: 1\n",
      "\n",
      "\n"
     ]
    },
    {
     "name": "stderr",
     "output_type": "stream",
     "text": [
      "C:\\Users\\nanni\\AppData\\Local\\Temp\\ipykernel_22440\\2895210212.py:5: FutureWarning: Series.__getitem__ treating keys as positions is deprecated. In a future version, integer keys will always be treated as labels (consistent with DataFrame behavior). To access a value by position, use `ser.iloc[pos]`\n",
      "  print(f\"Text: {en_test_df_t['tweet'][i]}\")\n"
     ]
    }
   ],
   "source": [
    "examples=0\n",
    "\n",
    "for i in range(len(y_test)):\n",
    "    if y_test[i] != predicted_labels[i] and examples< 5:\n",
    "        print(f\"Text: {en_test_df_t['tweet'][i]}\")\n",
    "        print(f\"True label: {y_test[i]}\")\n",
    "        print(f\"Predicted label: {predicted_labels[i]}\")\n",
    "        print(\"\\n\")\n",
    "        examples+=1"
   ]
  },
  {
   "cell_type": "markdown",
   "metadata": {},
   "source": [
    "We save the weights for the Model1."
   ]
  },
  {
   "cell_type": "code",
   "execution_count": 67,
   "metadata": {},
   "outputs": [],
   "source": [
    "torch.save(best_baseline.state_dict(), 'models/model1.pth')"
   ]
  },
  {
   "cell_type": "markdown",
   "metadata": {},
   "source": [
    "---"
   ]
  },
  {
   "cell_type": "markdown",
   "metadata": {
    "id": "CSy9sPwYHUoD"
   },
   "source": [
    "# [Task 6 - 1.0 points] Transformers\n",
    "\n",
    "In this section, you will use a transformer model specifically trained for hate speech detection, namely [Twitter-roBERTa-base for Hate Speech Detection](https://huggingface.co/cardiffnlp/twitter-roberta-base-hate).\n",
    "\n",
    "\n"
   ]
  },
  {
   "cell_type": "markdown",
   "metadata": {},
   "source": [
    "We Download the model and the tokenizer from huggingface."
   ]
  },
  {
   "cell_type": "code",
   "execution_count": null,
   "metadata": {},
   "outputs": [],
   "source": [
    "np.random.seed(42)\n",
    "torch.manual_seed(42)\n",
    "random.seed(42)\n",
    "\n",
    "login()\n",
    "\n",
    "#MAPPING THE OUTPUTS\n",
    "id2label = {0: \"NO\", 1: \"YES\"}\n",
    "label2id = {\"NO\": 0, \"YES\": 1}\n",
    "\n",
    "task='hate'\n",
    "model_name = f\"cardiffnlp/twitter-roberta-base-{task}\"\n",
    "model = AutoModelForSequenceClassification.from_pretrained(model_name, num_labels=2, id2label=id2label, label2id=label2id)\n",
    "tokenizer = AutoTokenizer.from_pretrained(model_name)"
   ]
  },
  {
   "cell_type": "markdown",
   "metadata": {},
   "source": [
    "We convert the pandas dataframes to huggingface datasets so that they can be used in the huggingface roBERTa model."
   ]
  },
  {
   "cell_type": "code",
   "execution_count": 69,
   "metadata": {},
   "outputs": [],
   "source": [
    "en_train_df_pt = Dataset.from_pandas(en_train_df_t)\n",
    "en_val_df_pt = Dataset.from_pandas(en_val_df_t)\n",
    "en_test_df_pt = Dataset.from_pandas(en_test_df_t)"
   ]
  },
  {
   "cell_type": "markdown",
   "metadata": {},
   "source": [
    "We take the cleaned data and we use the tokenizer we just downloaded for the model to elaborate the data. "
   ]
  },
  {
   "cell_type": "code",
   "execution_count": 70,
   "metadata": {},
   "outputs": [
    {
     "data": {
      "application/vnd.jupyter.widget-view+json": {
       "model_id": "abb8b087af6543b3a1dc2f814e3afba7",
       "version_major": 2,
       "version_minor": 0
      },
      "text/plain": [
       "Map:   0%|          | 0/2870 [00:00<?, ? examples/s]"
      ]
     },
     "metadata": {},
     "output_type": "display_data"
    },
    {
     "data": {
      "application/vnd.jupyter.widget-view+json": {
       "model_id": "bd6f069051334955b9ea416df186dc58",
       "version_major": 2,
       "version_minor": 0
      },
      "text/plain": [
       "Map:   0%|          | 0/158 [00:00<?, ? examples/s]"
      ]
     },
     "metadata": {},
     "output_type": "display_data"
    },
    {
     "data": {
      "application/vnd.jupyter.widget-view+json": {
       "model_id": "70a90611d58f4eb19d61a351fed0fa6f",
       "version_major": 2,
       "version_minor": 0
      },
      "text/plain": [
       "Map:   0%|          | 0/286 [00:00<?, ? examples/s]"
      ]
     },
     "metadata": {},
     "output_type": "display_data"
    }
   ],
   "source": [
    "def tokenization(example):\n",
    "    return tokenizer(example[\"text\"])\n",
    "\n",
    "\n",
    "en_train_df_pt = en_train_df_pt.map(lambda examples: tokenizer(examples[\"tweet\"]), batched=True)\n",
    "en_val_df_pt = en_val_df_pt.map(lambda examples: tokenizer(examples[\"tweet\"]), batched=True)\n",
    "en_test_df_pt = en_test_df_pt.map(lambda examples: tokenizer(examples[\"tweet\"]), batched=True)\n",
    "\n",
    "en_train_df_pt = en_train_df_pt.rename_column(\"hard_label_task1\", \"label\")\n",
    "en_val_df_pt = en_val_df_pt.rename_column(\"hard_label_task1\", \"label\")\n",
    "en_test_df_pt = en_test_df_pt.rename_column(\"hard_label_task1\", \"label\")"
   ]
  },
  {
   "cell_type": "markdown",
   "metadata": {},
   "source": [
    "We define the metrics for the training of the model."
   ]
  },
  {
   "cell_type": "code",
   "execution_count": 15,
   "metadata": {},
   "outputs": [],
   "source": [
    "f1_metric = evaluate.load('f1')\n",
    "\n",
    "def compute_metrics(output_info):\n",
    "    predictions, labels = output_info\n",
    "    predictions = np.argmax(predictions, axis=-1)\n",
    "    \n",
    "    f1 = f1_metric.compute(predictions=predictions, references=labels, average='macro')\n",
    "    return {**f1}\n",
    "    "
   ]
  },
  {
   "cell_type": "markdown",
   "metadata": {},
   "source": [
    "We define the arguments for the trainer."
   ]
  },
  {
   "cell_type": "code",
   "execution_count": 72,
   "metadata": {},
   "outputs": [
    {
     "name": "stderr",
     "output_type": "stream",
     "text": [
      "c:\\Users\\nanni\\AppData\\Local\\Programs\\Python\\Python312\\Lib\\site-packages\\transformers\\training_args.py:1575: FutureWarning: `evaluation_strategy` is deprecated and will be removed in version 4.46 of 🤗 Transformers. Use `eval_strategy` instead\n",
      "  warnings.warn(\n"
     ]
    }
   ],
   "source": [
    "training_args = TrainingArguments(\n",
    "    output_dir=\"test_dir\",                 # where to save model\n",
    "    learning_rate=1e-6,\n",
    "    lr_scheduler_type='linear',            # learning rate scheduler             \n",
    "    per_device_train_batch_size=32,        # accelerate defines distributed training\n",
    "    per_device_eval_batch_size=32,\n",
    "    num_train_epochs=10,\n",
    "    weight_decay=0.01,\n",
    "    evaluation_strategy=\"epoch\",           # when to report evaluation metrics/losses\n",
    "    save_strategy=\"epoch\",                 # when to save checkpoint\n",
    "    load_best_model_at_end=True,\n",
    "    report_to='none'                       # disabling wandb (default)\n",
    ")"
   ]
  },
  {
   "cell_type": "markdown",
   "metadata": {},
   "source": [
    "We train the model with the tokenized tweets."
   ]
  },
  {
   "cell_type": "code",
   "execution_count": 73,
   "metadata": {},
   "outputs": [
    {
     "name": "stderr",
     "output_type": "stream",
     "text": [
      "C:\\Users\\nanni\\AppData\\Local\\Temp\\ipykernel_22440\\2189201491.py:1: FutureWarning: `tokenizer` is deprecated and will be removed in version 5.0.0 for `Trainer.__init__`. Use `processing_class` instead.\n",
      "  trainer = Trainer(\n"
     ]
    }
   ],
   "source": [
    "trainer = Trainer(\n",
    "    model=model,\n",
    "    args=training_args,\n",
    "    train_dataset=en_train_df_pt,\n",
    "    eval_dataset=en_val_df_pt,\n",
    "    tokenizer=tokenizer,\n",
    "    compute_metrics=compute_metrics,\n",
    ")"
   ]
  },
  {
   "cell_type": "code",
   "execution_count": 74,
   "metadata": {},
   "outputs": [
    {
     "data": {
      "application/vnd.jupyter.widget-view+json": {
       "model_id": "db7786c0512744d7bfe7a7ebfdc3f639",
       "version_major": 2,
       "version_minor": 0
      },
      "text/plain": [
       "  0%|          | 0/900 [00:00<?, ?it/s]"
      ]
     },
     "metadata": {},
     "output_type": "display_data"
    },
    {
     "data": {
      "application/vnd.jupyter.widget-view+json": {
       "model_id": "c1ba6c25652c4e738024e357a96bc86a",
       "version_major": 2,
       "version_minor": 0
      },
      "text/plain": [
       "  0%|          | 0/5 [00:00<?, ?it/s]"
      ]
     },
     "metadata": {},
     "output_type": "display_data"
    },
    {
     "name": "stdout",
     "output_type": "stream",
     "text": [
      "{'eval_loss': 0.4389397203922272, 'eval_f1': 0.7876344086021505, 'eval_runtime': 0.6254, 'eval_samples_per_second': 252.647, 'eval_steps_per_second': 7.995, 'epoch': 1.0}\n"
     ]
    },
    {
     "data": {
      "application/vnd.jupyter.widget-view+json": {
       "model_id": "0be88904bb0444698a97d0484ccdb0ef",
       "version_major": 2,
       "version_minor": 0
      },
      "text/plain": [
       "  0%|          | 0/5 [00:00<?, ?it/s]"
      ]
     },
     "metadata": {},
     "output_type": "display_data"
    },
    {
     "name": "stdout",
     "output_type": "stream",
     "text": [
      "{'eval_loss': 0.4206131100654602, 'eval_f1': 0.8222722159730034, 'eval_runtime': 0.6099, 'eval_samples_per_second': 259.046, 'eval_steps_per_second': 8.198, 'epoch': 2.0}\n"
     ]
    },
    {
     "data": {
      "application/vnd.jupyter.widget-view+json": {
       "model_id": "80f9c9078db9494ab4bf229017eb5dd6",
       "version_major": 2,
       "version_minor": 0
      },
      "text/plain": [
       "  0%|          | 0/5 [00:00<?, ?it/s]"
      ]
     },
     "metadata": {},
     "output_type": "display_data"
    },
    {
     "name": "stdout",
     "output_type": "stream",
     "text": [
      "{'eval_loss': 0.4018658399581909, 'eval_f1': 0.8431761786600496, 'eval_runtime': 0.5506, 'eval_samples_per_second': 286.961, 'eval_steps_per_second': 9.081, 'epoch': 3.0}\n"
     ]
    },
    {
     "data": {
      "application/vnd.jupyter.widget-view+json": {
       "model_id": "a087d764f9c146b38d3f683face30400",
       "version_major": 2,
       "version_minor": 0
      },
      "text/plain": [
       "  0%|          | 0/5 [00:00<?, ?it/s]"
      ]
     },
     "metadata": {},
     "output_type": "display_data"
    },
    {
     "name": "stdout",
     "output_type": "stream",
     "text": [
      "{'eval_loss': 0.4033655524253845, 'eval_f1': 0.8222722159730034, 'eval_runtime': 0.6087, 'eval_samples_per_second': 259.573, 'eval_steps_per_second': 8.214, 'epoch': 4.0}\n"
     ]
    },
    {
     "data": {
      "application/vnd.jupyter.widget-view+json": {
       "model_id": "e636017e41da4c4aa46a66de66edd5c6",
       "version_major": 2,
       "version_minor": 0
      },
      "text/plain": [
       "  0%|          | 0/5 [00:00<?, ?it/s]"
      ]
     },
     "metadata": {},
     "output_type": "display_data"
    },
    {
     "name": "stdout",
     "output_type": "stream",
     "text": [
      "{'eval_loss': 0.400311678647995, 'eval_f1': 0.8222722159730034, 'eval_runtime': 0.5497, 'eval_samples_per_second': 287.422, 'eval_steps_per_second': 9.096, 'epoch': 5.0}\n",
      "{'loss': 0.4181, 'grad_norm': 9.841779708862305, 'learning_rate': 4.444444444444444e-07, 'epoch': 5.56}\n"
     ]
    },
    {
     "data": {
      "application/vnd.jupyter.widget-view+json": {
       "model_id": "e92a116e274b4ce18b5b306234af281c",
       "version_major": 2,
       "version_minor": 0
      },
      "text/plain": [
       "  0%|          | 0/5 [00:00<?, ?it/s]"
      ]
     },
     "metadata": {},
     "output_type": "display_data"
    },
    {
     "name": "stdout",
     "output_type": "stream",
     "text": [
      "{'eval_loss': 0.3986898362636566, 'eval_f1': 0.8222722159730034, 'eval_runtime': 0.8979, 'eval_samples_per_second': 175.967, 'eval_steps_per_second': 5.569, 'epoch': 6.0}\n"
     ]
    },
    {
     "data": {
      "application/vnd.jupyter.widget-view+json": {
       "model_id": "5a33937012d241e3a9848efbe51da858",
       "version_major": 2,
       "version_minor": 0
      },
      "text/plain": [
       "  0%|          | 0/5 [00:00<?, ?it/s]"
      ]
     },
     "metadata": {},
     "output_type": "display_data"
    },
    {
     "name": "stdout",
     "output_type": "stream",
     "text": [
      "{'eval_loss': 0.39706507325172424, 'eval_f1': 0.8284043441938178, 'eval_runtime': 0.5397, 'eval_samples_per_second': 292.741, 'eval_steps_per_second': 9.264, 'epoch': 7.0}\n"
     ]
    },
    {
     "data": {
      "application/vnd.jupyter.widget-view+json": {
       "model_id": "455080e3d0b644879210fac109487739",
       "version_major": 2,
       "version_minor": 0
      },
      "text/plain": [
       "  0%|          | 0/5 [00:00<?, ?it/s]"
      ]
     },
     "metadata": {},
     "output_type": "display_data"
    },
    {
     "name": "stdout",
     "output_type": "stream",
     "text": [
      "{'eval_loss': 0.3933354616165161, 'eval_f1': 0.8284043441938178, 'eval_runtime': 0.3504, 'eval_samples_per_second': 450.885, 'eval_steps_per_second': 14.269, 'epoch': 8.0}\n"
     ]
    },
    {
     "data": {
      "application/vnd.jupyter.widget-view+json": {
       "model_id": "f675e2f2e0674312a040e489c10603ec",
       "version_major": 2,
       "version_minor": 0
      },
      "text/plain": [
       "  0%|          | 0/5 [00:00<?, ?it/s]"
      ]
     },
     "metadata": {},
     "output_type": "display_data"
    },
    {
     "name": "stdout",
     "output_type": "stream",
     "text": [
      "{'eval_loss': 0.39467743039131165, 'eval_f1': 0.8284043441938178, 'eval_runtime': 0.3455, 'eval_samples_per_second': 457.31, 'eval_steps_per_second': 14.472, 'epoch': 9.0}\n"
     ]
    },
    {
     "data": {
      "application/vnd.jupyter.widget-view+json": {
       "model_id": "3c6904394aad491a85491220e6acf676",
       "version_major": 2,
       "version_minor": 0
      },
      "text/plain": [
       "  0%|          | 0/5 [00:00<?, ?it/s]"
      ]
     },
     "metadata": {},
     "output_type": "display_data"
    },
    {
     "name": "stdout",
     "output_type": "stream",
     "text": [
      "{'eval_loss': 0.3937326967716217, 'eval_f1': 0.8284043441938178, 'eval_runtime': 0.3331, 'eval_samples_per_second': 474.318, 'eval_steps_per_second': 15.01, 'epoch': 10.0}\n",
      "{'train_runtime': 324.642, 'train_samples_per_second': 88.405, 'train_steps_per_second': 2.772, 'train_loss': 0.39411829630533857, 'epoch': 10.0}\n"
     ]
    },
    {
     "data": {
      "text/plain": [
       "TrainOutput(global_step=900, training_loss=0.39411829630533857, metrics={'train_runtime': 324.642, 'train_samples_per_second': 88.405, 'train_steps_per_second': 2.772, 'total_flos': 949985076483600.0, 'train_loss': 0.39411829630533857, 'epoch': 10.0})"
      ]
     },
     "execution_count": 74,
     "metadata": {},
     "output_type": "execute_result"
    }
   ],
   "source": [
    "trainer.train()"
   ]
  },
  {
   "cell_type": "markdown",
   "metadata": {},
   "source": [
    "We set the model in the testing mode, then we proceced to predict the labels."
   ]
  },
  {
   "cell_type": "code",
   "execution_count": 75,
   "metadata": {},
   "outputs": [
    {
     "data": {
      "application/vnd.jupyter.widget-view+json": {
       "model_id": "054e16c9f5a74f27b6c1b00a4ce03c2c",
       "version_major": 2,
       "version_minor": 0
      },
      "text/plain": [
       "  0%|          | 0/9 [00:00<?, ?it/s]"
      ]
     },
     "metadata": {},
     "output_type": "display_data"
    }
   ],
   "source": [
    "model.eval()\n",
    "\n",
    "output = trainer.predict(en_test_df_pt)"
   ]
  },
  {
   "cell_type": "markdown",
   "metadata": {},
   "source": [
    "We now proceed to show the output metrics for our tweets."
   ]
  },
  {
   "cell_type": "code",
   "execution_count": 76,
   "metadata": {},
   "outputs": [
    {
     "data": {
      "text/plain": [
       "{'test_loss': 0.39735403656959534,\n",
       " 'test_f1': 0.8376043055349824,\n",
       " 'test_runtime': 0.5629,\n",
       " 'test_samples_per_second': 508.105,\n",
       " 'test_steps_per_second': 15.989}"
      ]
     },
     "execution_count": 76,
     "metadata": {},
     "output_type": "execute_result"
    }
   ],
   "source": [
    "output.metrics"
   ]
  },
  {
   "cell_type": "markdown",
   "metadata": {},
   "source": [
    "We save the weights of the model."
   ]
  },
  {
   "cell_type": "code",
   "execution_count": 77,
   "metadata": {},
   "outputs": [],
   "source": [
    "trainer.save_model(\"./models/transformer.pth\")"
   ]
  },
  {
   "cell_type": "markdown",
   "metadata": {},
   "source": [
    "We print the confusion matrix."
   ]
  },
  {
   "cell_type": "code",
   "execution_count": 78,
   "metadata": {},
   "outputs": [
    {
     "data": {
      "image/png": "[encoded data removed]",
      "text/plain": [
       "<Figure size 1000x800 with 2 Axes>"
      ]
     },
     "metadata": {},
     "output_type": "display_data"
    }
   ],
   "source": [
    "y_test = en_test_df_pt['label']\n",
    "predicted_labels = np.argmax(output.predictions, axis=-1)\n",
    "\n",
    "conf_matrix = confusion_matrix(y_true=y_test, y_pred=predicted_labels)\n",
    "plt.figure(figsize=(10, 8))\n",
    "sns.heatmap(conf_matrix, annot=True, fmt='d', cmap='Blues', xticklabels=['NO', 'YES'], yticklabels=['NO', 'YES'])\n",
    "plt.xlabel('Predicted labels')\n",
    "plt.ylabel('True labels')\n",
    "plt.title('Confusion matrix')\n",
    "plt.show()"
   ]
  },
  {
   "cell_type": "markdown",
   "metadata": {},
   "source": [
    "As we can see the results are way better than the previous models. This is because we are using a transformer architecture instead of an LSTM one. The transformer is able to capture the context of the words in a better way than the LSTM, which is why it performs better on this task.\n",
    "\n",
    "Now we observe some exemples of missclassified tweets, to understand why the model failed to predict the correct label."
   ]
  },
  {
   "cell_type": "code",
   "execution_count": 79,
   "metadata": {},
   "outputs": [
    {
     "name": "stdout",
     "output_type": "stream",
     "text": [
      "Text: Suika get gangbange to death\n",
      "True label: 1\n",
      "Predicted label: 0\n",
      "\n",
      "\n",
      "Text:    Sex as in gender harassment be what they be infer\n",
      "True label: 0\n",
      "Predicted label: 1\n",
      "\n",
      "\n",
      "Text:    ah look Gender role be back too the do not believe their own lie\n",
      "True label: 1\n",
      "Predicted label: 0\n",
      "\n",
      "\n",
      "Text: isa hot girl summer now pop you all shit\n",
      "True label: 0\n",
      "Predicted label: 1\n",
      "\n",
      "\n",
      "Text:   how do we reach a point where blonk be have the audacity to talk about yoongis rap do you all see who you Stan   be you all ok   your girl can not write can not deliver can not come close to btss lyricism tf be you all get brave for   fashion deal\n",
      "True label: 0\n",
      "Predicted label: 1\n",
      "\n",
      "\n"
     ]
    },
    {
     "name": "stderr",
     "output_type": "stream",
     "text": [
      "C:\\Users\\nanni\\AppData\\Local\\Temp\\ipykernel_22440\\2895210212.py:5: FutureWarning: Series.__getitem__ treating keys as positions is deprecated. In a future version, integer keys will always be treated as labels (consistent with DataFrame behavior). To access a value by position, use `ser.iloc[pos]`\n",
      "  print(f\"Text: {en_test_df_t['tweet'][i]}\")\n"
     ]
    }
   ],
   "source": [
    "examples=0\n",
    "\n",
    "for i in range(len(y_test)):\n",
    "    if y_test[i] != predicted_labels[i] and examples< 5:\n",
    "        print(f\"Text: {en_test_df_t['tweet'][i]}\")\n",
    "        print(f\"True label: {y_test[i]}\")\n",
    "        print(f\"Predicted label: {predicted_labels[i]}\")\n",
    "        print(\"\\n\")\n",
    "        examples+=1"
   ]
  },
  {
   "cell_type": "markdown",
   "metadata": {},
   "source": [
    "Further analysis will be discussed in the Error Analysis section."
   ]
  },
  {
   "cell_type": "markdown",
   "metadata": {},
   "source": [
    "---"
   ]
  },
  {
   "cell_type": "markdown",
   "metadata": {
    "id": "3gtiG2mAL3HM"
   },
   "source": [
    "# [Task 7 - 0.5 points] Error Analysis\n",
    "\n",
    "### Instructions\n",
    "\n",
    "After evaluating the model, perform a brief error analysis:\n",
    "\n",
    " - Review the results and identify common errors.\n",
    "\n",
    " - Summarize your findings regarding the errors and their impact on performance (e.g. but not limited to Out-of-Vocabulary (OOV) words, data imbalance, and performance differences between the custom model and the transformer...)\n",
    " - Suggest possible solutions to address the identified errors.\n",
    "\n"
   ]
  },
  {
   "cell_type": "markdown",
   "metadata": {},
   "source": [
    "### Single-layer LSTM model\n",
    "\n",
    "The single-layer LSTM model has overall good performances on both the validation and test sets. The model is able to capture the context of the tweets and predict the correct label. In particular, the difference of performances between the validation and test sets is given by the fact that we select as \"best model\" the one with the lowest loss on the validation set.\n",
    "\n",
    "By looking at the confusion matrix, we notice that the best model (seed 44) tends to detect false negatives more than false positives. If we look at the missclassified tweets, we can see that the model struggles with tweets that probably contained special elements like hashtag and emojis, which have been removed (due to the preprocessing step). This is a common issue in text classification tasks, as the model is not able to capture the meaning of the tweets without these elements."
   ]
  },
  {
   "cell_type": "markdown",
   "metadata": {},
   "source": [
    "### Double-layer LSTM model\n",
    "\n",
    "The double-layer LSTM model (seed 44) has slightly better performances on the validation set than the single-layer LSTM model, but the differences are not significant. The model is able to capture the context of the tweets and predict the correct label. The performances on the test set are slightly worse, but this is probably due to random factors. In fact, the mean of the F1 for all the seeds on the validation is 0.79 (higher than the mean of the F1 of the baseline model, which is 0.75), with also a lower standard deviation, indicating that the model is more stable. We can see that the model has also a higher loss on the validation set, which is probably due to the fact that the model is more complex and needs more epochs to converge (also considering that we are already using a very low learning rate).\n",
    "\n",
    "By looking at the confusion matrix, we notice that the model tends to detect false positives more than false negatives. In general, all the problems that we have seen with the single-layer LSTM model are also present in the double-layer LSTM model. \n",
    "\n",
    "To address these issues, we can try to use a more complex model, like a transformer, which is able to capture the context of the tweets in a better way. Moreover, we can try to use a more complex preprocessing step, which is able to capture the meaning of the tweets without removing special elements like hashtags and emojis. Another solution could be to use a more complex similarity function to find the most similar word in the GloVe embeddings for the OOV tokens."
   ]
  },
  {
   "cell_type": "markdown",
   "metadata": {},
   "source": [
    "### Transformer model\n",
    "\n",
    "The transformer model has the best performances on both the validation and test sets. The model is able to capture the context of the tweets and predict the correct label. The performances on the test set are significantly better than the performances of the LSTM models. This is due to the fact that the transformer is able to capture the context of the words in a better way than the LSTM, which is why it performs better on this task. Another reason for the better performances is that the transformer has been pre-trained on a large corpus of tweets for hate speech detection, so it is able to capture the context of the tweets in a better way.\n",
    "\n",
    "By looking at the confusion matrix, we notice that the model tends to detect false negatives more than false positives, similar to the single-layer LSTM model. In general, all the problems that we have seen with the LSTM models are also present in the transformer model (e.g. the model struggles with tweets that probably contained special elements like hashtag and emojis, which have been removed).\n",
    "\n",
    "In some cases, a tweet referencing a specific event or meme might be misinterpreted if the model lacks knowledge about that context. In these cases, the knowledge base of the LLM is crucial to understand the meaning of the tweet. To address these issues in future work, we could implement a better approach to handle data cleaning (specifically for hashtags handling) and we could apply data augmentation to increase the diversity and size of the training dataset."
   ]
  },
  {
   "cell_type": "markdown",
   "metadata": {},
   "source": [
    "---------"
   ]
  },
  {
   "cell_type": "markdown",
   "metadata": {},
   "source": [
    "# [Task 8 - 0.5 points] Report\n",
    "\n",
    "Wrap up your experiment in a short report (up to 2 pages)."
   ]
  },
  {
   "cell_type": "markdown",
   "metadata": {},
   "source": [
    "---------"
   ]
  },
  {
   "cell_type": "markdown",
   "metadata": {},
   "source": [
    "## Spanish (bonus points)"
   ]
  },
  {
   "cell_type": "markdown",
   "metadata": {},
   "source": [
    "We apply the same pipeline to the Spanish tweets. First of all, we load the Spanish data from the original dataframes."
   ]
  },
  {
   "cell_type": "code",
   "execution_count": 16,
   "metadata": {},
   "outputs": [],
   "source": [
    "es_test_df = test_df[test_df['lang'] == 'es']\n",
    "es_training_df = training_df[training_df['lang'] == 'es']\n",
    "es_validation_df = validation_df[validation_df['lang'] == 'es']"
   ]
  },
  {
   "cell_type": "code",
   "execution_count": 17,
   "metadata": {},
   "outputs": [
    {
     "name": "stdout",
     "output_type": "stream",
     "text": [
      "Spanish test data shape: (0, 3)\n",
      "Spanish training data shape: (3194, 3)\n",
      "Spanish validation data shape: (490, 3)\n"
     ]
    }
   ],
   "source": [
    "print('Spanish test data shape:', es_test_df.shape)\n",
    "print('Spanish training data shape:', es_training_df.shape)\n",
    "print('Spanish validation data shape:', es_validation_df.shape)"
   ]
  },
  {
   "cell_type": "code",
   "execution_count": 18,
   "metadata": {},
   "outputs": [],
   "source": [
    "es_test_df_t = es_test_df.copy()\n",
    "es_train_df_t = es_training_df.copy()\n",
    "es_val_df_t = es_validation_df.copy()"
   ]
  },
  {
   "cell_type": "markdown",
   "metadata": {},
   "source": [
    "We can see that the Spanish tweets are not present in the test set. Thus, we'll use just the validation set to evaluate the models."
   ]
  },
  {
   "cell_type": "markdown",
   "metadata": {},
   "source": [
    "We proceed with the pipeline as in the main task."
   ]
  },
  {
   "cell_type": "code",
   "execution_count": 83,
   "metadata": {},
   "outputs": [
    {
     "name": "stderr",
     "output_type": "stream",
     "text": [
      "C:\\Users\\nanni\\AppData\\Local\\Temp\\ipykernel_22440\\2574034688.py:1: SettingWithCopyWarning: \n",
      "A value is trying to be set on a copy of a slice from a DataFrame.\n",
      "Try using .loc[row_indexer,col_indexer] = value instead\n",
      "\n",
      "See the caveats in the documentation: https://pandas.pydata.org/pandas-docs/stable/user_guide/indexing.html#returning-a-view-versus-a-copy\n",
      "  es_training_df['tweet'] = es_training_df.apply(lambda row: process_text(row['tweet'], 'es'), axis=1)\n"
     ]
    },
    {
     "name": "stdout",
     "output_type": "stream",
     "text": [
      "Training data cleaned.\n",
      "Validation data cleaned.\n"
     ]
    },
    {
     "name": "stderr",
     "output_type": "stream",
     "text": [
      "C:\\Users\\nanni\\AppData\\Local\\Temp\\ipykernel_22440\\2574034688.py:4: SettingWithCopyWarning: \n",
      "A value is trying to be set on a copy of a slice from a DataFrame.\n",
      "Try using .loc[row_indexer,col_indexer] = value instead\n",
      "\n",
      "See the caveats in the documentation: https://pandas.pydata.org/pandas-docs/stable/user_guide/indexing.html#returning-a-view-versus-a-copy\n",
      "  es_validation_df['tweet'] = es_validation_df.apply(lambda row: process_text(row['tweet'], 'es'), axis=1)\n"
     ]
    }
   ],
   "source": [
    "es_training_df['tweet'] = es_training_df.apply(lambda row: process_text(row['tweet'], 'es'), axis=1)\n",
    "print(\"Training data cleaned.\")\n",
    "\n",
    "es_validation_df['tweet'] = es_validation_df.apply(lambda row: process_text(row['tweet'], 'es'), axis=1)\n",
    "print(\"Validation data cleaned.\")"
   ]
  },
  {
   "cell_type": "markdown",
   "metadata": {},
   "source": [
    "We first load the GloVe embeddings for the Spanish language."
   ]
  },
  {
   "cell_type": "code",
   "execution_count": 84,
   "metadata": {},
   "outputs": [
    {
     "name": "stderr",
     "output_type": "stream",
     "text": [
      "C:\\Users\\nanni\\AppData\\Local\\Temp\\ipykernel_22440\\3863687398.py:1: SettingWithCopyWarning: \n",
      "A value is trying to be set on a copy of a slice from a DataFrame.\n",
      "Try using .loc[row_indexer,col_indexer] = value instead\n",
      "\n",
      "See the caveats in the documentation: https://pandas.pydata.org/pandas-docs/stable/user_guide/indexing.html#returning-a-view-versus-a-copy\n",
      "  es_training_df['tweet'] = es_training_df['tweet'].apply(lambda x: x.split())\n"
     ]
    },
    {
     "name": "stdout",
     "output_type": "stream",
     "text": [
      "Number of tokens not embedded: 2842\n"
     ]
    }
   ],
   "source": [
    "es_training_df['tweet'] = es_training_df['tweet'].apply(lambda x: x.split())\n",
    "all_tokens = np.array([token.lower() for tweet in es_training_df['tweet'] for token in tweet])\n",
    "not_embedded = set(all_tokens[~np.isin(all_tokens, list(token_to_emb.keys()))])\n",
    "\n",
    "print('Number of tokens not embedded:', len(not_embedded))"
   ]
  },
  {
   "cell_type": "markdown",
   "metadata": {},
   "source": [
    "Now we apply the same preprocess pipeline for the Spanish OOV tokens."
   ]
  },
  {
   "cell_type": "code",
   "execution_count": 86,
   "metadata": {},
   "outputs": [],
   "source": [
    "OOV_token_to_emb = dict()\n",
    "np.random.seed(42)\n",
    "\n",
    "OOV_token_to_emb = dict()\n",
    "for OOV_token in not_embedded:\n",
    "    closest_word, similarity = get_adjusted_embedding(OOV_token, token_to_emb, OOV_token_to_emb)"
   ]
  },
  {
   "cell_type": "code",
   "execution_count": 87,
   "metadata": {},
   "outputs": [],
   "source": [
    "np.random.seed(42)\n",
    "unk_emb = np.random.rand(EMB_DIM)\n",
    "pad_emb = np.zeros(EMB_DIM)"
   ]
  },
  {
   "cell_type": "code",
   "execution_count": 88,
   "metadata": {},
   "outputs": [
    {
     "name": "stdout",
     "output_type": "stream",
     "text": [
      "Number of tokens in the vocabulary: 1196357\n"
     ]
    }
   ],
   "source": [
    "token_map = token_to_emb.copy()\n",
    "token_map.update(OOV_token_to_emb)\n",
    "token_map['<unk>'] = unk_emb\n",
    "token_map['<pad>'] = pad_emb\n",
    "\n",
    "print('Number of tokens in the vocabulary:', len(token_map))"
   ]
  },
  {
   "cell_type": "code",
   "execution_count": 89,
   "metadata": {},
   "outputs": [],
   "source": [
    "%%capture\n",
    "\n",
    "es_training_df['tweet'].apply(process_tweet, args=(token_map,))"
   ]
  },
  {
   "cell_type": "markdown",
   "metadata": {},
   "source": [
    "Before training the models, we need to define the input shape for the Spanish tweets. We can use the maximum length of the Spanish tweets in the training set and then pad the sequences."
   ]
  },
  {
   "cell_type": "code",
   "execution_count": 90,
   "metadata": {},
   "outputs": [
    {
     "name": "stdout",
     "output_type": "stream",
     "text": [
      "Max tweet length: 60\n"
     ]
    }
   ],
   "source": [
    "max_tweet_length = max(es_training_df['tweet'].apply(len))\n",
    "print(f\"Max tweet length: {max_tweet_length}\")"
   ]
  },
  {
   "cell_type": "code",
   "execution_count": 91,
   "metadata": {},
   "outputs": [
    {
     "name": "stderr",
     "output_type": "stream",
     "text": [
      "C:\\Users\\nanni\\AppData\\Local\\Temp\\ipykernel_22440\\2621354546.py:1: SettingWithCopyWarning: \n",
      "A value is trying to be set on a copy of a slice from a DataFrame.\n",
      "Try using .loc[row_indexer,col_indexer] = value instead\n",
      "\n",
      "See the caveats in the documentation: https://pandas.pydata.org/pandas-docs/stable/user_guide/indexing.html#returning-a-view-versus-a-copy\n",
      "  es_training_df['tweet'] = es_training_df['tweet'].apply(lambda x: pad_sequence(x, max_tweet_length))\n",
      "C:\\Users\\nanni\\AppData\\Local\\Temp\\ipykernel_22440\\2621354546.py:6: SettingWithCopyWarning: \n",
      "A value is trying to be set on a copy of a slice from a DataFrame.\n",
      "Try using .loc[row_indexer,col_indexer] = value instead\n",
      "\n",
      "See the caveats in the documentation: https://pandas.pydata.org/pandas-docs/stable/user_guide/indexing.html#returning-a-view-versus-a-copy\n",
      "  es_validation_df['tweet'] = es_validation_df['tweet'].apply(lambda x: x.split())\n",
      "C:\\Users\\nanni\\AppData\\Local\\Temp\\ipykernel_22440\\2621354546.py:7: SettingWithCopyWarning: \n",
      "A value is trying to be set on a copy of a slice from a DataFrame.\n",
      "Try using .loc[row_indexer,col_indexer] = value instead\n",
      "\n",
      "See the caveats in the documentation: https://pandas.pydata.org/pandas-docs/stable/user_guide/indexing.html#returning-a-view-versus-a-copy\n",
      "  es_validation_df['tweet'] = es_validation_df['tweet'].apply(lambda x: pad_sequence(x, max_tweet_length))\n"
     ]
    }
   ],
   "source": [
    "es_training_df['tweet'] = es_training_df['tweet'].apply(lambda x: pad_sequence(x, max_tweet_length))\n",
    "\n",
    "es_test_df['tweet'] = es_test_df['tweet'].apply(lambda x: x.split())\n",
    "es_test_df['tweet'] = es_test_df['tweet'].apply(lambda x: pad_sequence(x, max_tweet_length))\n",
    "\n",
    "es_validation_df['tweet'] = es_validation_df['tweet'].apply(lambda x: x.split())\n",
    "es_validation_df['tweet'] = es_validation_df['tweet'].apply(lambda x: pad_sequence(x, max_tweet_length))"
   ]
  },
  {
   "cell_type": "markdown",
   "metadata": {},
   "source": [
    "Since we added new OOV tokens to the vocabulary, we need to update the embeddings matrix."
   ]
  },
  {
   "cell_type": "code",
   "execution_count": 92,
   "metadata": {},
   "outputs": [],
   "source": [
    "vocab = {word.lower(): idx for idx, word in enumerate(token_map.keys(), start=1)}\n",
    "vocab[\"<pad>\"] = 0\n",
    "embedding_matrix = np.zeros((len(vocab)+1, EMB_DIM))\n",
    "for word, idx in vocab.items():\n",
    "    if word in token_map and len(token_map[word]) == EMB_DIM:\n",
    "        embedding_matrix[idx] = token_map[word]"
   ]
  },
  {
   "cell_type": "code",
   "execution_count": 93,
   "metadata": {},
   "outputs": [],
   "source": [
    "embedding_matrix = torch.tensor(embedding_matrix, dtype=torch.float32).cuda() if torch.cuda.is_available() else torch.tensor(embedding_matrix, dtype=torch.float32)"
   ]
  },
  {
   "cell_type": "markdown",
   "metadata": {},
   "source": [
    "Now we create another column in the Spanish dataframes, mapping each token to its corresponding index in the embedding matrix."
   ]
  },
  {
   "cell_type": "code",
   "execution_count": 94,
   "metadata": {},
   "outputs": [
    {
     "name": "stderr",
     "output_type": "stream",
     "text": [
      "C:\\Users\\nanni\\AppData\\Local\\Temp\\ipykernel_22440\\1356117340.py:1: SettingWithCopyWarning: \n",
      "A value is trying to be set on a copy of a slice from a DataFrame.\n",
      "Try using .loc[row_indexer,col_indexer] = value instead\n",
      "\n",
      "See the caveats in the documentation: https://pandas.pydata.org/pandas-docs/stable/user_guide/indexing.html#returning-a-view-versus-a-copy\n",
      "  es_training_df['encoded_tweet'] = es_training_df['tweet'].apply(lambda x: torch.tensor([vocab.get(token.lower()) for token in x], dtype=torch.long))\n",
      "C:\\Users\\nanni\\AppData\\Local\\Temp\\ipykernel_22440\\1356117340.py:2: SettingWithCopyWarning: \n",
      "A value is trying to be set on a copy of a slice from a DataFrame.\n",
      "Try using .loc[row_indexer,col_indexer] = value instead\n",
      "\n",
      "See the caveats in the documentation: https://pandas.pydata.org/pandas-docs/stable/user_guide/indexing.html#returning-a-view-versus-a-copy\n",
      "  es_validation_df['encoded_tweet'] = es_validation_df['tweet'].apply(lambda x: torch.tensor([vocab.get(token.lower(), vocab['<unk>']) for token in x], dtype=torch.long))\n"
     ]
    }
   ],
   "source": [
    "es_training_df['encoded_tweet'] = es_training_df['tweet'].apply(lambda x: torch.tensor([vocab.get(token.lower()) for token in x], dtype=torch.long))\n",
    "es_validation_df['encoded_tweet'] = es_validation_df['tweet'].apply(lambda x: torch.tensor([vocab.get(token.lower(), vocab['<unk>']) for token in x], dtype=torch.long))"
   ]
  },
  {
   "cell_type": "markdown",
   "metadata": {},
   "source": [
    "Training and evaluation for the Spanish tweets is the same as for the English tweets. We start by training the `Baseline` model."
   ]
  },
  {
   "cell_type": "code",
   "execution_count": null,
   "metadata": {},
   "outputs": [
    {
     "name": "stdout",
     "output_type": "stream",
     "text": [
      "Training model with seed 42\n",
      "Epoch [10/1000] | Loss on train: 0.6928 | F1 on train: 0.3530 | Loss on validation: 0.6915 | F1 on validation: 0.3629 | LR: 0.001000\n",
      "Epoch [20/1000] | Loss on train: 0.6672 | F1 on train: 0.5050 | Loss on validation: 0.7181 | F1 on validation: 0.4925 | LR: 0.001000\n",
      "Best loss on validation found on epoch 5: 0.6878\n",
      "F1 score on validation: 0.3629\n"
     ]
    },
    {
     "data": {
      "image/png": "[encoded data removed]",
      "text/plain": [
       "<Figure size 640x480 with 1 Axes>"
      ]
     },
     "metadata": {},
     "output_type": "display_data"
    },
    {
     "name": "stdout",
     "output_type": "stream",
     "text": [
      "\n",
      "---------------------------------\n",
      "\n",
      "Training model with seed 43\n",
      "Epoch [10/1000] | Loss on train: 0.6964 | F1 on train: 0.3934 | Loss on validation: 0.6896 | F1 on validation: 0.3629 | LR: 0.001000\n",
      "Epoch [20/1000] | Loss on train: 0.6934 | F1 on train: 0.3651 | Loss on validation: 0.6951 | F1 on validation: 0.3009 | LR: 0.001000\n",
      "Best loss on validation found on epoch 8: 0.6843\n",
      "F1 score on validation: 0.3629\n"
     ]
    },
    {
     "data": {
      "image/png": "[encoded data removed]",
      "text/plain": [
       "<Figure size 640x480 with 1 Axes>"
      ]
     },
     "metadata": {},
     "output_type": "display_data"
    },
    {
     "name": "stdout",
     "output_type": "stream",
     "text": [
      "\n",
      "---------------------------------\n",
      "\n",
      "Training model with seed 44\n",
      "Epoch [10/1000] | Loss on train: 0.6911 | F1 on train: 0.3784 | Loss on validation: 0.6896 | F1 on validation: 0.3761 | LR: 0.001000\n",
      "Epoch [20/1000] | Loss on train: 0.6715 | F1 on train: 0.5089 | Loss on validation: 0.6797 | F1 on validation: 0.5059 | LR: 0.001000\n",
      "Epoch [30/1000] | Loss on train: 0.6454 | F1 on train: 0.6545 | Loss on validation: 0.7504 | F1 on validation: 0.4376 | LR: 0.000100\n",
      "Epoch [40/1000] | Loss on train: 0.6173 | F1 on train: 0.6713 | Loss on validation: 0.6487 | F1 on validation: 0.6508 | LR: 0.000100\n",
      "Epoch [50/1000] | Loss on train: 0.6138 | F1 on train: 0.6660 | Loss on validation: 0.6515 | F1 on validation: 0.6453 | LR: 0.000010\n",
      "Best loss on validation found on epoch 39: 0.6210\n",
      "F1 score on validation: 0.6832\n"
     ]
    },
    {
     "data": {
      "image/png": "[encoded data removed]",
      "text/plain": [
       "<Figure size 640x480 with 1 Axes>"
      ]
     },
     "metadata": {},
     "output_type": "display_data"
    },
    {
     "name": "stdout",
     "output_type": "stream",
     "text": [
      "\n",
      "---------------------------------\n",
      "\n"
     ]
    }
   ],
   "source": [
    "seeds = [42, 43, 44]\n",
    "batch_size = 32\n",
    "baseline_models = {}\n",
    "train_data = TensorDataset(torch.tensor(np.stack(es_training_df['encoded_tweet'].tolist()), dtype=torch.long), torch.tensor(es_training_df['hard_label_task1'].tolist(), dtype=torch.long))\n",
    "\n",
    "for seed in seeds:\n",
    "    print(f'Training model with seed {seed}')\n",
    "    train_loader = generate_loader(train_data, batch_size, seed)\n",
    "    model = Baseline(input_size=EMB_DIM, hidden_size=256, output_size=2, dropout=0.3, vocab_size=len(vocab), embedding_matrix=embedding_matrix).cuda()\n",
    "    criterion = nn.CrossEntropyLoss()\n",
    "    optimizer = optim.AdamW(model.parameters(), lr=1e-3)\n",
    "    scheduler = StepLR(optimizer, step_size=20, gamma=0.1)\n",
    "    model, fscore, loss = train(model, train_loader, criterion, optimizer, scheduler, num_epochs=150, early_stopping_threshold=20, verbose=True, seed=seed)\n",
    "    baseline_models[seed] = (model, fscore, loss)\n",
    "    print(\"\\n---------------------------------\\n\")"
   ]
  },
  {
   "cell_type": "code",
   "execution_count": 96,
   "metadata": {},
   "outputs": [
    {
     "name": "stdout",
     "output_type": "stream",
     "text": [
      "Best model found with seed 44 with F1 score: 0.6832 and loss: 0.6210\n",
      "The mean F1 score of the models is 0.4697\n",
      "The mean loss of the models is 0.6644\n",
      "The standard deviation of the F1 scores of the models is 0.1510\n"
     ]
    }
   ],
   "source": [
    "best_baseline = max(baseline_models, key=lambda k: baseline_models[k][1])\n",
    "print(f'Best model found with seed {best_baseline} with F1 score: {baseline_models[best_baseline][1]:.4f} and loss: {baseline_models[best_baseline][2]:.4f}')\n",
    "print(f\"The mean F1 score of the models is {np.mean([model[1] for model in baseline_models.values()]):.4f}\")\n",
    "print(f\"The mean loss of the models is {np.mean([model[2] for model in baseline_models.values()]):.4f}\")\n",
    "print(f\"The standard deviation of the F1 scores of the models is {np.std([model[1] for model in baseline_models.values()]):.4f}\")"
   ]
  },
  {
   "cell_type": "code",
   "execution_count": 97,
   "metadata": {},
   "outputs": [
    {
     "name": "stdout",
     "output_type": "stream",
     "text": [
      "F1 score on test: 0.6606\n"
     ]
    }
   ],
   "source": [
    "best_model_state_dict = baseline_models[best_baseline][0]\n",
    "best_baseline = Baseline(input_size=EMB_DIM, hidden_size=256, output_size=2, dropout=0.3, vocab_size=len(vocab), embedding_matrix=embedding_matrix).cuda()\n",
    "best_baseline.load_state_dict(best_model_state_dict)\n",
    "\n",
    "best_baseline.eval()\n",
    "with torch.no_grad():\n",
    "    X_val = torch.tensor(np.stack(es_validation_df['encoded_tweet'].tolist()), dtype=torch.long).to(best_baseline.device)\n",
    "    y_val = torch.tensor(es_validation_df['hard_label_task1'].tolist(), dtype=torch.long).to(best_baseline.device)\n",
    "    outputs = best_baseline(X_val)\n",
    "    predicted_labels = torch.argmax(outputs, dim=1)\n",
    "    f1 = f1_score(y_true=y_val.cpu().numpy(), y_pred=predicted_labels.cpu().numpy(), average='macro')\n",
    "    print(f'F1 score on test: {f1:.4f}')"
   ]
  },
  {
   "cell_type": "code",
   "execution_count": 98,
   "metadata": {},
   "outputs": [
    {
     "data": {
      "image/png": "[encoded data removed]",
      "text/plain": [
       "<Figure size 1000x800 with 2 Axes>"
      ]
     },
     "metadata": {},
     "output_type": "display_data"
    }
   ],
   "source": [
    "y_val = y_val.cpu().numpy()\n",
    "predicted_labels = predicted_labels.cpu().numpy()\n",
    "conf_matrix = confusion_matrix(y_true=y_val, y_pred=predicted_labels)\n",
    "plt.figure(figsize=(10, 8))\n",
    "sns.heatmap(conf_matrix, annot=True, fmt='d', cmap='Blues', xticklabels=['NO', 'YES'], yticklabels=['NO', 'YES'])\n",
    "plt.xlabel('Predicted labels')\n",
    "plt.ylabel('True labels')\n",
    "plt.title('Confusion matrix')\n",
    "plt.show()"
   ]
  },
  {
   "cell_type": "markdown",
   "metadata": {},
   "source": [
    "Saving the best model."
   ]
  },
  {
   "cell_type": "code",
   "execution_count": 100,
   "metadata": {},
   "outputs": [],
   "source": [
    "torch.save(best_baseline.state_dict(), 'models/baseline_model_es.pth')"
   ]
  },
  {
   "cell_type": "markdown",
   "metadata": {},
   "source": [
    "We then train the `Model1` model."
   ]
  },
  {
   "cell_type": "code",
   "execution_count": 102,
   "metadata": {},
   "outputs": [
    {
     "name": "stdout",
     "output_type": "stream",
     "text": [
      "Training model with seed 42\n",
      "Epoch [10/150] | Loss on train: 0.6925 | F1 on train: 0.3676 | Loss on validation: 0.6898 | F1 on validation: 0.3629 | LR: 0.001000\n",
      "Epoch [20/150] | Loss on train: 0.6819 | F1 on train: 0.4796 | Loss on validation: 0.6434 | F1 on validation: 0.5926 | LR: 0.001000\n",
      "Epoch [30/150] | Loss on train: 0.6418 | F1 on train: 0.6146 | Loss on validation: 0.6260 | F1 on validation: 0.6642 | LR: 0.000100\n",
      "Epoch [40/150] | Loss on train: 0.6170 | F1 on train: 0.6488 | Loss on validation: 0.6244 | F1 on validation: 0.6459 | LR: 0.000100\n",
      "Epoch [50/150] | Loss on train: 0.5864 | F1 on train: 0.6963 | Loss on validation: 0.6359 | F1 on validation: 0.6289 | LR: 0.000010\n",
      "Epoch [60/150] | Loss on train: 0.5729 | F1 on train: 0.7003 | Loss on validation: 0.6446 | F1 on validation: 0.6078 | LR: 0.000010\n",
      "Best loss on validation found on epoch 42: 0.6222\n",
      "F1 score on validation: 0.6514\n"
     ]
    },
    {
     "data": {
      "image/png": "[encoded data removed]",
      "text/plain": [
       "<Figure size 640x480 with 1 Axes>"
      ]
     },
     "metadata": {},
     "output_type": "display_data"
    },
    {
     "name": "stdout",
     "output_type": "stream",
     "text": [
      "\n",
      "---------------------------------\n",
      "\n",
      "Training model with seed 43\n",
      "Epoch [10/150] | Loss on train: 0.6955 | F1 on train: 0.4180 | Loss on validation: 0.6605 | F1 on validation: 0.5949 | LR: 0.001000\n",
      "Epoch [20/150] | Loss on train: 0.5516 | F1 on train: 0.7206 | Loss on validation: 0.6957 | F1 on validation: 0.5506 | LR: 0.001000\n",
      "Epoch [30/150] | Loss on train: 0.4458 | F1 on train: 0.7949 | Loss on validation: 0.8831 | F1 on validation: 0.4530 | LR: 0.000100\n",
      "Best loss on validation found on epoch 17: 0.6420\n",
      "F1 score on validation: 0.5805\n"
     ]
    },
    {
     "data": {
      "image/png": "[encoded data removed]",
      "text/plain": [
       "<Figure size 640x480 with 1 Axes>"
      ]
     },
     "metadata": {},
     "output_type": "display_data"
    },
    {
     "name": "stdout",
     "output_type": "stream",
     "text": [
      "\n",
      "---------------------------------\n",
      "\n",
      "Training model with seed 44\n",
      "Epoch [10/150] | Loss on train: 0.6929 | F1 on train: 0.3532 | Loss on validation: 0.6917 | F1 on validation: 0.3761 | LR: 0.001000\n",
      "Epoch [20/150] | Loss on train: 0.6929 | F1 on train: 0.3364 | Loss on validation: 0.6903 | F1 on validation: 0.3629 | LR: 0.001000\n",
      "Epoch [30/150] | Loss on train: 0.6928 | F1 on train: 0.3365 | Loss on validation: 0.6904 | F1 on validation: 0.3629 | LR: 0.000100\n",
      "Best loss on validation found on epoch 16: 0.6897\n",
      "F1 score on validation: 0.3629\n"
     ]
    },
    {
     "data": {
      "image/png": "[encoded data removed]",
      "text/plain": [
       "<Figure size 640x480 with 1 Axes>"
      ]
     },
     "metadata": {},
     "output_type": "display_data"
    },
    {
     "name": "stdout",
     "output_type": "stream",
     "text": [
      "\n",
      "---------------------------------\n",
      "\n"
     ]
    }
   ],
   "source": [
    "seeds = [42, 43, 44]\n",
    "batch_size = 32\n",
    "model1_models = {}\n",
    "train_data = TensorDataset(torch.tensor(np.stack(es_training_df['encoded_tweet'].tolist()), dtype=torch.long), torch.tensor(es_training_df['hard_label_task1'].tolist(), dtype=torch.long))\n",
    "\n",
    "for seed in seeds:\n",
    "    print(f'Training model with seed {seed}')\n",
    "    train_loader = generate_loader(train_data, batch_size, seed)\n",
    "    model = Model1(input_size=EMB_DIM, hidden_size=256, output_size=2, dropout=0.3, vocab_size=len(vocab), embedding_matrix=embedding_matrix).cuda()\n",
    "    criterion = nn.CrossEntropyLoss()\n",
    "    optimizer = optim.AdamW(model.parameters(), lr=1e-3)\n",
    "    scheduler = StepLR(optimizer, step_size=20, gamma=0.1)\n",
    "    model, fscore, loss = train(model, train_loader, criterion, optimizer, scheduler, num_epochs=150, early_stopping_threshold=20, verbose=True, seed=seed)\n",
    "    model1_models[seed] = (model, fscore, loss)\n",
    "    print(\"\\n---------------------------------\\n\")"
   ]
  },
  {
   "cell_type": "code",
   "execution_count": 103,
   "metadata": {},
   "outputs": [
    {
     "name": "stdout",
     "output_type": "stream",
     "text": [
      "Best model found with seed 42 with F1 score: 0.6514 and loss: 0.6222\n",
      "The mean F1 score of the models is 0.5316\n",
      "The mean loss of the models is 0.6513\n",
      "The standard deviation of the F1 scores of the models is 0.1228\n"
     ]
    }
   ],
   "source": [
    "best_model1 = max(model1_models, key=lambda k: model1_models[k][1])\n",
    "print(f'Best model found with seed {best_model1} with F1 score: {model1_models[best_model1][1]:.4f} and loss: {model1_models[best_model1][2]:.4f}')\n",
    "print(f\"The mean F1 score of the models is {np.mean([model[1] for model in model1_models.values()]):.4f}\")\n",
    "print(f\"The mean loss of the models is {np.mean([model[2] for model in model1_models.values()]):.4f}\")\n",
    "print(f\"The standard deviation of the F1 scores of the models is {np.std([model[1] for model in model1_models.values()]):.4f}\")"
   ]
  },
  {
   "cell_type": "code",
   "execution_count": 104,
   "metadata": {},
   "outputs": [
    {
     "name": "stdout",
     "output_type": "stream",
     "text": [
      "F1 score on test: 0.6755\n"
     ]
    }
   ],
   "source": [
    "best_model_state_dict = model1_models[best_model1][0]\n",
    "best_model1 = Model1(input_size=EMB_DIM, hidden_size=256, output_size=2, dropout=0.3, vocab_size=len(vocab), embedding_matrix=embedding_matrix).cuda()\n",
    "best_model1.load_state_dict(best_model_state_dict)\n",
    "\n",
    "best_model1.eval()\n",
    "with torch.no_grad():\n",
    "    X_val = torch.tensor(np.stack(es_validation_df['encoded_tweet'].tolist()), dtype=torch.long).to(best_model1.device)\n",
    "    y_val = torch.tensor(es_validation_df['hard_label_task1'].tolist(), dtype=torch.long).to(best_model1.device)\n",
    "    outputs = best_model1(X_val)\n",
    "    predicted_labels = torch.argmax(outputs, dim=1)\n",
    "    f1 = f1_score(y_true=y_val.cpu().numpy(), y_pred=predicted_labels.cpu().numpy(), average='macro')\n",
    "    print(f'F1 score on test: {f1:.4f}')"
   ]
  },
  {
   "cell_type": "code",
   "execution_count": 105,
   "metadata": {},
   "outputs": [
    {
     "data": {
      "image/png": "[encoded data removed]",
      "text/plain": [
       "<Figure size 1000x800 with 2 Axes>"
      ]
     },
     "metadata": {},
     "output_type": "display_data"
    }
   ],
   "source": [
    "y_val = y_val.cpu().numpy()\n",
    "predicted_labels = predicted_labels.cpu().numpy()\n",
    "conf_matrix = confusion_matrix(y_true=y_val, y_pred=predicted_labels)\n",
    "plt.figure(figsize=(10, 8))\n",
    "sns.heatmap(conf_matrix, annot=True, fmt='d', cmap='Blues', xticklabels=['NO', 'YES'], yticklabels=['NO', 'YES'])\n",
    "plt.xlabel('Predicted labels')\n",
    "plt.ylabel('True labels')\n",
    "plt.title('Confusion matrix')\n",
    "plt.show()"
   ]
  },
  {
   "cell_type": "markdown",
   "metadata": {},
   "source": [
    "We save the best model."
   ]
  },
  {
   "cell_type": "code",
   "execution_count": 106,
   "metadata": {},
   "outputs": [],
   "source": [
    "torch.save(best_model1.state_dict(), 'models/model1_es.pth')"
   ]
  },
  {
   "cell_type": "markdown",
   "metadata": {},
   "source": [
    "We now train the Transformer model for Spanish tweets."
   ]
  },
  {
   "cell_type": "markdown",
   "metadata": {},
   "source": [
    "We Download the model and the tokenizer from huggingface."
   ]
  },
  {
   "cell_type": "code",
   "execution_count": 19,
   "metadata": {},
   "outputs": [],
   "source": [
    "np.random.seed(42)\n",
    "torch.manual_seed(42)\n",
    "random.seed(42)\n",
    "\n",
    "#MAPPING THE OUTPUTS\n",
    "id2label = {0: \"NO\", 1: \"YES\"}\n",
    "label2id = {\"NO\": 0, \"YES\": 1}\n",
    "\n",
    "\n",
    "model_name = \"cardiffnlp/twitter-roberta-base-hate\"\n",
    "model = AutoModelForSequenceClassification.from_pretrained(model_name, num_labels=2, id2label=id2label, label2id=label2id)\n",
    "tokenizer = AutoTokenizer.from_pretrained(model_name)"
   ]
  },
  {
   "cell_type": "markdown",
   "metadata": {},
   "source": [
    "We convert the pandas dataframes to huggingface datasets so that they can be used in the huggingface roBERTa model."
   ]
  },
  {
   "cell_type": "code",
   "execution_count": 20,
   "metadata": {},
   "outputs": [],
   "source": [
    "es_train_df_pt = Dataset.from_pandas(es_train_df_t)\n",
    "es_val_df_pt = Dataset.from_pandas(es_val_df_t)\n",
    "es_test_df_pt = Dataset.from_pandas(es_test_df_t)"
   ]
  },
  {
   "cell_type": "markdown",
   "metadata": {},
   "source": [
    "We take the cleaned data and we use the tokenizer we just downloaded for the model to elaborate the data. "
   ]
  },
  {
   "cell_type": "code",
   "execution_count": 21,
   "metadata": {},
   "outputs": [
    {
     "data": {
      "application/vnd.jupyter.widget-view+json": {
       "model_id": "5492dd7c42214eaf9ba3703bdf169df3",
       "version_major": 2,
       "version_minor": 0
      },
      "text/plain": [
       "Map:   0%|          | 0/3194 [00:00<?, ? examples/s]"
      ]
     },
     "metadata": {},
     "output_type": "display_data"
    },
    {
     "data": {
      "application/vnd.jupyter.widget-view+json": {
       "model_id": "e39a043605b24fb6b078b9a678cec37a",
       "version_major": 2,
       "version_minor": 0
      },
      "text/plain": [
       "Map:   0%|          | 0/490 [00:00<?, ? examples/s]"
      ]
     },
     "metadata": {},
     "output_type": "display_data"
    }
   ],
   "source": [
    "def tokenization(example):\n",
    "    return tokenizer(example[\"text\"])\n",
    "\n",
    "\n",
    "es_train_df_pt = es_train_df_pt.map(lambda examples: tokenizer(examples[\"tweet\"]), batched=True)\n",
    "es_val_df_pt = es_val_df_pt.map(lambda examples: tokenizer(examples[\"tweet\"]), batched=True)\n",
    "es_test_df_pt = es_test_df_pt.map(lambda examples: tokenizer(examples[\"tweet\"]), batched=True)\n",
    "\n",
    "es_train_df_pt = es_train_df_pt.rename_column(\"hard_label_task1\", \"label\")\n",
    "es_val_df_pt = es_val_df_pt.rename_column(\"hard_label_task1\", \"label\")\n",
    "es_test_df_pt = es_test_df_pt.rename_column(\"hard_label_task1\", \"label\")"
   ]
  },
  {
   "cell_type": "markdown",
   "metadata": {},
   "source": [
    "We define the arguments for the trainer."
   ]
  },
  {
   "cell_type": "code",
   "execution_count": 22,
   "metadata": {},
   "outputs": [
    {
     "name": "stderr",
     "output_type": "stream",
     "text": [
      "c:\\Users\\nanni\\AppData\\Local\\Programs\\Python\\Python312\\Lib\\site-packages\\transformers\\training_args.py:1575: FutureWarning: `evaluation_strategy` is deprecated and will be removed in version 4.46 of 🤗 Transformers. Use `eval_strategy` instead\n",
      "  warnings.warn(\n"
     ]
    }
   ],
   "source": [
    "training_args = TrainingArguments(\n",
    "    output_dir=\"test_dir_es\",                 # where to save model\n",
    "    learning_rate=1e-6,\n",
    "    lr_scheduler_type='linear',            # learning rate scheduler             \n",
    "    per_device_train_batch_size=32,        # accelerate defines distributed training\n",
    "    per_device_eval_batch_size=32,\n",
    "    num_train_epochs=10,\n",
    "    weight_decay=0.01,\n",
    "    evaluation_strategy=\"epoch\",           # when to report evaluation metrics/losses\n",
    "    save_strategy=\"epoch\",                 # when to save checkpoint\n",
    "    load_best_model_at_end=True,\n",
    "    report_to='none'                       # disabling wandb (default)\n",
    ")"
   ]
  },
  {
   "cell_type": "markdown",
   "metadata": {},
   "source": [
    "We train the model with the tokenized tweets."
   ]
  },
  {
   "cell_type": "code",
   "execution_count": 23,
   "metadata": {},
   "outputs": [
    {
     "name": "stderr",
     "output_type": "stream",
     "text": [
      "C:\\Users\\nanni\\AppData\\Local\\Temp\\ipykernel_8644\\4057451773.py:1: FutureWarning: `tokenizer` is deprecated and will be removed in version 5.0.0 for `Trainer.__init__`. Use `processing_class` instead.\n",
      "  trainer = Trainer(\n"
     ]
    },
    {
     "data": {
      "application/vnd.jupyter.widget-view+json": {
       "model_id": "da008c0d3bc0499687277d213ba4669a",
       "version_major": 2,
       "version_minor": 0
      },
      "text/plain": [
       "  0%|          | 0/1000 [00:00<?, ?it/s]"
      ]
     },
     "metadata": {},
     "output_type": "display_data"
    },
    {
     "data": {
      "application/vnd.jupyter.widget-view+json": {
       "model_id": "1784ed66a2b4468da16811b298e00aed",
       "version_major": 2,
       "version_minor": 0
      },
      "text/plain": [
       "  0%|          | 0/16 [00:00<?, ?it/s]"
      ]
     },
     "metadata": {},
     "output_type": "display_data"
    },
    {
     "name": "stdout",
     "output_type": "stream",
     "text": [
      "{'eval_loss': 0.6118925213813782, 'eval_f1': 0.6720708059361876, 'eval_runtime': 11.4855, 'eval_samples_per_second': 42.662, 'eval_steps_per_second': 1.393, 'epoch': 1.0}\n"
     ]
    },
    {
     "data": {
      "application/vnd.jupyter.widget-view+json": {
       "model_id": "1b95742a951f46b3a18da578de66f730",
       "version_major": 2,
       "version_minor": 0
      },
      "text/plain": [
       "  0%|          | 0/16 [00:00<?, ?it/s]"
      ]
     },
     "metadata": {},
     "output_type": "display_data"
    },
    {
     "name": "stdout",
     "output_type": "stream",
     "text": [
      "{'eval_loss': 0.5681313276290894, 'eval_f1': 0.7017227864778772, 'eval_runtime': 11.5747, 'eval_samples_per_second': 42.334, 'eval_steps_per_second': 1.382, 'epoch': 2.0}\n"
     ]
    },
    {
     "data": {
      "application/vnd.jupyter.widget-view+json": {
       "model_id": "f956d066f4d1439580a7331147dc3444",
       "version_major": 2,
       "version_minor": 0
      },
      "text/plain": [
       "  0%|          | 0/16 [00:00<?, ?it/s]"
      ]
     },
     "metadata": {},
     "output_type": "display_data"
    },
    {
     "name": "stdout",
     "output_type": "stream",
     "text": [
      "{'eval_loss': 0.5470531582832336, 'eval_f1': 0.7195566714430737, 'eval_runtime': 11.576, 'eval_samples_per_second': 42.329, 'eval_steps_per_second': 1.382, 'epoch': 3.0}\n"
     ]
    },
    {
     "data": {
      "application/vnd.jupyter.widget-view+json": {
       "model_id": "80b626eeb1d24ad596a53dda5039ade3",
       "version_major": 2,
       "version_minor": 0
      },
      "text/plain": [
       "  0%|          | 0/16 [00:00<?, ?it/s]"
      ]
     },
     "metadata": {},
     "output_type": "display_data"
    },
    {
     "name": "stdout",
     "output_type": "stream",
     "text": [
      "{'eval_loss': 0.5346266031265259, 'eval_f1': 0.7323308772324872, 'eval_runtime': 34.8162, 'eval_samples_per_second': 14.074, 'eval_steps_per_second': 0.46, 'epoch': 4.0}\n",
      "{'loss': 0.6071, 'grad_norm': 8.55703353881836, 'learning_rate': 5e-07, 'epoch': 5.0}\n"
     ]
    },
    {
     "data": {
      "application/vnd.jupyter.widget-view+json": {
       "model_id": "53d3004ea6ea475992efcb38cf77c558",
       "version_major": 2,
       "version_minor": 0
      },
      "text/plain": [
       "  0%|          | 0/16 [00:00<?, ?it/s]"
      ]
     },
     "metadata": {},
     "output_type": "display_data"
    },
    {
     "name": "stdout",
     "output_type": "stream",
     "text": [
      "{'eval_loss': 0.5278504490852356, 'eval_f1': 0.7342511472674176, 'eval_runtime': 34.5586, 'eval_samples_per_second': 14.179, 'eval_steps_per_second': 0.463, 'epoch': 5.0}\n"
     ]
    },
    {
     "data": {
      "application/vnd.jupyter.widget-view+json": {
       "model_id": "d71ba75f0f9347f6baf31b4df0694a45",
       "version_major": 2,
       "version_minor": 0
      },
      "text/plain": [
       "  0%|          | 0/16 [00:00<?, ?it/s]"
      ]
     },
     "metadata": {},
     "output_type": "display_data"
    },
    {
     "name": "stdout",
     "output_type": "stream",
     "text": [
      "{'eval_loss': 0.5231592059135437, 'eval_f1': 0.7405732152162585, 'eval_runtime': 35.0409, 'eval_samples_per_second': 13.984, 'eval_steps_per_second': 0.457, 'epoch': 6.0}\n"
     ]
    },
    {
     "data": {
      "application/vnd.jupyter.widget-view+json": {
       "model_id": "8e8bf6b2e64a4f2aa766b500f6e3e541",
       "version_major": 2,
       "version_minor": 0
      },
      "text/plain": [
       "  0%|          | 0/16 [00:00<?, ?it/s]"
      ]
     },
     "metadata": {},
     "output_type": "display_data"
    },
    {
     "name": "stdout",
     "output_type": "stream",
     "text": [
      "{'eval_loss': 0.5183007121086121, 'eval_f1': 0.7423377403846154, 'eval_runtime': 32.5912, 'eval_samples_per_second': 15.035, 'eval_steps_per_second': 0.491, 'epoch': 7.0}\n"
     ]
    },
    {
     "data": {
      "application/vnd.jupyter.widget-view+json": {
       "model_id": "7a431cf21ef34c1d8616b35572ae3c21",
       "version_major": 2,
       "version_minor": 0
      },
      "text/plain": [
       "  0%|          | 0/16 [00:00<?, ?it/s]"
      ]
     },
     "metadata": {},
     "output_type": "display_data"
    },
    {
     "name": "stdout",
     "output_type": "stream",
     "text": [
      "{'eval_loss': 0.5169339179992676, 'eval_f1': 0.7425096756973175, 'eval_runtime': 32.6612, 'eval_samples_per_second': 15.002, 'eval_steps_per_second': 0.49, 'epoch': 8.0}\n"
     ]
    },
    {
     "data": {
      "application/vnd.jupyter.widget-view+json": {
       "model_id": "600c8147abe346c38fbfa448a79f148c",
       "version_major": 2,
       "version_minor": 0
      },
      "text/plain": [
       "  0%|          | 0/16 [00:00<?, ?it/s]"
      ]
     },
     "metadata": {},
     "output_type": "display_data"
    },
    {
     "name": "stdout",
     "output_type": "stream",
     "text": [
      "{'eval_loss': 0.5156663656234741, 'eval_f1': 0.746596823702122, 'eval_runtime': 32.8986, 'eval_samples_per_second': 14.894, 'eval_steps_per_second': 0.486, 'epoch': 9.0}\n",
      "{'loss': 0.5051, 'grad_norm': 20.843965530395508, 'learning_rate': 0.0, 'epoch': 10.0}\n"
     ]
    },
    {
     "data": {
      "application/vnd.jupyter.widget-view+json": {
       "model_id": "7d235d6801254ff180126306255c8dae",
       "version_major": 2,
       "version_minor": 0
      },
      "text/plain": [
       "  0%|          | 0/16 [00:00<?, ?it/s]"
      ]
     },
     "metadata": {},
     "output_type": "display_data"
    },
    {
     "name": "stdout",
     "output_type": "stream",
     "text": [
      "{'eval_loss': 0.5156096816062927, 'eval_f1': 0.746596823702122, 'eval_runtime': 32.5845, 'eval_samples_per_second': 15.038, 'eval_steps_per_second': 0.491, 'epoch': 10.0}\n",
      "{'train_runtime': 3074.3692, 'train_samples_per_second': 10.389, 'train_steps_per_second': 0.325, 'train_loss': 0.5560845489501953, 'epoch': 10.0}\n"
     ]
    },
    {
     "data": {
      "text/plain": [
       "TrainOutput(global_step=1000, training_loss=0.5560845489501953, metrics={'train_runtime': 3074.3692, 'train_samples_per_second': 10.389, 'train_steps_per_second': 0.325, 'total_flos': 2185328481390960.0, 'train_loss': 0.5560845489501953, 'epoch': 10.0})"
      ]
     },
     "execution_count": 23,
     "metadata": {},
     "output_type": "execute_result"
    }
   ],
   "source": [
    "trainer = Trainer(\n",
    "    model=model,\n",
    "    args=training_args,\n",
    "    train_dataset=es_train_df_pt,\n",
    "    eval_dataset=es_val_df_pt,\n",
    "    tokenizer=tokenizer,\n",
    "    compute_metrics=compute_metrics,\n",
    ")\n",
    "\n",
    "trainer.train()"
   ]
  },
  {
   "cell_type": "markdown",
   "metadata": {},
   "source": [
    "We set the model in the testing mode, then we proceced to predict the labels."
   ]
  },
  {
   "cell_type": "code",
   "execution_count": 24,
   "metadata": {},
   "outputs": [
    {
     "data": {
      "application/vnd.jupyter.widget-view+json": {
       "model_id": "c245e3b01b7e4a93821b172b32c991ba",
       "version_major": 2,
       "version_minor": 0
      },
      "text/plain": [
       "  0%|          | 0/16 [00:00<?, ?it/s]"
      ]
     },
     "metadata": {},
     "output_type": "display_data"
    }
   ],
   "source": [
    "model.eval()\n",
    "\n",
    "output = trainer.predict(es_val_df_pt)"
   ]
  },
  {
   "cell_type": "markdown",
   "metadata": {},
   "source": [
    "We now proceed to show the output metrics for our tweets."
   ]
  },
  {
   "cell_type": "code",
   "execution_count": 25,
   "metadata": {},
   "outputs": [
    {
     "data": {
      "text/plain": [
       "{'test_loss': 0.5156096816062927,\n",
       " 'test_f1': 0.746596823702122,\n",
       " 'test_runtime': 32.6418,\n",
       " 'test_samples_per_second': 15.011,\n",
       " 'test_steps_per_second': 0.49}"
      ]
     },
     "execution_count": 25,
     "metadata": {},
     "output_type": "execute_result"
    }
   ],
   "source": [
    "output.metrics"
   ]
  },
  {
   "cell_type": "markdown",
   "metadata": {},
   "source": [
    "We save the weights of the model."
   ]
  },
  {
   "cell_type": "code",
   "execution_count": 26,
   "metadata": {},
   "outputs": [],
   "source": [
    "trainer.save_model(\"models/transformer_es.pth\")"
   ]
  },
  {
   "cell_type": "markdown",
   "metadata": {},
   "source": [
    "We print the confusion matrix."
   ]
  },
  {
   "cell_type": "code",
   "execution_count": 27,
   "metadata": {},
   "outputs": [
    {
     "data": {
      "image/png": "[encoded data removed]",
      "text/plain": [
       "<Figure size 1000x800 with 2 Axes>"
      ]
     },
     "metadata": {},
     "output_type": "display_data"
    }
   ],
   "source": [
    "y_val = es_val_df_pt['label']\n",
    "predicted_labels = np.argmax(output.predictions, axis=-1)\n",
    "\n",
    "conf_matrix = confusion_matrix(y_true=y_val, y_pred=predicted_labels)\n",
    "plt.figure(figsize=(10, 8))\n",
    "sns.heatmap(conf_matrix, annot=True, fmt='d', cmap='Blues', xticklabels=['NO', 'YES'], yticklabels=['NO', 'YES'])\n",
    "plt.xlabel('Predicted labels')\n",
    "plt.ylabel('True labels')\n",
    "plt.title('Confusion matrix')\n",
    "plt.show()"
   ]
  },
  {
   "cell_type": "code",
   "execution_count": 29,
   "metadata": {},
   "outputs": [
    {
     "name": "stdout",
     "output_type": "stream",
     "text": [
      "Text: Also mientras les decia eso la señalaba y decia que como el era del staff, la iban a ban de ese evento. Intel behavior much? Este cabron has sexually harassed women and girls en el community y cuando es confrontado, lo negative y mienta. Ahora salio con esta, HE should be banned.\n",
      "True label: 1\n",
      "Predicted label: 0\n",
      "\n",
      "\n",
      "Text: @Ds_OutOfContext Micromachismo me recuerda a cuando en South park el directo PC gritaba MICROAGRESION!\n",
      "True label: 1\n",
      "Predicted label: 0\n",
      "\n",
      "\n",
      "Text: ¿Cederle el paso a una Sra./Srta. en la cola del autobús como el asiento en un restaurante es:🔄 ¿Micromachismo?♥️ ¿O es una actitud       caballeresca y       respetuosa?\n",
      "True label: 1\n",
      "Predicted label: 0\n",
      "\n",
      "\n",
      "Text: @EugeDF_ tal cual, rompemos el obelisco, quemamos muñecos con la cara de Jake Gyllenhaal al grito de you were tossing me the car keys fuck the patriarchy key chain on the ground y agarrate cuando arranque con dear John te traigo la cabeza de ese en una pica\n",
      "True label: 0\n",
      "Predicted label: 1\n",
      "\n",
      "\n",
      "Text: “BAN VIAGRA!!!” 👇👇👇👇👇#impotence #RoeVWade #uspoli #Alabama #prochoice #WomensRights #AbortionIsHealthcare https://t.co/OYBssvHXuh\n",
      "True label: 0\n",
      "Predicted label: 1\n",
      "\n",
      "\n"
     ]
    },
    {
     "name": "stderr",
     "output_type": "stream",
     "text": [
      "C:\\Users\\nanni\\AppData\\Local\\Temp\\ipykernel_8644\\922176362.py:5: FutureWarning: Series.__getitem__ treating keys as positions is deprecated. In a future version, integer keys will always be treated as labels (consistent with DataFrame behavior). To access a value by position, use `ser.iloc[pos]`\n",
      "  print(f\"Text: {es_val_df_t['tweet'][i]}\")\n"
     ]
    }
   ],
   "source": [
    "examples=0\n",
    "\n",
    "for i in range(len(y_val)):\n",
    "    if y_val[i] != predicted_labels[i] and examples< 5:\n",
    "        print(f\"Text: {es_val_df_t['tweet'][i]}\")\n",
    "        print(f\"True label: {y_val[i]}\")\n",
    "        print(f\"Predicted label: {predicted_labels[i]}\")\n",
    "        print(\"\\n\")\n",
    "        examples+=1"
   ]
  },
  {
   "cell_type": "markdown",
   "metadata": {},
   "source": [
    "The performance of the models applied to the spanish tweets is lower than the performance of the models applied to the english tweets. This is probably due to the fact that the Spanish tweets are less in number and more noisy than the English tweets. Moreover, the Spanish GloVe embeddings are less accurate than the English GloVe embeddings, so the models have more difficulties in capturing the context of the tweets."
   ]
  },
  {
   "cell_type": "markdown",
   "metadata": {},
   "source": [
    "# Submission\n",
    "\n",
    "* **Submit** your report in PDF format.\n",
    "* **Submit** your python notebook.\n",
    "* Make sure your notebook is **well organized**, with no temporary code, commented sections, tests, etc...\n",
    "* You can upload **model weights** in a cloud repository and report the link in the report."
   ]
  },
  {
   "cell_type": "markdown",
   "metadata": {},
   "source": [
    "# The End"
   ]
  }
 ],
 "metadata": {
  "accelerator": "GPU",
  "colab": {
   "authorship_tag": "ABX9TyOrxI+uaofLerXT9gw1DmbE",
   "gpuType": "T4",
   "provenance": [],
   "toc_visible": true
  },
  "kernelspec": {
   "display_name": "Python 3",
   "language": "python",
   "name": "python3"
  },
  "language_info": {
   "codemirror_mode": {
    "name": "ipython",
    "version": 3
   },
   "file_extension": ".py",
   "mimetype": "text/x-python",
   "name": "python",
   "nbconvert_exporter": "python",
   "pygments_lexer": "ipython3",
   "version": "3.12.8"
  }
 },
 "nbformat": 4,
 "nbformat_minor": 0
}
