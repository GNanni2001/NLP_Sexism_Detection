{
 "cells": [
  {
   "cell_type": "markdown",
   "metadata": {
    "id": "-WeCeITXoxLf",
    "slideshow": {
     "slide_type": "slide"
    }
   },
   "source": [
    "# Assignment 2\n",
    "**Authors:**\n",
    "- **Student 1:**  Michele Carusone, michele.carusone@studio.unibo.it\n",
    "- **Student 2:**  Norberto Casarin, norberto.casarin@studio.unibo.it\n",
    "- **Student 3:**  Antonio Gravina, antonio.gravina@studio.unibo.it\n",
    "- **Student 4:**  Gabriele Nanni, gabriele.nanni4@studio.unibo.it"
   ]
  },
  {
   "cell_type": "markdown",
   "metadata": {
    "id": "xqEsPH_JSxw6",
    "slideshow": {
     "slide_type": "subslide"
    }
   },
   "source": [
    "### Huggingface Login\n",
    "\n",
    "First of all, we need to login to Huggingface in order to be able to use the models."
   ]
  },
  {
   "cell_type": "code",
   "execution_count": 1,
   "metadata": {
    "id": "_uWEUjs0THxP",
    "slideshow": {
     "slide_type": "fragment"
    }
   },
   "outputs": [],
   "source": [
    "import os\n",
    "from huggingface_hub import login\n",
    "\n",
    "\n",
    "\n",
    "\n",
    "token = os.getenv(\"HUGGINGFACE_TOKEN\")\n",
    "\n",
    "login(token)"
   ]
  },
  {
   "cell_type": "markdown",
   "metadata": {},
   "source": [
    "### Imports"
   ]
  },
  {
   "cell_type": "code",
   "execution_count": 2,
   "metadata": {},
   "outputs": [],
   "source": [
    "import pandas as pd\n",
    "from transformers import AutoTokenizer, AutoModelForCausalLM\n",
    "from transformers import BitsAndBytesConfig\n",
    "import torch\n",
    "import numpy as np\n",
    "from sklearn.metrics import confusion_matrix\n",
    "import seaborn as sns\n",
    "import matplotlib.pyplot as plt\n",
    "\n",
    "PATH = 'data/'"
   ]
  },
  {
   "cell_type": "markdown",
   "metadata": {},
   "source": [
    "### Data Loading\n",
    "We cast the csv file into a pandas dataframe."
   ]
  },
  {
   "cell_type": "code",
   "execution_count": 3,
   "metadata": {},
   "outputs": [
    {
     "data": {
      "text/html": [
       "<div>\n",
       "<style scoped>\n",
       "    .dataframe tbody tr th:only-of-type {\n",
       "        vertical-align: middle;\n",
       "    }\n",
       "\n",
       "    .dataframe tbody tr th {\n",
       "        vertical-align: top;\n",
       "    }\n",
       "\n",
       "    .dataframe thead th {\n",
       "        text-align: right;\n",
       "    }\n",
       "</style>\n",
       "<table border=\"1\" class=\"dataframe\">\n",
       "  <thead>\n",
       "    <tr style=\"text-align: right;\">\n",
       "      <th></th>\n",
       "      <th>rewire_id</th>\n",
       "      <th>text</th>\n",
       "      <th>label_sexist</th>\n",
       "    </tr>\n",
       "  </thead>\n",
       "  <tbody>\n",
       "    <tr>\n",
       "      <th>0</th>\n",
       "      <td>sexism2022_english-17133</td>\n",
       "      <td>The boys must be gaming because there goes the...</td>\n",
       "      <td>not sexist</td>\n",
       "    </tr>\n",
       "    <tr>\n",
       "      <th>1</th>\n",
       "      <td>sexism2022_english-14197</td>\n",
       "      <td>Look at those eyes. Either someone unexpectedl...</td>\n",
       "      <td>sexist</td>\n",
       "    </tr>\n",
       "    <tr>\n",
       "      <th>2</th>\n",
       "      <td>sexism2022_english-3018</td>\n",
       "      <td>Old man mogs everyone in this sub</td>\n",
       "      <td>not sexist</td>\n",
       "    </tr>\n",
       "    <tr>\n",
       "      <th>3</th>\n",
       "      <td>sexism2022_english-5301</td>\n",
       "      <td>Excellent, I was just looking at another post ...</td>\n",
       "      <td>not sexist</td>\n",
       "    </tr>\n",
       "    <tr>\n",
       "      <th>4</th>\n",
       "      <td>sexism2022_english-17796</td>\n",
       "      <td>So you run back to daddy whenever you need hel...</td>\n",
       "      <td>sexist</td>\n",
       "    </tr>\n",
       "  </tbody>\n",
       "</table>\n",
       "</div>"
      ],
      "text/plain": [
       "                  rewire_id  \\\n",
       "0  sexism2022_english-17133   \n",
       "1  sexism2022_english-14197   \n",
       "2   sexism2022_english-3018   \n",
       "3   sexism2022_english-5301   \n",
       "4  sexism2022_english-17796   \n",
       "\n",
       "                                                text label_sexist  \n",
       "0  The boys must be gaming because there goes the...   not sexist  \n",
       "1  Look at those eyes. Either someone unexpectedl...       sexist  \n",
       "2                  Old man mogs everyone in this sub   not sexist  \n",
       "3  Excellent, I was just looking at another post ...   not sexist  \n",
       "4  So you run back to daddy whenever you need hel...       sexist  "
      ]
     },
     "execution_count": 3,
     "metadata": {},
     "output_type": "execute_result"
    }
   ],
   "source": [
    "df = pd.read_csv(PATH + 'a2_test.csv')\n",
    "df.head()"
   ]
  },
  {
   "cell_type": "markdown",
   "metadata": {},
   "source": [
    "---"
   ]
  },
  {
   "cell_type": "markdown",
   "metadata": {
    "id": "HJp08l4yLJnd",
    "slideshow": {
     "slide_type": "slide"
    }
   },
   "source": [
    "# [Task 1 - 0.5 points] Model setup\n",
    "\n",
    "Once the test data has been loaded, we have to setup the model pipeline for inference.\n",
    "\n",
    "In particular, we have to:\n",
    "- Load the model weights from Huggingface\n",
    "- Quantize the model to fit into a single-GPU limited hardware"
   ]
  },
  {
   "cell_type": "markdown",
   "metadata": {},
   "source": [
    "## Phi-3.5 mini instruct\n",
    "\n",
    "The first model we use is `microsoft/Phi-3.5-mini-instruct`. This model has 4B parameters and is a smaller version of the Phi-3.5 model. It is a model for text generation and completion. We are using the instruct version, which is a version of the model that has been fine-tuned on a dataset of instructions."
   ]
  },
  {
   "cell_type": "code",
   "execution_count": 4,
   "metadata": {},
   "outputs": [],
   "source": [
    "model_card = \"microsoft/Phi-3.5-mini-instruct\"\n",
    "tokenizer = AutoTokenizer.from_pretrained(model_card, trust_remote_code=True)"
   ]
  },
  {
   "cell_type": "markdown",
   "metadata": {},
   "source": [
    "We define the configuration for the quantization of the model. In particular, we want to use the 4bit quantization, which is the most aggressive one. In this way, we can reduce the model size and make it fit into a single GPU.\n",
    "\n",
    "We also load the model from Huggingface and pass the configuration defined before."
   ]
  },
  {
   "cell_type": "code",
   "execution_count": 5,
   "metadata": {},
   "outputs": [
    {
     "name": "stderr",
     "output_type": "stream",
     "text": [
      "`flash-attention` package not found, consider installing for better performance: No module named 'flash_attn'.\n",
      "Current `flash-attention` does not support `window_size`. Either upgrade or use `attn_implementation='eager'`.\n"
     ]
    },
    {
     "data": {
      "application/vnd.jupyter.widget-view+json": {
       "model_id": "459da1e91e8141edbbd7077cabbf17ad",
       "version_major": 2,
       "version_minor": 0
      },
      "text/plain": [
       "Loading checkpoint shards:   0%|          | 0/2 [00:00<?, ?it/s]"
      ]
     },
     "metadata": {},
     "output_type": "display_data"
    },
    {
     "data": {
      "text/plain": [
       "Phi3ForCausalLM(\n",
       "  (model): Phi3Model(\n",
       "    (embed_tokens): Embedding(32064, 3072, padding_idx=32000)\n",
       "    (embed_dropout): Dropout(p=0.0, inplace=False)\n",
       "    (layers): ModuleList(\n",
       "      (0-31): 32 x Phi3DecoderLayer(\n",
       "        (self_attn): Phi3Attention(\n",
       "          (o_proj): Linear4bit(in_features=3072, out_features=3072, bias=False)\n",
       "          (qkv_proj): Linear4bit(in_features=3072, out_features=9216, bias=False)\n",
       "          (rotary_emb): Phi3LongRoPEScaledRotaryEmbedding()\n",
       "        )\n",
       "        (mlp): Phi3MLP(\n",
       "          (gate_up_proj): Linear4bit(in_features=3072, out_features=16384, bias=False)\n",
       "          (down_proj): Linear4bit(in_features=8192, out_features=3072, bias=False)\n",
       "          (activation_fn): SiLU()\n",
       "        )\n",
       "        (input_layernorm): Phi3RMSNorm()\n",
       "        (resid_attn_dropout): Dropout(p=0.0, inplace=False)\n",
       "        (resid_mlp_dropout): Dropout(p=0.0, inplace=False)\n",
       "        (post_attention_layernorm): Phi3RMSNorm()\n",
       "      )\n",
       "    )\n",
       "    (norm): Phi3RMSNorm()\n",
       "  )\n",
       "  (lm_head): Linear(in_features=3072, out_features=32064, bias=False)\n",
       ")"
      ]
     },
     "execution_count": 5,
     "metadata": {},
     "output_type": "execute_result"
    }
   ],
   "source": [
    "bnb_config = BitsAndBytesConfig(\n",
    "    load_in_4bit=True,\n",
    "    bnb_4bit_use_double_quant=True,\n",
    "    bnb_4bit_quant_type=\"nf4\",\n",
    "    bnb_4bit_compute_dtype=torch.bfloat16,\n",
    ")\n",
    "\n",
    "model = AutoModelForCausalLM.from_pretrained(\n",
    "    model_card,\n",
    "    return_dict=True,\n",
    "    quantization_config=bnb_config,\n",
    "    device_map = \"auto\",\n",
    "    trust_remote_code=True,\n",
    ")\n",
    "\n",
    "model.to(\"cuda\")"
   ]
  },
  {
   "cell_type": "markdown",
   "metadata": {},
   "source": [
    "We set the configuration generation parameters for the model. In particular, we set the maximum length of the generated text to 2 tokens. \n",
    "\n",
    "Moreover, we put the parameter `do_sample` to `False` in order to generate the text with greedy decoding, making the generation faster and with deterministic results."
   ]
  },
  {
   "cell_type": "code",
   "execution_count": 6,
   "metadata": {},
   "outputs": [],
   "source": [
    "generation_config = model.generation_config\n",
    "generation_config.max_new_tokens = 2\n",
    "generation_config.do_sample = False\n",
    "generation_config.temperature = None\n",
    "generation_config.top_p = None"
   ]
  },
  {
   "cell_type": "markdown",
   "metadata": {},
   "source": [
    "We check the memory usage of the model so that we can verify that the model fits into the GPU memory."
   ]
  },
  {
   "cell_type": "code",
   "execution_count": 7,
   "metadata": {},
   "outputs": [
    {
     "name": "stdout",
     "output_type": "stream",
     "text": [
      "GPU: NVIDIA GeForce RTX 4060 Laptop GPU\n",
      "Total GPU memory: 8.00 GB\n",
      "Allocated GPU memory: 2.11 GB\n"
     ]
    }
   ],
   "source": [
    "gpu_name = torch.cuda.get_device_name(0)\n",
    "print(f\"GPU: {gpu_name}\")\n",
    "\n",
    "total_memory = torch.cuda.get_device_properties(0).total_memory\n",
    "print(f\"Total GPU memory: {total_memory / (1024 ** 3):.2f} GB\")\n",
    "\n",
    "allocated_memory = torch.cuda.memory_allocated(0)\n",
    "print(f\"Allocated GPU memory: {allocated_memory / (1024 ** 3):.2f} GB\")"
   ]
  },
  {
   "cell_type": "markdown",
   "metadata": {},
   "source": [
    "Now that we have the model ready and we made sure that it fits into the GPU memory, we can move on to the next task."
   ]
  },
  {
   "cell_type": "markdown",
   "metadata": {},
   "source": [
    "---"
   ]
  },
  {
   "cell_type": "markdown",
   "metadata": {
    "id": "TzNNzb1VLJnd",
    "slideshow": {
     "slide_type": "slide"
    }
   },
   "source": [
    "# [Task 2 - 1.0 points] Prompt setup\n",
    "\n",
    "Prompting requires an input pre-processing phase where we convert each input example into a specific instruction prompt.\n"
   ]
  },
  {
   "cell_type": "markdown",
   "metadata": {},
   "source": [
    "The prompt that we need to use is the following."
   ]
  },
  {
   "cell_type": "code",
   "execution_count": 8,
   "metadata": {
    "id": "7e8P-Kk8me6q",
    "slideshow": {
     "slide_type": "subslide"
    }
   },
   "outputs": [],
   "source": [
    "prompt = [\n",
    "    {\n",
    "        'role': 'system',\n",
    "        'content': 'You are an annotator for sexism detection.'\n",
    "    },\n",
    "    {\n",
    "        'role': 'user',\n",
    "        'content': \"\"\"Your task is to classify input text as containing sexism or not. Respond only YES or NO.\n",
    "\n",
    "        TEXT:\n",
    "        {text}\n",
    "\n",
    "        ANSWER:\n",
    "        \"\"\"\n",
    "    }\n",
    "]"
   ]
  },
  {
   "cell_type": "markdown",
   "metadata": {},
   "source": [
    "As we can see, the prompt requires a `text` field, which is the input text that we'll take from the dataset.\n",
    "\n",
    "We use Hugging Face custom handling function on the prompt to create our final template. For this reason, we'll use the function `apply_chat_template` of the tokenizer. We set `add_generation_prompt` to `True` in order to add a token that indicates the start of a response generation."
   ]
  },
  {
   "cell_type": "code",
   "execution_count": 9,
   "metadata": {},
   "outputs": [],
   "source": [
    "prompt = tokenizer.apply_chat_template(prompt, tokenize=False, add_generation_prompt=True)"
   ]
  },
  {
   "cell_type": "markdown",
   "metadata": {},
   "source": [
    "We can check the prompt on an example chosen from the dataset."
   ]
  },
  {
   "cell_type": "code",
   "execution_count": 10,
   "metadata": {},
   "outputs": [
    {
     "name": "stderr",
     "output_type": "stream",
     "text": [
      "The `seen_tokens` attribute is deprecated and will be removed in v4.41. Use the `cache_position` model input instead.\n",
      "`get_max_cache()` is deprecated for all Cache classes. Use `get_max_cache_shape()` instead. Calling `get_max_cache()` will raise error from v4.48\n",
      "You are not running the flash-attention implementation, expect numerical differences.\n"
     ]
    },
    {
     "name": "stdout",
     "output_type": "stream",
     "text": [
      "You are an annotator for sexism detection. Your task is to classify input text as containing sexism or not. Respond only YES or NO.\n",
      "\n",
      "        TEXT:\n",
      "        Ahahahah I fucking hate women. They are so stupid.\n",
      "\n",
      "        ANSWER:\n",
      "         YES\n"
     ]
    }
   ],
   "source": [
    "example_text = \"Ahahahah I fucking hate women. They are so stupid.\"\n",
    "formatted_example = prompt.format(text=example_text)\n",
    "parsed_example = tokenizer(formatted_example, return_tensors='pt').to('cuda')\n",
    "generated = model.generate(input_ids=parsed_example['input_ids'],\n",
    "                           attention_mask=parsed_example['attention_mask'],\n",
    "                           generation_config=generation_config,\n",
    "                           do_sample=False)\n",
    "output = tokenizer.batch_decode(generated, skip_special_tokens=True)[0]\n",
    "print(output)"
   ]
  },
  {
   "cell_type": "markdown",
   "metadata": {},
   "source": [
    "We then write a function that takes the input texts and the prompt template, as well as the tokenizer. It returns a list of tokenized prompts that can be used to generate the responses."
   ]
  },
  {
   "cell_type": "code",
   "execution_count": 11,
   "metadata": {
    "id": "PUjRVMtMm9CE",
    "slideshow": {
     "slide_type": "subslide"
    }
   },
   "outputs": [],
   "source": [
    "def prepare_prompts(texts, prompt_template, tokenizer):\n",
    "    \"\"\"\n",
    "      This function format input text samples into instructions prompts.\n",
    "\n",
    "      Inputs:\n",
    "        texts: input texts to classify via prompting\n",
    "        prompt_template: the prompt template provided in this assignment\n",
    "        tokenizer: the transformers Tokenizer object instance associated with the chosen model card\n",
    "\n",
    "      Outputs:\n",
    "        input texts to classify in the form of instruction prompts\n",
    "    \"\"\"\n",
    "    tokenized_prompts = []\n",
    "\n",
    "    for text in texts:\n",
    "        full_prompt = prompt_template.format(text=text)\n",
    "        tokenized_prompt = tokenizer(full_prompt, return_tensors='pt').to('cuda')\n",
    "        tokenized_prompts.append(tokenized_prompt)\n",
    "\n",
    "    return tokenized_prompts"
   ]
  },
  {
   "cell_type": "markdown",
   "metadata": {},
   "source": [
    "---"
   ]
  },
  {
   "cell_type": "markdown",
   "metadata": {
    "id": "lgBhkBwuLJnd",
    "slideshow": {
     "slide_type": "slide"
    }
   },
   "source": [
    "# [Task 3 - 1.0 points] Inference\n",
    "\n",
    "We are now ready to define the inference loop where we prompt the model with each pre-processed sample."
   ]
  },
  {
   "cell_type": "markdown",
   "metadata": {},
   "source": [
    "We first define the function `generate_response` that takes the model and the tokenized prompts and returns the generated responses (decoded)."
   ]
  },
  {
   "cell_type": "code",
   "execution_count": 12,
   "metadata": {
    "id": "bG3CDXNlyD5k",
    "slideshow": {
     "slide_type": "subslide"
    }
   },
   "outputs": [],
   "source": [
    "def generate_responses(model, prompt_examples):\n",
    "    \"\"\"\n",
    "      This function implements the inference loop for a LLM model.\n",
    "      Given a set of examples, the model is tasked to generate a response.\n",
    "\n",
    "      Inputs:\n",
    "        model: LLM model instance for prompting\n",
    "        prompt_examples: pre-processed text samples\n",
    "\n",
    "      Outputs:\n",
    "        generated responses\n",
    "    \"\"\"\n",
    "    responses = []\n",
    "\n",
    "    for prompt in prompt_examples:\n",
    "      outputs = model.generate(**prompt, max_new_tokens=1)\n",
    "      response = tokenizer.decode(outputs[0], skip_special_tokens=True)\n",
    "      responses.append(response)\n",
    "\n",
    "    return responses"
   ]
  },
  {
   "cell_type": "markdown",
   "metadata": {},
   "source": [
    "The maximum number of tokens for the output is set to 1. With other models that we've experimented with, we have seen that this number should be slightly higher, because the model does not directly generate \"YES\" or \"NO\" tokens, but rather generates other tokens that are not needed. However, with this model, we've seen that this number works well."
   ]
  },
  {
   "cell_type": "markdown",
   "metadata": {},
   "source": [
    "Now we define `prompt_responses`, used for the extraction of the label from the textual response of the model. Note that this function can also return -1, which means that the model did not generate \"YES\" or \"NO\". This is useful for the computation of the fail ratio."
   ]
  },
  {
   "cell_type": "code",
   "execution_count": 13,
   "metadata": {
    "id": "uiCoMrutyXTU",
    "slideshow": {
     "slide_type": "subslide"
    }
   },
   "outputs": [],
   "source": [
    "def process_response(response):\n",
    "    \"\"\"\n",
    "      This function takes a textual response generated by the LLM\n",
    "      and processes it to map the response to a binary label.\n",
    "\n",
    "      Inputs:\n",
    "        response: generated response from LLM\n",
    "\n",
    "      Outputs:\n",
    "        parsed binary response: return 1 if YES and 0 if NO\n",
    "    \"\"\"\n",
    "    result = response.split(\"\\n\")[-1].strip().lower()\n",
    "    if \"yes\" in result:\n",
    "        return 1\n",
    "    elif \"no\" in result:\n",
    "        return 0\n",
    "    else:\n",
    "        return -1 # Invalid response, it will then casted to 0 for accuracy calculation. It is used for the fail rate calculation."
   ]
  },
  {
   "cell_type": "markdown",
   "metadata": {},
   "source": [
    "We can now run the inference loop on the dataset with `run_inference`."
   ]
  },
  {
   "cell_type": "code",
   "execution_count": 14,
   "metadata": {},
   "outputs": [],
   "source": [
    "def run_inference(df, model, prompt, tokenizer):\n",
    "    \"\"\"\n",
    "    This function runs inference on a dataset using the LLM model.\n",
    "\n",
    "    Inputs:\n",
    "        df: input dataset\n",
    "        model: LLM model instance for prompting\n",
    "        prompt: the instruction prompt template\n",
    "        tokenizer: the transformers Tokenizer object instance associated with the chosen model card\n",
    "\n",
    "    Outputs:\n",
    "        predictions: binary predictions for the input dataset\n",
    "    \"\"\"\n",
    "    texts = df['text']\n",
    "    tokenized_prompts = prepare_prompts(texts, prompt, tokenizer)\n",
    "    print(\"Tokenized prompts generated.\")\n",
    "    responses = generate_responses(model, tokenized_prompts)\n",
    "    print(\"Responses generated.\")\n",
    "    predictions = [process_response(response) for response in responses]\n",
    "    print(\"Predictions generated.\")\n",
    "\n",
    "    return predictions"
   ]
  },
  {
   "cell_type": "code",
   "execution_count": 15,
   "metadata": {},
   "outputs": [
    {
     "name": "stdout",
     "output_type": "stream",
     "text": [
      "Tokenized prompts generated.\n",
      "Responses generated.\n",
      "Predictions generated.\n"
     ]
    }
   ],
   "source": [
    "predictions = run_inference(df, model, prompt, tokenizer)\n",
    "df['predictions_phi_zs'] = predictions"
   ]
  },
  {
   "cell_type": "markdown",
   "metadata": {},
   "source": [
    "---"
   ]
  },
  {
   "cell_type": "markdown",
   "metadata": {
    "id": "KyZ8WU09zz-a",
    "slideshow": {
     "slide_type": "slide"
    }
   },
   "source": [
    "# [Task 4 - 0.5 points] Metrics\n",
    "\n",
    "In order to evaluate selected LLMs, we need to compute performance metrics.\n",
    "\n",
    "In particular, we are interested in computing **accuracy** since the provided data is balanced with respect to classification classes.\n",
    "\n",
    "Moreover, we want to compute the ratio of failed responses generated by models. \n",
    "\n",
    "That is, how frequent the LLM fails to follow instructions and provides incorrect responses that do not address the classification task.\n",
    "\n",
    "We denote this metric as **fail-ratio**.\n",
    "\n",
    "In summary, we parse generated responses as follows:\n",
    "- 1 if the model says YES\n",
    "- 0 if the model says NO\n",
    "- 0 if the model does not answer in either way"
   ]
  },
  {
   "cell_type": "markdown",
   "metadata": {},
   "source": [
    "We define the function `compute_metrics` that takes the list of responses and the list of true labels and returns the accuracy and the fail ratio, as a dictionary."
   ]
  },
  {
   "cell_type": "code",
   "execution_count": 16,
   "metadata": {
    "id": "9Fmcw_9v0k9D",
    "slideshow": {
     "slide_type": "subslide"
    }
   },
   "outputs": [],
   "source": [
    "def compute_metrics(responses, y_true):\n",
    "    \"\"\"\n",
    "      This function takes predicted and ground-truth labels and compute metrics.\n",
    "      In particular, this function compute accuracy and fail-ratio metrics.\n",
    "      This function internally invokes `process_response` to compute metrics.\n",
    "\n",
    "      Inputs:\n",
    "        responses: generated LLM responses\n",
    "        y_true: ground-truth binary labels\n",
    "\n",
    "      Outputs:\n",
    "        dictionary containing desired metrics\n",
    "    \"\"\"\n",
    "    accuracy = 0\n",
    "    fail_ratio = 0\n",
    "\n",
    "    for i, response in enumerate(responses):\n",
    "        if response == y_true[i]:\n",
    "            accuracy += 1\n",
    "        elif response == -1 and y_true[i] == 0:\n",
    "            accuracy += 1\n",
    "        if response == -1:\n",
    "            fail_ratio += 1\n",
    "    \n",
    "    accuracy /= len(y_true)\n",
    "    fail_ratio /= len(y_true)\n",
    "\n",
    "    return {\n",
    "        \"accuracy\": round(accuracy, 4),\n",
    "        \"fail_ratio\": round(fail_ratio, 4)\n",
    "    }"
   ]
  },
  {
   "cell_type": "markdown",
   "metadata": {},
   "source": [
    "We can finally compute the metrics on the dataset."
   ]
  },
  {
   "cell_type": "code",
   "execution_count": 55,
   "metadata": {},
   "outputs": [
    {
     "name": "stdout",
     "output_type": "stream",
     "text": [
      "{'accuracy': 0.59, 'fail_ratio': 0.0}\n"
     ]
    }
   ],
   "source": [
    "y_true = df['label_sexist'].apply(lambda x: 1 if x == 'sexist' else 0).tolist()\n",
    "metrics_phi_zs = compute_metrics(df['predictions_phi_zs'], y_true)\n",
    "print(metrics_phi_zs)"
   ]
  },
  {
   "cell_type": "markdown",
   "metadata": {},
   "source": [
    "We print the confusion matrix to see the distribution of the responses."
   ]
  },
  {
   "cell_type": "code",
   "execution_count": 18,
   "metadata": {},
   "outputs": [
    {
     "data": {
      "image/png": "[encoded data removed]",
      "text/plain": [
       "<Figure size 1000x800 with 2 Axes>"
      ]
     },
     "metadata": {},
     "output_type": "display_data"
    }
   ],
   "source": [
    "casted_predictions = df['predictions_phi_zs'].apply(lambda x: 0 if x == -1 else x)\n",
    "conf_matrix = confusion_matrix(y_true=y_true, y_pred=casted_predictions)\n",
    "plt.figure(figsize=(10, 8))\n",
    "sns.heatmap(conf_matrix, annot=True, fmt='d', cmap='Blues', xticklabels=['NO', 'YES'], yticklabels=['NO', 'YES'])\n",
    "plt.xlabel('Predicted labels')\n",
    "plt.ylabel('True labels')\n",
    "plt.title('Confusion matrix')\n",
    "plt.show()"
   ]
  },
  {
   "cell_type": "markdown",
   "metadata": {},
   "source": [
    "---"
   ]
  },
  {
   "cell_type": "markdown",
   "metadata": {
    "id": "nHyvV4QD2vZS",
    "slideshow": {
     "slide_type": "slide"
    }
   },
   "source": [
    "# [Task 5 - 1.0 points] Few-shot Inference\n",
    "\n",
    "So far, we have tested models in a zero-shot fashion: we provide the input text to classify and instruct the model to generate a response.\n",
    "\n",
    "We are now interested in performing few-shot prompting to see the impact of providing demonstration examples.\n",
    "\n",
    "To do so, we slightly change the prompt template as follows."
   ]
  },
  {
   "cell_type": "code",
   "execution_count": 19,
   "metadata": {
    "id": "pEqsOHz63ReW",
    "slideshow": {
     "slide_type": "subslide"
    }
   },
   "outputs": [],
   "source": [
    "prompt = [\n",
    "    {\n",
    "        'role': 'system',\n",
    "        'content': 'You are an annotator for sexism detection.'\n",
    "    },\n",
    "    {\n",
    "        'role': 'user',\n",
    "        'content': \"\"\"Your task is to classify input text as containing sexism or not. Respond only YES or NO.\n",
    "\n",
    "        EXAMPLES:\n",
    "        {examples}\n",
    "\n",
    "        TEXT:\n",
    "        {text}\n",
    "\n",
    "        ANSWER:\n",
    "        \"\"\"\n",
    "    }\n",
    "]"
   ]
  },
  {
   "cell_type": "markdown",
   "metadata": {},
   "source": [
    "We load ``demonstrations.csv`` and encode it into a ``pandas.DataFrame`` object.\n"
   ]
  },
  {
   "cell_type": "code",
   "execution_count": 20,
   "metadata": {},
   "outputs": [
    {
     "data": {
      "text/html": [
       "<div>\n",
       "<style scoped>\n",
       "    .dataframe tbody tr th:only-of-type {\n",
       "        vertical-align: middle;\n",
       "    }\n",
       "\n",
       "    .dataframe tbody tr th {\n",
       "        vertical-align: top;\n",
       "    }\n",
       "\n",
       "    .dataframe thead th {\n",
       "        text-align: right;\n",
       "    }\n",
       "</style>\n",
       "<table border=\"1\" class=\"dataframe\">\n",
       "  <thead>\n",
       "    <tr style=\"text-align: right;\">\n",
       "      <th></th>\n",
       "      <th>rewire_id</th>\n",
       "      <th>text</th>\n",
       "      <th>label_sexist</th>\n",
       "    </tr>\n",
       "  </thead>\n",
       "  <tbody>\n",
       "    <tr>\n",
       "      <th>0</th>\n",
       "      <td>sexism2022_english-10348</td>\n",
       "      <td>I would never have my kid go to a daycare with...</td>\n",
       "      <td>not sexist</td>\n",
       "    </tr>\n",
       "    <tr>\n",
       "      <th>1</th>\n",
       "      <td>sexism2022_english-7950</td>\n",
       "      <td>Democrat women are so butt fucking ugly.</td>\n",
       "      <td>sexist</td>\n",
       "    </tr>\n",
       "    <tr>\n",
       "      <th>2</th>\n",
       "      <td>sexism2022_english-7742</td>\n",
       "      <td>If you really wanted to twist the knife you’d ...</td>\n",
       "      <td>not sexist</td>\n",
       "    </tr>\n",
       "    <tr>\n",
       "      <th>3</th>\n",
       "      <td>sexism2022_english-16170</td>\n",
       "      <td>Those women are pro-rape. They didn’t care abo...</td>\n",
       "      <td>sexist</td>\n",
       "    </tr>\n",
       "    <tr>\n",
       "      <th>4</th>\n",
       "      <td>sexism2022_english-9857</td>\n",
       "      <td>Married a bitch... Is it the standard scenario...</td>\n",
       "      <td>sexist</td>\n",
       "    </tr>\n",
       "  </tbody>\n",
       "</table>\n",
       "</div>"
      ],
      "text/plain": [
       "                  rewire_id  \\\n",
       "0  sexism2022_english-10348   \n",
       "1   sexism2022_english-7950   \n",
       "2   sexism2022_english-7742   \n",
       "3  sexism2022_english-16170   \n",
       "4   sexism2022_english-9857   \n",
       "\n",
       "                                                text label_sexist  \n",
       "0  I would never have my kid go to a daycare with...   not sexist  \n",
       "1           Democrat women are so butt fucking ugly.       sexist  \n",
       "2  If you really wanted to twist the knife you’d ...   not sexist  \n",
       "3  Those women are pro-rape. They didn’t care abo...       sexist  \n",
       "4  Married a bitch... Is it the standard scenario...       sexist  "
      ]
     },
     "execution_count": 20,
     "metadata": {},
     "output_type": "execute_result"
    }
   ],
   "source": [
    "demonstrations = pd.read_csv(PATH + 'demonstrations.csv')\n",
    "demonstrations.head()"
   ]
  },
  {
   "cell_type": "markdown",
   "metadata": {},
   "source": [
    "We define a ``build_few_shot_demonstrations`` function as the one reported below."
   ]
  },
  {
   "cell_type": "code",
   "execution_count": 21,
   "metadata": {
    "id": "6oyxypUG3ltH",
    "slideshow": {
     "slide_type": "subslide"
    }
   },
   "outputs": [],
   "source": [
    "def build_few_shot_demonstrations(demonstrations, num_per_class=2):\n",
    "    \"\"\"\n",
    "      Inputs:\n",
    "        demonstrations: the pandas.DataFrame object wrapping demonstrations.csv\n",
    "        num_per_class: number of demonstrations per class\n",
    "  \n",
    "      Outputs:\n",
    "        a list of textual demonstrations to inject into the prompt template.\n",
    "    \"\"\"\n",
    "    \n",
    "    examples = []\n",
    "    sexist_demonstrations = demonstrations[demonstrations['label_sexist'] == 'sexist']['text'].sample(num_per_class)\n",
    "    non_sexist_demonstrations = demonstrations[demonstrations['label_sexist'] == 'not sexist']['text'].sample(num_per_class)\n",
    "    examples.extend(sexist_demonstrations)\n",
    "    examples.extend(non_sexist_demonstrations)\n",
    "\n",
    "    for i in range(len(examples)):\n",
    "        examples[i] =  f\"TEXT: {examples[i]}\\nANSWER: YES\" if i < num_per_class else f\"TEXT: {examples[i]}\\nANSWER: NO\"\n",
    "\n",
    "    return examples"
   ]
  },
  {
   "cell_type": "markdown",
   "metadata": {},
   "source": [
    "We first try with 2 examples per class. To make the results deterministic, we set the seed to `42`."
   ]
  },
  {
   "cell_type": "code",
   "execution_count": 22,
   "metadata": {},
   "outputs": [],
   "source": [
    "num_per_class = 2\n",
    "\n",
    "np.random.seed(42)\n",
    "examples = build_few_shot_demonstrations(demonstrations, num_per_class)\n",
    "formatted_examples = \"\\n\".join(examples)"
   ]
  },
  {
   "cell_type": "markdown",
   "metadata": {},
   "source": [
    "We need to define a function named `prepare_prompts_few_shots` which follows the same logic of `prepare_prompts` but with the addition of the demonstration examples."
   ]
  },
  {
   "cell_type": "code",
   "execution_count": 23,
   "metadata": {},
   "outputs": [],
   "source": [
    "def prepare_prompts_few_shots(texts, examples, prompt_template, tokenizer):\n",
    "    \"\"\"\n",
    "      This function format input text samples into instructions prompts.\n",
    "\n",
    "      Inputs:\n",
    "        texts: input texts to classify via prompting\n",
    "        examples: list of examples to inject into the prompt template\n",
    "        prompt_template: the prompt template provided in this assignment\n",
    "        tokenizer: the transformers Tokenizer object instance associated with the chosen model card\n",
    "\n",
    "      Outputs:\n",
    "        input texts to classify in the form of instruction prompts\n",
    "    \"\"\"\n",
    "    tokenized_prompts = []\n",
    "    texts_len = len(texts)\n",
    "    formatted_examples = \"\\n\".join(examples)\n",
    "\n",
    "    for i, text in enumerate(texts):\n",
    "        full_prompt = prompt_template.format(text=text, examples=formatted_examples)\n",
    "        tokenized_prompt = tokenizer(full_prompt, return_tensors='pt').to('cuda')\n",
    "        tokenized_prompts.append(tokenized_prompt)\n",
    "\n",
    "    return tokenized_prompts"
   ]
  },
  {
   "cell_type": "markdown",
   "metadata": {},
   "source": [
    "We have all we need to run the few-shot inference loop on the dataset with `run_few_shot_inference`."
   ]
  },
  {
   "cell_type": "code",
   "execution_count": 24,
   "metadata": {},
   "outputs": [],
   "source": [
    "def run_inference_few_shots(df, model, prompt, tokenizer, num_per_class):\n",
    "    \"\"\"\n",
    "    This function runs inference on a dataset using the LLM model.\n",
    "\n",
    "    Inputs:\n",
    "        df: input dataset\n",
    "        model: LLM model instance for prompting\n",
    "        prompt: the instruction prompt template\n",
    "        tokenizer: the transformers Tokenizer object instance associated with the chosen model card\n",
    "        num_per_class: number of examples for each class to inject into the prompt template\n",
    "\n",
    "    Outputs:\n",
    "        predictions: binary predictions for the input dataset\n",
    "    \"\"\"\n",
    "    texts = df['text']\n",
    "    examples = build_few_shot_demonstrations(demonstrations, num_per_class)\n",
    "    tokenized_prompts = prepare_prompts_few_shots(texts, examples, prompt, tokenizer)\n",
    "    print(\"Tokenized prompts generated.\")\n",
    "    responses = generate_responses(model, tokenized_prompts)\n",
    "    print(\"Responses generated.\")\n",
    "    predictions = [process_response(response) for response in responses]\n",
    "    print(\"Predictions generated.\")\n",
    "\n",
    "    return predictions"
   ]
  },
  {
   "cell_type": "markdown",
   "metadata": {},
   "source": [
    "We then run the inference on the dataset, starting with 2 examples per classes"
   ]
  },
  {
   "cell_type": "code",
   "execution_count": 25,
   "metadata": {},
   "outputs": [
    {
     "name": "stdout",
     "output_type": "stream",
     "text": [
      "Tokenized prompts generated.\n",
      "Responses generated.\n",
      "Predictions generated.\n"
     ]
    }
   ],
   "source": [
    "prompt = tokenizer.apply_chat_template(prompt, tokenize=False, add_generation_prompt=True)\n",
    "predictions = run_inference_few_shots(df, model, prompt, tokenizer, num_per_class)\n",
    "df['predictions_phi_fs2'] = predictions"
   ]
  },
  {
   "cell_type": "markdown",
   "metadata": {},
   "source": [
    "Let's now check the metrics for the few-shot inference."
   ]
  },
  {
   "cell_type": "code",
   "execution_count": 26,
   "metadata": {},
   "outputs": [
    {
     "name": "stdout",
     "output_type": "stream",
     "text": [
      "{'accuracy': 0.6467, 'fail_ratio': 0.0}\n"
     ]
    }
   ],
   "source": [
    "metrics_phi_fs2 = compute_metrics(df['predictions_phi_fs2'], y_true)\n",
    "print(metrics_phi_fs2)"
   ]
  },
  {
   "cell_type": "markdown",
   "metadata": {},
   "source": [
    "We can also print the confusion matrix to see how the model performs on each class."
   ]
  },
  {
   "cell_type": "code",
   "execution_count": 27,
   "metadata": {},
   "outputs": [
    {
     "data": {
      "image/png": "[encoded data removed]",
      "text/plain": [
       "<Figure size 1000x800 with 2 Axes>"
      ]
     },
     "metadata": {},
     "output_type": "display_data"
    }
   ],
   "source": [
    "casted_predictions = df['predictions_phi_fs2'].apply(lambda x: 0 if x == -1 else x)\n",
    "conf_matrix = confusion_matrix(y_true=y_true, y_pred=casted_predictions)\n",
    "plt.figure(figsize=(10, 8))\n",
    "sns.heatmap(conf_matrix, annot=True, fmt='d', cmap='Blues', xticklabels=['NO', 'YES'], yticklabels=['NO', 'YES'])\n",
    "plt.xlabel('Predicted labels')\n",
    "plt.ylabel('True labels')\n",
    "plt.title('Confusion matrix')\n",
    "plt.show()"
   ]
  },
  {
   "cell_type": "markdown",
   "metadata": {},
   "source": [
    "As expected, the model performs better with few-shot prompting, as it has more information to generate the correct response. The fail ratio stays at 0."
   ]
  },
  {
   "cell_type": "markdown",
   "metadata": {},
   "source": [
    "We now test with 4 examples per class."
   ]
  },
  {
   "cell_type": "code",
   "execution_count": 28,
   "metadata": {},
   "outputs": [
    {
     "name": "stdout",
     "output_type": "stream",
     "text": [
      "Tokenized prompts generated.\n",
      "Responses generated.\n",
      "Predictions generated.\n",
      "{'accuracy': 0.6767, 'fail_ratio': 0.0}\n"
     ]
    }
   ],
   "source": [
    "num_per_class = 4\n",
    "\n",
    "np.random.seed(42)\n",
    "examples = build_few_shot_demonstrations(demonstrations, num_per_class)\n",
    "\n",
    "predictions = run_inference_few_shots(df, model, prompt, tokenizer, num_per_class)\n",
    "df['predictions_phi_fs4'] = predictions\n",
    "\n",
    "metrics_phi_fs4 = compute_metrics(df['predictions_phi_fs4'], y_true)\n",
    "print(metrics_phi_fs4)"
   ]
  },
  {
   "cell_type": "markdown",
   "metadata": {},
   "source": [
    "We check check the confusion matrix."
   ]
  },
  {
   "cell_type": "code",
   "execution_count": 29,
   "metadata": {},
   "outputs": [
    {
     "data": {
      "image/png": "[encoded data removed]",
      "text/plain": [
       "<Figure size 1000x800 with 2 Axes>"
      ]
     },
     "metadata": {},
     "output_type": "display_data"
    }
   ],
   "source": [
    "casted_predictions = df['predictions_phi_fs4'].apply(lambda x: 0 if x == -1 else x)\n",
    "conf_matrix = confusion_matrix(y_true=y_true, y_pred=casted_predictions)\n",
    "plt.figure(figsize=(10, 8))\n",
    "sns.heatmap(conf_matrix, annot=True, fmt='d', cmap='Blues', xticklabels=['NO', 'YES'], yticklabels=['NO', 'YES'])\n",
    "plt.xlabel('Predicted labels')\n",
    "plt.ylabel('True labels')\n",
    "plt.title('Confusion matrix')\n",
    "plt.show()"
   ]
  },
  {
   "cell_type": "markdown",
   "metadata": {},
   "source": [
    "The accuracy is even higher than before, as we are providing the model with more examples to learn from.\n",
    "\n",
    "Finally, we test with 6 examples per class."
   ]
  },
  {
   "cell_type": "code",
   "execution_count": 30,
   "metadata": {},
   "outputs": [
    {
     "name": "stdout",
     "output_type": "stream",
     "text": [
      "Tokenized prompts generated.\n",
      "Responses generated.\n",
      "Predictions generated.\n",
      "{'accuracy': 0.6267, 'fail_ratio': 0.0}\n"
     ]
    }
   ],
   "source": [
    "num_per_class = 6\n",
    "\n",
    "np.random.seed(42)\n",
    "examples = build_few_shot_demonstrations(demonstrations, num_per_class)\n",
    "\n",
    "predictions = run_inference_few_shots(df, model, prompt, tokenizer, num_per_class)\n",
    "df['predictions_phi_fs6'] = predictions\n",
    "\n",
    "metrics_phi_fs6 = compute_metrics(df['predictions_phi_fs6'], y_true)\n",
    "print(metrics_phi_fs6)"
   ]
  },
  {
   "cell_type": "markdown",
   "metadata": {},
   "source": [
    "We check the confusion matrix."
   ]
  },
  {
   "cell_type": "code",
   "execution_count": 31,
   "metadata": {},
   "outputs": [
    {
     "data": {
      "image/png": "[encoded data removed]",
      "text/plain": [
       "<Figure size 1000x800 with 2 Axes>"
      ]
     },
     "metadata": {},
     "output_type": "display_data"
    }
   ],
   "source": [
    "casted_predictions = df['predictions_phi_fs6'].apply(lambda x: 0 if x == -1 else x)\n",
    "conf_matrix = confusion_matrix(y_true=y_true, y_pred=casted_predictions)\n",
    "plt.figure(figsize=(10, 8))\n",
    "sns.heatmap(conf_matrix, annot=True, fmt='d', cmap='Blues', xticklabels=['NO', 'YES'], yticklabels=['NO', 'YES'])\n",
    "plt.xlabel('Predicted labels')\n",
    "plt.ylabel('True labels')\n",
    "plt.title('Confusion matrix')\n",
    "plt.show()"
   ]
  },
  {
   "cell_type": "markdown",
   "metadata": {},
   "source": [
    "Unexpectedly, the accuracy is lower than before. This could be due to the fact that the model is overfitting on the examples provided, and it is not able to generalize well on the test set. However, the performances are still way higher than the zero-shot case. \n",
    "\n",
    "We can then conclude that we need to find the right balance between the number of examples provided and the model's generalization capabilities."
   ]
  },
  {
   "cell_type": "markdown",
   "metadata": {},
   "source": [
    "---"
   ]
  },
  {
   "cell_type": "markdown",
   "metadata": {},
   "source": [
    "# LLama v3.2 3B"
   ]
  },
  {
   "cell_type": "markdown",
   "metadata": {},
   "source": [
    "The second model we use is `meta-llama/Llama-3.2-3B-Instruct`. This model has 3B parameters and is a model for text generation and completion. We are using the v3.2 version, which is on the latest version of the model. Having fewer parameters than the previous model, we can expect it to be faster and more efficient, but with a lower performance."
   ]
  },
  {
   "cell_type": "markdown",
   "metadata": {},
   "source": [
    "### Huggingface Login\n",
    "\n",
    "We need to login to Huggingface with another token to use the second model."
   ]
  },
  {
   "cell_type": "code",
   "execution_count": null,
   "metadata": {},
   "outputs": [],
   "source": [
    "token = \"INSERT_TOKEN\"\n",
    "login(token)"
   ]
  },
  {
   "cell_type": "code",
   "execution_count": 33,
   "metadata": {},
   "outputs": [],
   "source": [
    "model_card = \"meta-llama/Llama-3.2-3B-Instruct\"\n",
    "tokenizer = AutoTokenizer.from_pretrained(model_card)\n",
    "tokenizer.pad_token = tokenizer.eos_token\n",
    "\n",
    "terminators = [\n",
    "    tokenizer.eos_token_id,\n",
    "    tokenizer.convert_tokens_to_ids(\"<|eot_id|>\")\n",
    "]"
   ]
  },
  {
   "cell_type": "markdown",
   "metadata": {},
   "source": [
    "Now we build the model pipeline. First of all we define the quantization configuration for the model."
   ]
  },
  {
   "cell_type": "code",
   "execution_count": 34,
   "metadata": {},
   "outputs": [],
   "source": [
    "bnb_config = BitsAndBytesConfig(\n",
    "    load_in_4bit=True,\n",
    "    bnb_4bit_use_double_quant=True,\n",
    "    bnb_4bit_quant_type=\"nf4\",\n",
    "    bnb_4bit_compute_dtype=torch.bfloat16,\n",
    ")"
   ]
  },
  {
   "cell_type": "markdown",
   "metadata": {},
   "source": [
    "We can load the model from Huggingface."
   ]
  },
  {
   "cell_type": "code",
   "execution_count": 35,
   "metadata": {},
   "outputs": [
    {
     "name": "stderr",
     "output_type": "stream",
     "text": [
      "`low_cpu_mem_usage` was None, now default to True since model is quantized.\n"
     ]
    },
    {
     "data": {
      "application/vnd.jupyter.widget-view+json": {
       "model_id": "bf93b6bd74d94e1d803440aecb9ad6e4",
       "version_major": 2,
       "version_minor": 0
      },
      "text/plain": [
       "Loading checkpoint shards:   0%|          | 0/2 [00:00<?, ?it/s]"
      ]
     },
     "metadata": {},
     "output_type": "display_data"
    },
    {
     "data": {
      "text/plain": [
       "LlamaForCausalLM(\n",
       "  (model): LlamaModel(\n",
       "    (embed_tokens): Embedding(128256, 3072)\n",
       "    (layers): ModuleList(\n",
       "      (0-27): 28 x LlamaDecoderLayer(\n",
       "        (self_attn): LlamaSdpaAttention(\n",
       "          (q_proj): Linear4bit(in_features=3072, out_features=3072, bias=False)\n",
       "          (k_proj): Linear4bit(in_features=3072, out_features=1024, bias=False)\n",
       "          (v_proj): Linear4bit(in_features=3072, out_features=1024, bias=False)\n",
       "          (o_proj): Linear4bit(in_features=3072, out_features=3072, bias=False)\n",
       "          (rotary_emb): LlamaRotaryEmbedding()\n",
       "        )\n",
       "        (mlp): LlamaMLP(\n",
       "          (gate_proj): Linear4bit(in_features=3072, out_features=8192, bias=False)\n",
       "          (up_proj): Linear4bit(in_features=3072, out_features=8192, bias=False)\n",
       "          (down_proj): Linear4bit(in_features=8192, out_features=3072, bias=False)\n",
       "          (act_fn): SiLU()\n",
       "        )\n",
       "        (input_layernorm): LlamaRMSNorm((3072,), eps=1e-05)\n",
       "        (post_attention_layernorm): LlamaRMSNorm((3072,), eps=1e-05)\n",
       "      )\n",
       "    )\n",
       "    (norm): LlamaRMSNorm((3072,), eps=1e-05)\n",
       "    (rotary_emb): LlamaRotaryEmbedding()\n",
       "  )\n",
       "  (lm_head): Linear(in_features=3072, out_features=128256, bias=False)\n",
       ")"
      ]
     },
     "execution_count": 35,
     "metadata": {},
     "output_type": "execute_result"
    }
   ],
   "source": [
    "model = AutoModelForCausalLM.from_pretrained(\n",
    "    model_card,\n",
    "    return_dict=True,\n",
    "    quantization_config=bnb_config\n",
    ")\n",
    "\n",
    "model.to('cuda')"
   ]
  },
  {
   "cell_type": "markdown",
   "metadata": {},
   "source": [
    "Then, we can define the generation configuration for the model."
   ]
  },
  {
   "cell_type": "code",
   "execution_count": 36,
   "metadata": {},
   "outputs": [],
   "source": [
    "generation_config = model.generation_config\n",
    "generation_config.max_new_tokens = 2\n",
    "generation_config.eos_token_id = tokenizer.eos_token_id\n",
    "generation_config.pad_token_id = tokenizer.eos_token_id\n",
    "generation_config.do_sample = False\n",
    "generation_config.temperature = None\n",
    "generation_config.top_p = None"
   ]
  },
  {
   "cell_type": "markdown",
   "metadata": {},
   "source": [
    "We check if the quantized model fits into the GPU memory."
   ]
  },
  {
   "cell_type": "code",
   "execution_count": 37,
   "metadata": {},
   "outputs": [
    {
     "name": "stdout",
     "output_type": "stream",
     "text": [
      "GPU: NVIDIA GeForce RTX 4060 Laptop GPU\n",
      "Total GPU memory: 8.00 GB\n",
      "Allocated GPU memory: 4.21 GB\n"
     ]
    }
   ],
   "source": [
    "gpu_name = torch.cuda.get_device_name(0)\n",
    "print(f\"GPU: {gpu_name}\")\n",
    "\n",
    "total_memory = torch.cuda.get_device_properties(0).total_memory\n",
    "print(f\"Total GPU memory: {total_memory / (1024 ** 3):.2f} GB\")\n",
    "\n",
    "allocated_memory = torch.cuda.memory_allocated(0)\n",
    "print(f\"Allocated GPU memory: {allocated_memory / (1024 ** 3):.2f} GB\")"
   ]
  },
  {
   "cell_type": "markdown",
   "metadata": {},
   "source": [
    "We use the same prompt template for zero-shot inference as before."
   ]
  },
  {
   "cell_type": "code",
   "execution_count": 38,
   "metadata": {},
   "outputs": [],
   "source": [
    "prompt = [\n",
    "    {\n",
    "        'role': 'system',\n",
    "        'content': 'You are an annotator for sexism detection.'\n",
    "    },\n",
    "    {\n",
    "        'role': 'user',\n",
    "        'content': \"\"\"Your task is to classify input text as containing sexism or not. Respond only YES or NO.\n",
    "\n",
    "        TEXT:\n",
    "        {text}\n",
    "\n",
    "        ANSWER:\n",
    "        \"\"\"\n",
    "    }\n",
    "]"
   ]
  },
  {
   "cell_type": "markdown",
   "metadata": {},
   "source": [
    "We use Hugging Face custom handling function on the prompt to create our final template. For this model, we set `add_generation_prompt` to `False` in order to add a token that indicates the start of a response generation. Moreover, we set `continue_final_message` to `True`. We make this choice because (differenly from the previous model) this model also generates the roles of the chat (e.g. \"system:\", \"assistant\"), thus causing the extraction of the response to be more complex.\n",
    "\n",
    "Note: the behaviour of the model is caused by how the tokenizer handles the prompt template."
   ]
  },
  {
   "cell_type": "code",
   "execution_count": 39,
   "metadata": {},
   "outputs": [],
   "source": [
    "prompt = tokenizer.apply_chat_template(prompt, tokenize=False, add_generation_prompt=False, continue_final_message=True)"
   ]
  },
  {
   "cell_type": "markdown",
   "metadata": {},
   "source": [
    "All the functions defined for the first model can be used for this model as well, with the exception of the `process_response` function, which needs to be redefined.\n",
    "\n",
    "In particular, we want to split the response by whitespaces, and not by newlines, as the model generates the response in a single line."
   ]
  },
  {
   "cell_type": "code",
   "execution_count": 40,
   "metadata": {},
   "outputs": [],
   "source": [
    "def process_response(response):\n",
    "    \"\"\"\n",
    "      This function takes a textual response generated by the LLM\n",
    "      and processes it to map the response to a binary label.\n",
    "\n",
    "      Inputs:\n",
    "        response: generated response from LLM\n",
    "\n",
    "      Outputs:\n",
    "        parsed binary response: return 1 if YES and 0 if NO\n",
    "    \"\"\"\n",
    "    result = response.split(\" \")[-1].lower()\n",
    "    if \"yes\" in result:\n",
    "        return 1\n",
    "    elif \"no\" in result:\n",
    "        return 0\n",
    "    else:\n",
    "        return -1 # Invalid response, it will then casted to 0 for accuracy calculation. It is used for the fail rate calculation."
   ]
  },
  {
   "cell_type": "markdown",
   "metadata": {},
   "source": [
    "We can now run the inference loop on the dataset."
   ]
  },
  {
   "cell_type": "code",
   "execution_count": 41,
   "metadata": {},
   "outputs": [
    {
     "name": "stdout",
     "output_type": "stream",
     "text": [
      "Tokenized prompts generated.\n",
      "Responses generated.\n",
      "Predictions generated.\n"
     ]
    }
   ],
   "source": [
    "predictions = run_inference(df, model, prompt, tokenizer)\n",
    "df['predictions_llama_zs'] = predictions"
   ]
  },
  {
   "cell_type": "markdown",
   "metadata": {},
   "source": [
    "We now compute the metrics for the zero-shot inference of LLama."
   ]
  },
  {
   "cell_type": "code",
   "execution_count": 42,
   "metadata": {},
   "outputs": [
    {
     "name": "stdout",
     "output_type": "stream",
     "text": [
      "{'accuracy': 0.5133, 'fail_ratio': 0.8533}\n"
     ]
    }
   ],
   "source": [
    "metrics_llama_zs = compute_metrics(df['predictions_llama_zs'], y_true)\n",
    "print(metrics_llama_zs)"
   ]
  },
  {
   "cell_type": "markdown",
   "metadata": {},
   "source": [
    "The fail ratio is very high, causing a low accuracy. This is due to the fact that the model does not have information about how to generate the correct response (i.e. it does not know that it has to answer just `YES` or `NO` right after the end of the input). \n",
    "\n",
    "This difference between the two models is probably due to the different training data and fine-tuning process, but also due to the different sizes. Further analysis will be discussed in the error analysis section."
   ]
  },
  {
   "cell_type": "markdown",
   "metadata": {},
   "source": [
    "We can print the confusion matrix to see the distribution of the responses."
   ]
  },
  {
   "cell_type": "code",
   "execution_count": 43,
   "metadata": {},
   "outputs": [
    {
     "data": {
      "image/png": "[encoded data removed]",
      "text/plain": [
       "<Figure size 1000x800 with 2 Axes>"
      ]
     },
     "metadata": {},
     "output_type": "display_data"
    }
   ],
   "source": [
    "casted_predictions = df['predictions_llama_zs'].apply(lambda x: 0 if x == -1 else x)\n",
    "conf_matrix = confusion_matrix(y_true=y_true, y_pred=casted_predictions)\n",
    "plt.figure(figsize=(10, 8))\n",
    "sns.heatmap(conf_matrix, annot=True, fmt='d', cmap='Blues', xticklabels=['NO', 'YES'], yticklabels=['NO', 'YES'])\n",
    "plt.xlabel('Predicted labels')\n",
    "plt.ylabel('True labels')\n",
    "plt.title('Confusion matrix')\n",
    "plt.show()"
   ]
  },
  {
   "cell_type": "markdown",
   "metadata": {},
   "source": [
    "For the few-shot inference, we define again the prompt template."
   ]
  },
  {
   "cell_type": "code",
   "execution_count": 44,
   "metadata": {},
   "outputs": [],
   "source": [
    "prompt = [\n",
    "    {\n",
    "        'role': 'system',\n",
    "        'content': 'You are an annotator for sexism detection.'\n",
    "    },\n",
    "    {\n",
    "        'role': 'user',\n",
    "        'content': \"\"\"Your task is to classify input text as containing sexism or not. Respond only YES or NO.\n",
    "\n",
    "        EXAMPLES:\n",
    "        {examples}\n",
    "\n",
    "        TEXT:\n",
    "        {text}\n",
    "\n",
    "        ANSWER:\n",
    "        \"\"\"\n",
    "    }\n",
    "]"
   ]
  },
  {
   "cell_type": "markdown",
   "metadata": {},
   "source": [
    "We then run the inference loop on the dataset. We first start with 2 examples for each class."
   ]
  },
  {
   "cell_type": "code",
   "execution_count": 45,
   "metadata": {},
   "outputs": [
    {
     "name": "stdout",
     "output_type": "stream",
     "text": [
      "Tokenized prompts generated.\n",
      "Responses generated.\n",
      "Predictions generated.\n",
      "{'accuracy': 0.63, 'fail_ratio': 0.0133}\n"
     ]
    }
   ],
   "source": [
    "num_per_class = 2\n",
    "np.random.seed(42)\n",
    "\n",
    "prompt = tokenizer.apply_chat_template(prompt, tokenize=False, add_generation_prompt=False, continue_final_message=True)\n",
    "predictions = run_inference_few_shots(df, model, prompt, tokenizer, num_per_class)\n",
    "df['predictions_llama_fs2'] = predictions\n",
    "\n",
    "metrics_llama_fs2 = compute_metrics(df['predictions_llama_fs2'], y_true)\n",
    "print(metrics_llama_fs2)"
   ]
  },
  {
   "cell_type": "markdown",
   "metadata": {},
   "source": [
    "As we can see, the results are way better than the zero-shot case. This is mainly because the model understands that it must generate a `YES` or `NO` response right after the prompt."
   ]
  },
  {
   "cell_type": "markdown",
   "metadata": {},
   "source": [
    "We can print the confusion matrix to see the distribution of the responses."
   ]
  },
  {
   "cell_type": "code",
   "execution_count": 46,
   "metadata": {},
   "outputs": [
    {
     "data": {
      "image/png": "[encoded data removed]",
      "text/plain": [
       "<Figure size 1000x800 with 2 Axes>"
      ]
     },
     "metadata": {},
     "output_type": "display_data"
    }
   ],
   "source": [
    "casted_predictions = df['predictions_llama_fs2'].apply(lambda x: 0 if x == -1 else x)\n",
    "conf_matrix = confusion_matrix(y_true=y_true, y_pred=casted_predictions)\n",
    "plt.figure(figsize=(10, 8))\n",
    "sns.heatmap(conf_matrix, annot=True, fmt='d', cmap='Blues', xticklabels=['NO', 'YES'], yticklabels=['NO', 'YES'])\n",
    "plt.xlabel('Predicted labels')\n",
    "plt.ylabel('True labels')\n",
    "plt.title('Confusion matrix')\n",
    "plt.show()"
   ]
  },
  {
   "cell_type": "markdown",
   "metadata": {},
   "source": [
    "We repeat the process using 4 examples for each class."
   ]
  },
  {
   "cell_type": "code",
   "execution_count": 47,
   "metadata": {},
   "outputs": [
    {
     "name": "stdout",
     "output_type": "stream",
     "text": [
      "Tokenized prompts generated.\n",
      "Responses generated.\n",
      "Predictions generated.\n",
      "{'accuracy': 0.6333, 'fail_ratio': 0.0267}\n"
     ]
    }
   ],
   "source": [
    "num_per_class = 4\n",
    "np.random.seed(42)\n",
    "\n",
    "predictions = run_inference_few_shots(df, model, prompt, tokenizer, num_per_class)\n",
    "df['predictions_llama_fs4'] = predictions\n",
    "metrics_llama_fs4 = compute_metrics(df['predictions_llama_fs4'], y_true)\n",
    "print(metrics_llama_fs4)"
   ]
  },
  {
   "cell_type": "markdown",
   "metadata": {},
   "source": [
    "The fail ratio slightly increases, but the accuracy is still high."
   ]
  },
  {
   "cell_type": "markdown",
   "metadata": {},
   "source": [
    "We print the confusion matrix."
   ]
  },
  {
   "cell_type": "code",
   "execution_count": 48,
   "metadata": {},
   "outputs": [
    {
     "data": {
      "image/png": "[encoded data removed]",
      "text/plain": [
       "<Figure size 1000x800 with 2 Axes>"
      ]
     },
     "metadata": {},
     "output_type": "display_data"
    }
   ],
   "source": [
    "casted_predictions = df['predictions_llama_fs4'].apply(lambda x: 0 if x == -1 else x)\n",
    "conf_matrix = confusion_matrix(y_true=y_true, y_pred=casted_predictions)\n",
    "plt.figure(figsize=(10, 8))\n",
    "sns.heatmap(conf_matrix, annot=True, fmt='d', cmap='Blues', xticklabels=['NO', 'YES'], yticklabels=['NO', 'YES'])\n",
    "plt.xlabel('Predicted labels')\n",
    "plt.ylabel('True labels')\n",
    "plt.title('Confusion matrix')\n",
    "plt.show()"
   ]
  },
  {
   "cell_type": "markdown",
   "metadata": {},
   "source": [
    "We repeat the process using 6 examples for each class."
   ]
  },
  {
   "cell_type": "code",
   "execution_count": 49,
   "metadata": {},
   "outputs": [
    {
     "name": "stdout",
     "output_type": "stream",
     "text": [
      "Tokenized prompts generated.\n",
      "Responses generated.\n",
      "Predictions generated.\n",
      "{'accuracy': 0.6067, 'fail_ratio': 0.0233}\n"
     ]
    }
   ],
   "source": [
    "num_per_class = 6\n",
    "np.random.seed(42)\n",
    "\n",
    "predictions = run_inference_few_shots(df, model, prompt, tokenizer, num_per_class)\n",
    "df['predictions_llama_fs6'] = predictions\n",
    "metrics_llama_fs6 = compute_metrics(df['predictions_llama_fs6'], y_true)\n",
    "print(metrics_llama_fs6)"
   ]
  },
  {
   "cell_type": "markdown",
   "metadata": {},
   "source": [
    "We have basically the same results as before, with a slightly higher fail ratio. As we have seen with the previous model, we need to find the right balance between the number of examples provided and the model's generalization capabilities."
   ]
  },
  {
   "cell_type": "markdown",
   "metadata": {},
   "source": [
    "We print the confusion matrix."
   ]
  },
  {
   "cell_type": "code",
   "execution_count": 50,
   "metadata": {},
   "outputs": [
    {
     "data": {
      "image/png": "[encoded data removed]",
      "text/plain": [
       "<Figure size 1000x800 with 2 Axes>"
      ]
     },
     "metadata": {},
     "output_type": "display_data"
    }
   ],
   "source": [
    "casted_predictions = df['predictions_llama_fs6'].apply(lambda x: 0 if x == -1 else x)\n",
    "conf_matrix = confusion_matrix(y_true=y_true, y_pred=casted_predictions)\n",
    "plt.figure(figsize=(10, 8))\n",
    "sns.heatmap(conf_matrix, annot=True, fmt='d', cmap='Blues', xticklabels=['NO', 'YES'], yticklabels=['NO', 'YES'])\n",
    "plt.xlabel('Predicted labels')\n",
    "plt.ylabel('True labels')\n",
    "plt.title('Confusion matrix')\n",
    "plt.show()"
   ]
  },
  {
   "cell_type": "markdown",
   "metadata": {},
   "source": [
    "For the error analysis, we create a dataframe with the accuracy and the fail ratio for each model and each number of examples provided."
   ]
  },
  {
   "cell_type": "code",
   "execution_count": 51,
   "metadata": {},
   "outputs": [],
   "source": [
    "results_phi_columns = ['accuracy_phi_zs', 'fail_ratio_phi_zs', 'accuracy_phi_fs2', 'fail_ratio_phi_fs2', 'accuracy_phi_fs4', \n",
    "                       'fail_ratio_phi_fs4', 'accuracy_phi_fs6', 'fail_ratio_phi_fs6']\n",
    "\n",
    "results_llama_columns = ['accuracy_llama_zs', 'fail_ratio_llama_zs', 'accuracy_llama_fs2', 'fail_ratio_llama_fs2', 'accuracy_llama_fs4',\n",
    "                            'fail_ratio_llama_fs4', 'accuracy_llama_fs6', 'fail_ratio_llama_fs6']\n",
    "\n",
    "results_phi_df = pd.DataFrame(columns=results_phi_columns)\n",
    "results_llama_df = pd.DataFrame(columns=results_llama_columns)\n",
    "\n",
    "results_phi_df.loc[0] = [metrics_phi_zs['accuracy'], metrics_phi_zs['fail_ratio'], metrics_phi_fs2['accuracy'], metrics_phi_fs2['fail_ratio'],\n",
    "                            metrics_phi_fs4['accuracy'], metrics_phi_fs4['fail_ratio'], metrics_phi_fs6['accuracy'], metrics_phi_fs6['fail_ratio']]\n",
    "results_llama_df.loc[0] = [metrics_llama_zs['accuracy'], metrics_llama_zs['fail_ratio'], metrics_llama_fs2['accuracy'], metrics_llama_fs2['fail_ratio'],\n",
    "                            metrics_llama_fs4['accuracy'], metrics_llama_fs4['fail_ratio'], metrics_llama_fs6['accuracy'], metrics_llama_fs6['fail_ratio']]"
   ]
  },
  {
   "cell_type": "markdown",
   "metadata": {},
   "source": [
    "---"
   ]
  },
  {
   "cell_type": "markdown",
   "metadata": {},
   "source": [
    "# [Task 6 - 1.0 points] Error Analysis\n",
    "\n",
    "We are now interested in evaluating model responses and comparing their performance.\n",
    "\n",
    "This analysis helps us in understanding\n",
    "\n",
    "- Classification task performance gap: are the models good at this task?\n",
    "- Generation quality: which kind of responses do models generate?\n",
    "- Errors: which kind of mistakes do models do?"
   ]
  },
  {
   "cell_type": "markdown",
   "metadata": {},
   "source": [
    "We display the results of the Phi model with the different configurations."
   ]
  },
  {
   "cell_type": "code",
   "execution_count": 52,
   "metadata": {},
   "outputs": [
    {
     "data": {
      "text/html": [
       "<div>\n",
       "<style scoped>\n",
       "    .dataframe tbody tr th:only-of-type {\n",
       "        vertical-align: middle;\n",
       "    }\n",
       "\n",
       "    .dataframe tbody tr th {\n",
       "        vertical-align: top;\n",
       "    }\n",
       "\n",
       "    .dataframe thead th {\n",
       "        text-align: right;\n",
       "    }\n",
       "</style>\n",
       "<table border=\"1\" class=\"dataframe\">\n",
       "  <thead>\n",
       "    <tr style=\"text-align: right;\">\n",
       "      <th></th>\n",
       "      <th>accuracy_phi_zs</th>\n",
       "      <th>fail_ratio_phi_zs</th>\n",
       "      <th>accuracy_phi_fs2</th>\n",
       "      <th>fail_ratio_phi_fs2</th>\n",
       "      <th>accuracy_phi_fs4</th>\n",
       "      <th>fail_ratio_phi_fs4</th>\n",
       "      <th>accuracy_phi_fs6</th>\n",
       "      <th>fail_ratio_phi_fs6</th>\n",
       "    </tr>\n",
       "  </thead>\n",
       "  <tbody>\n",
       "    <tr>\n",
       "      <th>0</th>\n",
       "      <td>0.59</td>\n",
       "      <td>0.0</td>\n",
       "      <td>0.6467</td>\n",
       "      <td>0.0</td>\n",
       "      <td>0.6767</td>\n",
       "      <td>0.0</td>\n",
       "      <td>0.6267</td>\n",
       "      <td>0.0</td>\n",
       "    </tr>\n",
       "  </tbody>\n",
       "</table>\n",
       "</div>"
      ],
      "text/plain": [
       "   accuracy_phi_zs  fail_ratio_phi_zs  accuracy_phi_fs2  fail_ratio_phi_fs2  \\\n",
       "0             0.59                0.0            0.6467                 0.0   \n",
       "\n",
       "   accuracy_phi_fs4  fail_ratio_phi_fs4  accuracy_phi_fs6  fail_ratio_phi_fs6  \n",
       "0            0.6767                 0.0            0.6267                 0.0  "
      ]
     },
     "execution_count": 52,
     "metadata": {},
     "output_type": "execute_result"
    }
   ],
   "source": [
    "results_phi_df"
   ]
  },
  {
   "cell_type": "markdown",
   "metadata": {},
   "source": [
    "As expected the accuracy increases with the number of examples provided, until we reach a plateau with 4 examples per class. We hypotesize that the decrease of the accuracy with 6 examples could be due to too many different examples offering a too broad context. The fail ratio is always 0, which means that the model is able to generate the correct response. Overall, the model performs well on the classification task."
   ]
  },
  {
   "cell_type": "markdown",
   "metadata": {},
   "source": [
    "We display the results of the Llama model with the different configurations."
   ]
  },
  {
   "cell_type": "code",
   "execution_count": 53,
   "metadata": {},
   "outputs": [
    {
     "data": {
      "text/html": [
       "<div>\n",
       "<style scoped>\n",
       "    .dataframe tbody tr th:only-of-type {\n",
       "        vertical-align: middle;\n",
       "    }\n",
       "\n",
       "    .dataframe tbody tr th {\n",
       "        vertical-align: top;\n",
       "    }\n",
       "\n",
       "    .dataframe thead th {\n",
       "        text-align: right;\n",
       "    }\n",
       "</style>\n",
       "<table border=\"1\" class=\"dataframe\">\n",
       "  <thead>\n",
       "    <tr style=\"text-align: right;\">\n",
       "      <th></th>\n",
       "      <th>accuracy_llama_zs</th>\n",
       "      <th>fail_ratio_llama_zs</th>\n",
       "      <th>accuracy_llama_fs2</th>\n",
       "      <th>fail_ratio_llama_fs2</th>\n",
       "      <th>accuracy_llama_fs4</th>\n",
       "      <th>fail_ratio_llama_fs4</th>\n",
       "      <th>accuracy_llama_fs6</th>\n",
       "      <th>fail_ratio_llama_fs6</th>\n",
       "    </tr>\n",
       "  </thead>\n",
       "  <tbody>\n",
       "    <tr>\n",
       "      <th>0</th>\n",
       "      <td>0.5133</td>\n",
       "      <td>0.8533</td>\n",
       "      <td>0.63</td>\n",
       "      <td>0.0133</td>\n",
       "      <td>0.6333</td>\n",
       "      <td>0.0267</td>\n",
       "      <td>0.6067</td>\n",
       "      <td>0.0233</td>\n",
       "    </tr>\n",
       "  </tbody>\n",
       "</table>\n",
       "</div>"
      ],
      "text/plain": [
       "   accuracy_llama_zs  fail_ratio_llama_zs  accuracy_llama_fs2  \\\n",
       "0             0.5133               0.8533                0.63   \n",
       "\n",
       "   fail_ratio_llama_fs2  accuracy_llama_fs4  fail_ratio_llama_fs4  \\\n",
       "0                0.0133              0.6333                0.0267   \n",
       "\n",
       "   accuracy_llama_fs6  fail_ratio_llama_fs6  \n",
       "0              0.6067                0.0233  "
      ]
     },
     "execution_count": 53,
     "metadata": {},
     "output_type": "execute_result"
    }
   ],
   "source": [
    "results_llama_df"
   ]
  },
  {
   "cell_type": "markdown",
   "metadata": {},
   "source": [
    "The model performs extremely badly with the zero-shots configuration, instead we have a significant improvement with the few-shots prompting.\n",
    "As expected the accuracy increases with the number of examples provided, until we reach a plateau with 4 examples per class. We hypotesize that the decrease of the accuracy with 6 examples could be due to too many different examples offering a too broad context. In this case the fail ratio is not 0 but it is very low, which means that the model is able to generate the correct response. Overall, the model performs well on the classification task considering the low amount of the parameters."
   ]
  },
  {
   "cell_type": "markdown",
   "metadata": {},
   "source": [
    "We now want to understand the high fail ratio of the Llama model. We print the first 5 illegal responses generated by the model."
   ]
  },
  {
   "cell_type": "code",
   "execution_count": 72,
   "metadata": {},
   "outputs": [],
   "source": [
    "llama_zero_shot_errors=df[df['predictions_llama_zs'] == -1]\n",
    "error_texts = []\n",
    "for i in range(5):\n",
    "    error_texts.append(llama_zero_shot_errors['text'].iloc[i])"
   ]
  },
  {
   "cell_type": "code",
   "execution_count": 74,
   "metadata": {},
   "outputs": [
    {
     "name": "stdout",
     "output_type": "stream",
     "text": [
      "Input text:  The boys must be gaming because there goes the wifi.\n",
      "answer:\n",
      "Input text:  Look at those eyes. Either someone unexpectedly just fisted her up the dumper, or that bitch is certifiably a nutburger.\n",
      "answer:\n",
      "Input text:  Old man mogs everyone in this sub\n",
      "answer:\n",
      "Input text:  So you run back to daddy whenever you need help. I thought men were sooo bad? Lol. Like I said at the end you need the help of men and can't do shit on your own. Your dad must be a major cuck to raise such a stupid daughter, what went wrong\n",
      "answer:\n",
      "Input text:  Don't think that using the word \"feminine\" wasn't strategic, Mo. It was. And I couldn't agree more with everything else you wrote. They attempt to bring the rest of us down to their level. Not gonna happen ... Lol, men are a gift from God.\n",
      "answer:\n"
     ]
    }
   ],
   "source": [
    "prompt = [\n",
    "    {\n",
    "        'role': 'system',\n",
    "        'content': 'You are an annotator for sexism detection.'\n",
    "    },\n",
    "    {\n",
    "        'role': 'user',\n",
    "        'content': \"\"\"Your task is to classify input text as containing sexism or not. Respond only YES or NO.\n",
    "\n",
    "        TEXT:\n",
    "        {text}\n",
    "\n",
    "        ANSWER:\n",
    "        \"\"\"\n",
    "    }\n",
    "]\n",
    "\n",
    "prompt = tokenizer.apply_chat_template(prompt, tokenize=False, add_generation_prompt=False, continue_final_message=True)\n",
    "\n",
    "tokenized_prompts = prepare_prompts(error_texts, prompt, tokenizer)\n",
    "responses = generate_responses(model, tokenized_prompts)\n",
    "for i in range(len(responses)):\n",
    "    print(\"Input text: \", error_texts[i])\n",
    "    print(responses[i].split(\" \")[-1].lower())"
   ]
  },
  {
   "cell_type": "markdown",
   "metadata": {},
   "source": [
    "As we can see the model does not answer anything in all cases shown. This could be caused by the tightness of the answer length we imposed. It seems that the model tends to insert spaces in the responses and for this reason they cause the model to reach the number of maximum tokens generated without actually addressing the task. This is a common problem with LLMs, as they tend to generate text that is not needed. This is why we have a fail ratio that is really high when we have no examples of correct answers.\n",
    "\n",
    "For the few-shot case, we can see that the model is able to generate the correct response in most cases. This leads to a low fail ratio and a high accuracy, since the model has more information about the structure of the response."
   ]
  },
  {
   "cell_type": "markdown",
   "metadata": {},
   "source": [
    "From the confusion matrices we can observe that the models tend to generate a significant amount of false positive results. This could be caused by the bias of the models, built to avoid certain types of behavior. In fact, the models are instructed to avoid certain topics and in-depth discussions on sexism in general. This could lead to an overreaction to certain types of words or phrases.\n",
    "\n",
    "If we use an uncensored model we could have a better performance but that could lead to more false negatives, being not sensible towards certain phrases."
   ]
  },
  {
   "cell_type": "markdown",
   "metadata": {},
   "source": [
    "We are aware that the results are not near the optimal but we considered only models with a limited number of parameters, and it is significant the imporvement from 3B to 3.8B parameters. We expect that by using bigger models, like Llama-3.2-8B-Instruct, we could achieve better performances. Since there was no strict requirement on the number of parameters we preffered to use the smaller models to avoid some problems caused by the colab environment. For this reason we needed to work locally and we adapted to the hardwere we had available."
   ]
  },
  {
   "cell_type": "markdown",
   "metadata": {},
   "source": [
    "A possible improvement to this task could be the randomization of the examples provided to the model at each prediction, possibly selecting the most related with the text considered. This could be done by using some techniques to find related documents and phrases (e.g. BM25, LDA, etc.). This could lead to a better generalization of the model and a better performance on the test set."
   ]
  },
  {
   "cell_type": "markdown",
   "metadata": {
    "id": "8QWlVXJgLJne",
    "slideshow": {
     "slide_type": "slide"
    }
   },
   "source": [
    "# [Task 7 - 1.0 points] Report\n",
    "\n",
    "Wrap up your experiment in a short report (up to 2 pages)."
   ]
  },
  {
   "cell_type": "markdown",
   "metadata": {
    "id": "fURV8zfPLJne",
    "slideshow": {
     "slide_type": "slide"
    }
   },
   "source": [
    "# Submission\n",
    "\n",
    "* **Submit** your report in PDF format.\n",
    "* **Submit** your python notebook.\n",
    "* Make sure your notebook is **well organized**, with no temporary code, commented sections, tests, etc..."
   ]
  },
  {
   "cell_type": "markdown",
   "metadata": {
    "id": "Jpr-LSK7LJnh",
    "slideshow": {
     "slide_type": "slide"
    }
   },
   "source": [
    "# The End"
   ]
  }
 ],
 "metadata": {
  "celltoolbar": "Slideshow",
  "colab": {
   "provenance": [],
   "toc_visible": true
  },
  "kernelspec": {
   "display_name": "Python 3",
   "language": "python",
   "name": "python3"
  },
  "language_info": {
   "codemirror_mode": {
    "name": "ipython",
    "version": 3
   },
   "file_extension": ".py",
   "mimetype": "text/x-python",
   "name": "python",
   "nbconvert_exporter": "python",
   "pygments_lexer": "ipython3",
   "version": "3.12.8"
  }
 },
 "nbformat": 4,
 "nbformat_minor": 1
}
